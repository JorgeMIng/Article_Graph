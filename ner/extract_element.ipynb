{
 "cells": [
  {
   "cell_type": "code",
   "execution_count": 1,
   "metadata": {},
   "outputs": [],
   "source": [
    "from extract_ner import get_all_ners,get_all_projects\n",
    "from pdf_analyzer.config_load import load_config\n",
    "from pdf_analyzer.api import API\n",
    "from omegaconf import OmegaConf"
   ]
  },
  {
   "cell_type": "code",
   "execution_count": 2,
   "metadata": {},
   "outputs": [
    {
     "name": "stderr",
     "output_type": "stream",
     "text": [
      "Some weights of the model checkpoint at dslim/bert-base-NER were not used when initializing BertForTokenClassification: ['bert.pooler.dense.weight', 'bert.pooler.dense.bias']\n",
      "- This IS expected if you are initializing BertForTokenClassification from the checkpoint of a model trained on another task or with another architecture (e.g. initializing a BertForSequenceClassification model from a BertForPreTraining model).\n",
      "- This IS NOT expected if you are initializing BertForTokenClassification from the checkpoint of a model that you expect to be exactly identical (initializing a BertForSequenceClassification model from a BertForSequenceClassification model).\n"
     ]
    }
   ],
   "source": [
    "from transformers import pipeline\n",
    "\n",
    "pipe = pipeline(\"token-classification\", model=\"dslim/bert-base-NER\")"
   ]
  },
  {
   "cell_type": "code",
   "execution_count": 3,
   "metadata": {},
   "outputs": [
    {
     "name": "stdout",
     "output_type": "stream",
     "text": [
      "SERVER_CONFIG\n",
      "url:\n",
      "  protocol: http\n",
      "  api_domain: yordi111nas.synology.me\n",
      "  port: 8070\n",
      "\n",
      "CLOUD_CONFIG\n",
      "data:\n",
      "  data_dir: data/PDFs\n",
      "  format: .pdf\n",
      "  recursive: true\n",
      "grobid:\n",
      "  cache: true\n",
      "  cache_dir: data/xmls\n",
      "  operation_key: processFulltextDocument\n",
      "  format: .grobid.tei.xml\n",
      "  recursive: true\n",
      "\n",
      "GROBID server is up and running\n",
      "grobid_logger: 2024-05-22 13:19:01,128 | INFO | API.py:44 | 27256 >>> All files have been process by the api\n"
     ]
    }
   ],
   "source": [
    "server_config = load_config(\"config/api/grobid-server-config.yaml\")\n",
    "extract_config = load_config(\"config/api/api-base-config.yaml\")\n",
    "print(\"SERVER_CONFIG\\n\"+OmegaConf.to_yaml(server_config))\n",
    "print(\"CLOUD_CONFIG\\n\"+OmegaConf.to_yaml(extract_config))\n",
    "\n",
    "base_api = API.BaseAPI(extract_config,server_config)\n",
    "\n",
    "files = base_api.proccesed_files"
   ]
  },
  {
   "cell_type": "code",
   "execution_count": 4,
   "metadata": {},
   "outputs": [
    {
     "data": {
      "text/plain": [
       "[{'name': 'PolarB',\n",
       "  'score': 0.8971113,\n",
       "  'type': 'ORG',\n",
       "  'org_id': 0,\n",
       "  'paper_id': 10},\n",
       " {'name': 'Centre National de la Recherche Scientifique of',\n",
       "  'score': 0.902651,\n",
       "  'type': 'ORG',\n",
       "  'org_id': 1,\n",
       "  'paper_id': 10},\n",
       " {'name': 'CNRS',\n",
       "  'score': 0.9043675,\n",
       "  'type': 'ORG',\n",
       "  'org_id': 2,\n",
       "  'paper_id': 10},\n",
       " {'name': 'Pérez & Granger',\n",
       "  'score': 0.8425125,\n",
       "  'type': 'ORG',\n",
       "  'org_id': 3,\n",
       "  'paper_id': 13},\n",
       " {'name': 'NASA',\n",
       "  'score': 0.9977794,\n",
       "  'type': 'ORG',\n",
       "  'org_id': 4,\n",
       "  'paper_id': 16},\n",
       " {'name': 'NAS',\n",
       "  'score': 0.81430924,\n",
       "  'type': 'ORG',\n",
       "  'org_id': 5,\n",
       "  'paper_id': 16},\n",
       " {'name': 'SRG',\n",
       "  'score': 0.86928785,\n",
       "  'type': 'ORG',\n",
       "  'org_id': 6,\n",
       "  'paper_id': 18},\n",
       " {'name': 'Russian Space Agency',\n",
       "  'score': 0.9969481,\n",
       "  'type': 'ORG',\n",
       "  'org_id': 7,\n",
       "  'paper_id': 18},\n",
       " {'name': 'Ros kosmos',\n",
       "  'score': 0.97922397,\n",
       "  'type': 'ORG',\n",
       "  'org_id': 8,\n",
       "  'paper_id': 18},\n",
       " {'name': 'Russian Academy of Sciences',\n",
       "  'score': 0.9965502,\n",
       "  'type': 'ORG',\n",
       "  'org_id': 9,\n",
       "  'paper_id': 18},\n",
       " {'name': 'Space Research Institute',\n",
       "  'score': 0.9974886,\n",
       "  'type': 'ORG',\n",
       "  'org_id': 10,\n",
       "  'paper_id': 18},\n",
       " {'name': 'IKI',\n",
       "  'score': 0.99041396,\n",
       "  'type': 'ORG',\n",
       "  'org_id': 11,\n",
       "  'paper_id': 18},\n",
       " {'name': 'Deutsches Zentrum für Luft-und Raumfahrt',\n",
       "  'score': 0.9713877,\n",
       "  'type': 'ORG',\n",
       "  'org_id': 12,\n",
       "  'paper_id': 18},\n",
       " {'name': 'DLR',\n",
       "  'score': 0.9945896,\n",
       "  'type': 'ORG',\n",
       "  'org_id': 13,\n",
       "  'paper_id': 18},\n",
       " {'name': 'SR',\n",
       "  'score': 0.83772075,\n",
       "  'type': 'ORG',\n",
       "  'org_id': 14,\n",
       "  'paper_id': 18},\n",
       " {'name': 'Lavochkin Association',\n",
       "  'score': 0.99238205,\n",
       "  'type': 'ORG',\n",
       "  'org_id': 15,\n",
       "  'paper_id': 18},\n",
       " {'name': 'NPOL',\n",
       "  'score': 0.91329896,\n",
       "  'type': 'ORG',\n",
       "  'org_id': 16,\n",
       "  'paper_id': 18},\n",
       " {'name': 'Max Planck Institute for Extraterrestrial Physics',\n",
       "  'score': 0.93771666,\n",
       "  'type': 'ORG',\n",
       "  'org_id': 17,\n",
       "  'paper_id': 18},\n",
       " {'name': 'MPE',\n",
       "  'score': 0.97858167,\n",
       "  'type': 'ORG',\n",
       "  'org_id': 18,\n",
       "  'paper_id': 18},\n",
       " {'name': 'Karl Remeis Observatory Bamberg & ECAP',\n",
       "  'score': 0.84523857,\n",
       "  'type': 'ORG',\n",
       "  'org_id': 19,\n",
       "  'paper_id': 18},\n",
       " {'name': 'University of Hamburg Observatory',\n",
       "  'score': 0.9604489,\n",
       "  'type': 'ORG',\n",
       "  'org_id': 20,\n",
       "  'paper_id': 18},\n",
       " {'name': 'Leibniz Institute for Astrophysics Potsdam',\n",
       "  'score': 0.9210053,\n",
       "  'type': 'ORG',\n",
       "  'org_id': 21,\n",
       "  'paper_id': 18},\n",
       " {'name': 'AIP',\n",
       "  'score': 0.99374604,\n",
       "  'type': 'ORG',\n",
       "  'org_id': 22,\n",
       "  'paper_id': 18},\n",
       " {'name': 'Institute for Astronomy and Astrophysics',\n",
       "  'score': 0.9861826,\n",
       "  'type': 'ORG',\n",
       "  'org_id': 23,\n",
       "  'paper_id': 18},\n",
       " {'name': 'Max Planck Society',\n",
       "  'score': 0.98985374,\n",
       "  'type': 'ORG',\n",
       "  'org_id': 24,\n",
       "  'paper_id': 18},\n",
       " {'name': 'Ludwig Maximilians Universität Munich',\n",
       "  'score': 0.9744256,\n",
       "  'type': 'ORG',\n",
       "  'org_id': 25,\n",
       "  'paper_id': 18},\n",
       " {'name': 'eROSITA',\n",
       "  'score': 0.86477244,\n",
       "  'type': 'ORG',\n",
       "  'org_id': 26,\n",
       "  'paper_id': 18},\n",
       " {'name': 'VPLanet',\n",
       "  'score': 0.954689,\n",
       "  'type': 'ORG',\n",
       "  'org_id': 27,\n",
       "  'paper_id': 18},\n",
       " {'name': 'Office of Naval Research',\n",
       "  'score': 0.9967265,\n",
       "  'type': 'ORG',\n",
       "  'org_id': 28,\n",
       "  'paper_id': 22},\n",
       " {'name': 'Google',\n",
       "  'score': 0.99887425,\n",
       "  'type': 'ORG',\n",
       "  'org_id': 29,\n",
       "  'paper_id': 22},\n",
       " {'name': 'OpenAI',\n",
       "  'score': 0.9626693,\n",
       "  'type': 'ORG',\n",
       "  'org_id': 30,\n",
       "  'paper_id': 23},\n",
       " {'name': 'TerraSwarm',\n",
       "  'score': 0.99291795,\n",
       "  'type': 'ORG',\n",
       "  'org_id': 31,\n",
       "  'paper_id': 24},\n",
       " {'name': 'STARnet',\n",
       "  'score': 0.87451047,\n",
       "  'type': 'ORG',\n",
       "  'org_id': 32,\n",
       "  'paper_id': 24},\n",
       " {'name': 'Semiconductor Research Corporation',\n",
       "  'score': 0.9271029,\n",
       "  'type': 'ORG',\n",
       "  'org_id': 33,\n",
       "  'paper_id': 24},\n",
       " {'name': 'MARCO',\n",
       "  'score': 0.9814992,\n",
       "  'type': 'ORG',\n",
       "  'org_id': 34,\n",
       "  'paper_id': 24},\n",
       " {'name': 'DARPA',\n",
       "  'score': 0.976103,\n",
       "  'type': 'ORG',\n",
       "  'org_id': 35,\n",
       "  'paper_id': 24}]"
      ]
     },
     "execution_count": 4,
     "metadata": {},
     "output_type": "execute_result"
    }
   ],
   "source": [
    "all_orgs_rel,all_orgs=get_all_ners(files,pipe)\n",
    "all_orgs_rel\n"
   ]
  },
  {
   "cell_type": "code",
   "execution_count": 5,
   "metadata": {},
   "outputs": [
    {
     "data": {
      "text/plain": [
       "[{'name': 'PolarB', 'type': 'ORG', 'org_id': 0},\n",
       " {'name': 'Centre National de la Recherche Scientifique of',\n",
       "  'type': 'ORG',\n",
       "  'org_id': 1},\n",
       " {'name': 'CNRS', 'type': 'ORG', 'org_id': 2},\n",
       " {'name': 'Pérez & Granger', 'type': 'ORG', 'org_id': 3},\n",
       " {'name': 'NASA', 'type': 'ORG', 'org_id': 4},\n",
       " {'name': 'NAS', 'type': 'ORG', 'org_id': 5},\n",
       " {'name': 'SRG', 'type': 'ORG', 'org_id': 6},\n",
       " {'name': 'Russian Space Agency', 'type': 'ORG', 'org_id': 7},\n",
       " {'name': 'Ros kosmos', 'type': 'ORG', 'org_id': 8},\n",
       " {'name': 'Russian Academy of Sciences', 'type': 'ORG', 'org_id': 9},\n",
       " {'name': 'Space Research Institute', 'type': 'ORG', 'org_id': 10},\n",
       " {'name': 'IKI', 'type': 'ORG', 'org_id': 11},\n",
       " {'name': 'Deutsches Zentrum für Luft-und Raumfahrt',\n",
       "  'type': 'ORG',\n",
       "  'org_id': 12},\n",
       " {'name': 'DLR', 'type': 'ORG', 'org_id': 13},\n",
       " {'name': 'SR', 'type': 'ORG', 'org_id': 14},\n",
       " {'name': 'Lavochkin Association', 'type': 'ORG', 'org_id': 15},\n",
       " {'name': 'NPOL', 'type': 'ORG', 'org_id': 16},\n",
       " {'name': 'Max Planck Institute for Extraterrestrial Physics',\n",
       "  'type': 'ORG',\n",
       "  'org_id': 17},\n",
       " {'name': 'MPE', 'type': 'ORG', 'org_id': 18},\n",
       " {'name': 'Karl Remeis Observatory Bamberg & ECAP',\n",
       "  'type': 'ORG',\n",
       "  'org_id': 19},\n",
       " {'name': 'University of Hamburg Observatory', 'type': 'ORG', 'org_id': 20},\n",
       " {'name': 'Leibniz Institute for Astrophysics Potsdam',\n",
       "  'type': 'ORG',\n",
       "  'org_id': 21},\n",
       " {'name': 'AIP', 'type': 'ORG', 'org_id': 22},\n",
       " {'name': 'Institute for Astronomy and Astrophysics',\n",
       "  'type': 'ORG',\n",
       "  'org_id': 23},\n",
       " {'name': 'Max Planck Society', 'type': 'ORG', 'org_id': 24},\n",
       " {'name': 'Ludwig Maximilians Universität Munich',\n",
       "  'type': 'ORG',\n",
       "  'org_id': 25},\n",
       " {'name': 'eROSITA', 'type': 'ORG', 'org_id': 26},\n",
       " {'name': 'VPLanet', 'type': 'ORG', 'org_id': 27},\n",
       " {'name': 'Office of Naval Research', 'type': 'ORG', 'org_id': 28},\n",
       " {'name': 'Google', 'type': 'ORG', 'org_id': 29},\n",
       " {'name': 'OpenAI', 'type': 'ORG', 'org_id': 30},\n",
       " {'name': 'TerraSwarm', 'type': 'ORG', 'org_id': 31},\n",
       " {'name': 'STARnet', 'type': 'ORG', 'org_id': 32},\n",
       " {'name': 'Semiconductor Research Corporation', 'type': 'ORG', 'org_id': 33},\n",
       " {'name': 'MARCO', 'type': 'ORG', 'org_id': 34},\n",
       " {'name': 'DARPA', 'type': 'ORG', 'org_id': 35}]"
      ]
     },
     "execution_count": 5,
     "metadata": {},
     "output_type": "execute_result"
    }
   ],
   "source": [
    "all_orgs"
   ]
  },
  {
   "cell_type": "code",
   "execution_count": 6,
   "metadata": {},
   "outputs": [
    {
     "data": {
      "text/plain": [
       "[{'project_name': 'NASA',\n",
       "  'project_federal_id': '80NSSC23K1115',\n",
       "  'project_id': 0},\n",
       " {'project_name': 'MURI',\n",
       "  'project_federal_id': 'N00014-18-1-2670',\n",
       "  'project_id': 1},\n",
       " {'project_name': 'ONR',\n",
       "  'project_federal_id': '#N00014-13-1-0023',\n",
       "  'project_id': 2}]"
      ]
     },
     "execution_count": 6,
     "metadata": {},
     "output_type": "execute_result"
    }
   ],
   "source": [
    "all_projects,all_projects_relation=get_all_projects(files)\n",
    "all_projects"
   ]
  },
  {
   "cell_type": "code",
   "execution_count": 7,
   "metadata": {},
   "outputs": [
    {
     "data": {
      "text/plain": [
       "[{'project_name': 'NASA',\n",
       "  'project_federal_id': '80NSSC23K1115',\n",
       "  'project_id': 0,\n",
       "  'paper_id': 16},\n",
       " {'project_name': 'NASA',\n",
       "  'project_federal_id': '80NSSC23K0911',\n",
       "  'project_id': 0,\n",
       "  'paper_id': 16},\n",
       " {'project_name': 'MURI',\n",
       "  'project_federal_id': 'N00014-18-1-2670',\n",
       "  'project_id': 1,\n",
       "  'paper_id': 22},\n",
       " {'project_name': 'ONR',\n",
       "  'project_federal_id': '#N00014-13-1-0023',\n",
       "  'project_id': 2,\n",
       "  'paper_id': 24},\n",
       " {'project_name': 'ONR',\n",
       "  'project_federal_id': '#W911NF-13-1-0246',\n",
       "  'project_id': 2,\n",
       "  'paper_id': 24}]"
      ]
     },
     "execution_count": 7,
     "metadata": {},
     "output_type": "execute_result"
    }
   ],
   "source": [
    "all_projects_relation"
   ]
  },
  {
   "cell_type": "code",
   "execution_count": 8,
   "metadata": {},
   "outputs": [],
   "source": [
    "import re\n",
    "def extract_award_identifiers(text):\n",
    "    # Expresiones regulares para identificadores de premios\n",
    "    regex_patterns = {\n",
    "        \"NIH\": r'(?:#)?\\b[1-9][A-Z\\d]{3}[A-Z]{2}\\d{6}(?:-[AS]?\\d+)?\\b',\n",
    "        \"DOD\": r'(?:#)?\\b[A-Z\\d]{6}-\\d{2}-[123]-\\d{4}\\b',\n",
    "        \"NASA\": r'(?:#)?\\b(?:80|NN)[A-Z]+\\d{2}[A-Z\\d]+\\b',\n",
    "        \"Education\": r'(?:#)?\\b[A-Z]+\\d+[A-Z]\\d{2}[A-Z\\d]+\\b'\n",
    "    }\n",
    "\n",
    "    # Lista para almacenar todos los identificadores únicos encontrados\n",
    "    all_identifiers = []\n",
    "\n",
    "    # Aplicar cada expresión regular al texto y almacenar los resultados\n",
    "    for pattern in regex_patterns.values():\n",
    "        identifiers = re.findall(pattern, text)\n",
    "        all_identifiers.extend(identifiers)\n",
    "\n",
    "    # Eliminar duplicados\n",
    "    unique_identifiers = list(set(all_identifiers))\n",
    "\n",
    "    return unique_identifiers"
   ]
  },
  {
   "cell_type": "code",
   "execution_count": 9,
   "metadata": {},
   "outputs": [
    {
     "name": "stdout",
     "output_type": "stream",
     "text": [
      "Identificadores de premios P031B201234\n",
      "Identificadores de premios #2R01CA654321\n",
      "Identificadores de premios 1R01CA123456\n",
      "Identificadores de premios #W912D1-21-3-9012\n",
      "Identificadores de premios NNC21AA01H\n",
      "Identificadores de premios W81XWH-22-1-1234\n",
      "Identificadores de premios #T042A190567\n",
      "Identificadores de premios NNC21AA02A\n"
     ]
    }
   ],
   "source": [
    "\n",
    "\n",
    "texto_ejemplo = \"\"\"\n",
    "Aquí hay algunos identificadores de premios:\n",
    "\n",
    "NIH: 1R01CA123456-01A1, #2R01CA654321-03B2\n",
    "DOD: W81XWH-22-1-1234, #W912D1-21-3-9012\n",
    "NASA: NNC21AA01H, #GRC20G-1234, NNC21AA02A\n",
    "Department of Education: P031B201234, #T042A190567\n",
    "\"\"\"\n",
    "\n",
    "# Extraer identificadores de premios del texto de ejemplo\n",
    "identificadores = extract_award_identifiers(texto_ejemplo)\n",
    "\n",
    "# Imprimir los identificadores encontrados para cada agencia\n",
    "for ids in identificadores:\n",
    "    print(f\"Identificadores de premios {ids}\")"
   ]
  },
  {
   "cell_type": "code",
   "execution_count": 10,
   "metadata": {},
   "outputs": [],
   "source": [
    "def combine_identifiers_with_names(text):\n",
    "    # Obtener identificadores de premios del texto\n",
    "    identifiers = extract_award_identifiers(text)\n",
    "    \n",
    "    # Lista para almacenar nombres y códigos asociados\n",
    "    names_and_codes = []\n",
    "\n",
    "    # Iterar sobre los identificadores y buscar los nombres correspondientes\n",
    "    for identifier in identifiers:\n",
    "        # Buscar el nombre del proyecto antes del identificador\n",
    "        match = re.search(rf'(\\w+)\\s+(?:grant|award|code)\\s+{re.escape(identifier)}', text, re.IGNORECASE)\n",
    "        if match:\n",
    "            names_and_codes.append((match.group(1), identifier))\n",
    "\n",
    "    return names_and_codes"
   ]
  },
  {
   "cell_type": "code",
   "execution_count": 11,
   "metadata": {},
   "outputs": [],
   "source": [
    "def get_projects_names(text):\n",
    "    # Obtener identificadores de premios del texto\n",
    "    identifiers = extract_award_identifiers(text)\n",
    "    \n",
    "    # Lista para almacenar nombres y códigos asociados\n",
    "    names_and_codes = []\n",
    "\n",
    "    # Iterar sobre los identificadores y buscar los nombres correspondientes\n",
    "    for identifier in identifiers:\n",
    "        # Buscar el nombre del proyecto antes del identificador\n",
    "        match = re.search(rf'(\\w+)\\s+(?:grant|award|code)\\s+{re.escape(identifier)}', text, re.IGNORECASE)\n",
    "        if match:\n",
    "            names_and_codes.append(match.group(1))\n",
    "\n",
    "    return names_and_codes"
   ]
  },
  {
   "cell_type": "code",
   "execution_count": 12,
   "metadata": {},
   "outputs": [
    {
     "data": {
      "text/plain": [
       "['DOD', 'Education', 'NASA', 'MURI']"
      ]
     },
     "execution_count": 12,
     "metadata": {},
     "output_type": "execute_result"
    }
   ],
   "source": [
    "texto_ejemplo = \"\"\"\n",
    "Aquí hay algunos identificadores de premios con nombres asociados:\n",
    "\n",
    "MURI grant N00014-18-1-2670, MURI award N00014-18-1-2670\n",
    "DOD Award W81XWH-18-1-1234, Cooperative Agreement W911NF-20-2-5678\n",
    "NASA Grant NNC21AA01H, Research Cooperative Agreement GRC20G-1234, NNC21AA02A\n",
    "Department of Education Grant P031B201234, Grant T042A190567\n",
    "\"\"\"\n",
    "\n",
    "# Extraer nombres asociados con códigos del texto de ejemplo\n",
    "nombres_con_codigos = get_projects_names(texto_ejemplo)\n",
    "nombres_con_codigos"
   ]
  },
  {
   "cell_type": "code",
   "execution_count": 13,
   "metadata": {},
   "outputs": [
    {
     "data": {
      "text/plain": [
       "['DOD', 'Education', 'NASA', 'MURI']"
      ]
     },
     "execution_count": 13,
     "metadata": {},
     "output_type": "execute_result"
    }
   ],
   "source": [
    "nombres_con_codigos"
   ]
  }
 ],
 "metadata": {
  "kernelspec": {
   "display_name": "base",
   "language": "python",
   "name": "python3"
  },
  "language_info": {
   "codemirror_mode": {
    "name": "ipython",
    "version": 3
   },
   "file_extension": ".py",
   "mimetype": "text/x-python",
   "name": "python",
   "nbconvert_exporter": "python",
   "pygments_lexer": "ipython3",
   "version": "3.11.5"
  }
 },
 "nbformat": 4,
 "nbformat_minor": 2
}
