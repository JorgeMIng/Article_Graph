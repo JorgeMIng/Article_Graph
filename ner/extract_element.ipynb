{
 "cells": [
  {
   "cell_type": "code",
   "execution_count": 15,
   "metadata": {},
   "outputs": [],
   "source": [
    "from extract_ner import get_all_ners,get_all_project_ids,get_all_project_experimental\n",
    "from pdf_analyzer.config_load import load_config\n",
    "from pdf_analyzer.api import API\n",
    "from omegaconf import OmegaConf"
   ]
  },
  {
   "cell_type": "code",
   "execution_count": 11,
   "metadata": {},
   "outputs": [
    {
     "name": "stderr",
     "output_type": "stream",
     "text": [
      "Some weights of the model checkpoint at dslim/bert-base-NER were not used when initializing BertForTokenClassification: ['bert.pooler.dense.bias', 'bert.pooler.dense.weight']\n",
      "- This IS expected if you are initializing BertForTokenClassification from the checkpoint of a model trained on another task or with another architecture (e.g. initializing a BertForSequenceClassification model from a BertForPreTraining model).\n",
      "- This IS NOT expected if you are initializing BertForTokenClassification from the checkpoint of a model that you expect to be exactly identical (initializing a BertForSequenceClassification model from a BertForSequenceClassification model).\n"
     ]
    }
   ],
   "source": [
    "from transformers import pipeline\n",
    "\n",
    "pipe = pipeline(\"token-classification\", model=\"dslim/bert-base-NER\")"
   ]
  },
  {
   "cell_type": "code",
   "execution_count": 16,
   "metadata": {},
   "outputs": [
    {
     "name": "stdout",
     "output_type": "stream",
     "text": [
      "SERVER_CONFIG\n",
      "url:\n",
      "  protocol: http\n",
      "  api_domain: yordi111nas.synology.me\n",
      "  port: 8070\n",
      "\n",
      "CLOUD_CONFIG\n",
      "data:\n",
      "  data_dir: data/PDFs\n",
      "  format: .pdf\n",
      "  recursive: true\n",
      "grobid:\n",
      "  cache: true\n",
      "  cache_dir: data/xmls\n",
      "  operation_key: processFulltextDocument\n",
      "  format: .grobid.tei.xml\n",
      "  recursive: true\n",
      "\n",
      "http://yordi111nas.synology.me:8070/api/isalive\n",
      "GROBID server is up and running\n",
      "data/xmls\\nlp\\Bert.grobid.tei.xml already exist, skipping... (use --force to reprocess pdf input files)\n",
      "data/xmls\\nlp\\DistillBERT.grobid.tei.xml already exist, skipping... (use --force to reprocess pdf input files)\n",
      "data/xmls\\nlp\\Dont_stop_pretraining.grobid.tei.xml already exist, skipping... (use --force to reprocess pdf input files)\n",
      "data/xmls\\nlp\\GPT-3.grobid.tei.xml already exist, skipping... (use --force to reprocess pdf input files)\n",
      "data/xmls\\nlp\\LIME.grobid.tei.xml already exist, skipping... (use --force to reprocess pdf input files)\n",
      "data/xmls\\nlp\\LoRA.grobid.tei.xml already exist, skipping... (use --force to reprocess pdf input files)\n",
      "data/xmls\\nlp\\RoBERTa.grobid.tei.xml already exist, skipping... (use --force to reprocess pdf input files)\n",
      "data/xmls\\nlp\\SORA.grobid.tei.xml already exist, skipping... (use --force to reprocess pdf input files)\n",
      "data/xmls\\nlp\\Transformers.grobid.tei.xml already exist, skipping... (use --force to reprocess pdf input files)\n",
      "data/xmls\\nlp\\word2vec.grobid.tei.xml already exist, skipping... (use --force to reprocess pdf input files)\n",
      "grobid_logger: 2024-04-28 22:41:29,642 | INFO | API.py:44 | 14968 >>> All files have been process by the api\n"
     ]
    }
   ],
   "source": [
    "server_config = load_config(\"config/api/grobid-server-config.yaml\")\n",
    "extract_config = load_config(\"config/api/api-base-config.yaml\")\n",
    "print(\"SERVER_CONFIG\\n\"+OmegaConf.to_yaml(server_config))\n",
    "print(\"CLOUD_CONFIG\\n\"+OmegaConf.to_yaml(extract_config))\n",
    "\n",
    "base_api = API.BaseAPI(extract_config,server_config)\n",
    "\n",
    "files = base_api.proccesed_files"
   ]
  },
  {
   "cell_type": "code",
   "execution_count": 17,
   "metadata": {},
   "outputs": [
    {
     "data": {
      "text/plain": [
       "[{'name': 'Al-lenNLP', 'score': 0.67498153, 'type': 'ORG', 'paper_id': 2},\n",
       " {'name': 'Office of Naval Research',\n",
       "  'score': 0.9967265,\n",
       "  'type': 'ORG',\n",
       "  'paper_id': 2},\n",
       " {'name': 'Google', 'score': 0.99887425, 'type': 'ORG', 'paper_id': 2},\n",
       " {'name': 'OpenAI', 'score': 0.9626693, 'type': 'ORG', 'paper_id': 3},\n",
       " {'name': 'WebText', 'score': 0.7112076, 'type': 'ORG', 'paper_id': 3},\n",
       " {'name': 'TerraSwarm', 'score': 0.99291795, 'type': 'ORG', 'paper_id': 4},\n",
       " {'name': 'STARnet', 'score': 0.87451035, 'type': 'ORG', 'paper_id': 4},\n",
       " {'name': 'Semiconductor Research Corporation',\n",
       "  'score': 0.9271019,\n",
       "  'type': 'ORG',\n",
       "  'paper_id': 4},\n",
       " {'name': 'MARCO', 'score': 0.9814992, 'type': 'ORG', 'paper_id': 4},\n",
       " {'name': 'DARPA', 'score': 0.976103, 'type': 'ORG', 'paper_id': 4}]"
      ]
     },
     "execution_count": 17,
     "metadata": {},
     "output_type": "execute_result"
    }
   ],
   "source": [
    "all_orgs=get_all_ners(files,pipe)\n",
    "all_orgs"
   ]
  },
  {
   "cell_type": "code",
   "execution_count": 19,
   "metadata": {},
   "outputs": [
    {
     "data": {
      "text/plain": [
       "[{'project_id': 'N00014-18-1-2670', 'paper_id': 2},\n",
       " {'project_id': 'W911NF-13-1-0246', 'paper_id': 4},\n",
       " {'project_id': 'N00014-13-1-0023', 'paper_id': 4}]"
      ]
     },
     "execution_count": 19,
     "metadata": {},
     "output_type": "execute_result"
    }
   ],
   "source": [
    "all_project_ids=get_all_project_ids(files)\n",
    "all_project_ids"
   ]
  },
  {
   "cell_type": "code",
   "execution_count": 20,
   "metadata": {},
   "outputs": [
    {
     "data": {
      "text/plain": [
       "[{'project_id': 'N00014-18-1-2670', 'name': 'MURI', 'paper_id': 2},\n",
       " {'project_id': '#W911NF-13-1-0246', 'name': 'ONR', 'paper_id': 4},\n",
       " {'project_id': '#N00014-13-1-0023', 'name': 'ONR', 'paper_id': 4}]"
      ]
     },
     "execution_count": 20,
     "metadata": {},
     "output_type": "execute_result"
    }
   ],
   "source": [
    "all_projects=get_all_project_experimental(files)\n",
    "all_projects"
   ]
  }
 ],
 "metadata": {
  "kernelspec": {
   "display_name": "base",
   "language": "python",
   "name": "python3"
  },
  "language_info": {
   "codemirror_mode": {
    "name": "ipython",
    "version": 3
   },
   "file_extension": ".py",
   "mimetype": "text/x-python",
   "name": "python",
   "nbconvert_exporter": "python",
   "pygments_lexer": "ipython3",
   "version": "3.11.5"
  }
 },
 "nbformat": 4,
 "nbformat_minor": 2
}
