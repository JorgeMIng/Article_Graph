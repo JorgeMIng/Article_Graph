{
 "cells": [
  {
   "cell_type": "markdown",
   "metadata": {},
   "source": [
    "# Topic Modeling"
   ]
  },
  {
   "cell_type": "markdown",
   "metadata": {},
   "source": [
    "This notebook will document step by step different approaches to group documents in different topics using the **topic modeling** strategy."
   ]
  },
  {
   "cell_type": "markdown",
   "metadata": {},
   "source": [
    "## What exactly is Topic Modeling?\n",
    "\n",
    "**Topic Modeling** is a technique used to discover the **distribution of uderlying topics** in a collection of documents.\n",
    "\n",
    "Each topic is a collection of co-occuring words in a set of documents. The order of the words is not taken into account."
   ]
  },
  {
   "cell_type": "code",
   "execution_count": 1,
   "metadata": {},
   "outputs": [],
   "source": [
    "# Obtain the abstracts of the papers under data/pdfs\n",
    "\n",
    "import sys\n",
    "import os\n",
    "sys.path.append(os.path.dirname(os.getcwd()))\n",
    "os.path.dirname(os.getcwd())\n",
    "\n",
    "from pdf_analyzer.config_load import load_config\n",
    "from pdf_analyzer.api import API\n",
    "from omegaconf import OmegaConf\n",
    "from pdf_analyzer.config_load import load_config\n",
    "\n",
    "from get_paper_metadata import get_paper_metadata"
   ]
  },
  {
   "cell_type": "code",
   "execution_count": 2,
   "metadata": {},
   "outputs": [
    {
     "name": "stdout",
     "output_type": "stream",
     "text": [
      "SERVER_CONFIG\n",
      "url:\n",
      "  protocol: http\n",
      "  api_domain: yordi111nas.synology.me\n",
      "  port: 8070\n",
      "\n",
      "CLOUD_CONFIG\n",
      "data:\n",
      "  data_dir: data/PDFs\n",
      "  format: .pdf\n",
      "  recursive: true\n",
      "grobid:\n",
      "  cache: true\n",
      "  cache_dir: data/xmls\n",
      "  operation_key: processFulltextDocument\n",
      "  format: .grobid.tei.xml\n",
      "  recursive: true\n",
      "\n",
      "GROBID server is up and running\n",
      "data/xmls/word2vec.grobid.tei.xml already exist, skipping... (use --force to reprocess pdf input files)\n",
      "data/xmls/Dont_stop_pretraining.grobid.tei.xml already exist, skipping... (use --force to reprocess pdf input files)\n",
      "data/xmls/LIME.grobid.tei.xml already exist, skipping... (use --force to reprocess pdf input files)\n",
      "data/xmls/LoRA.grobid.tei.xml already exist, skipping... (use --force to reprocess pdf input files)\n",
      "data/xmls/Bert.grobid.tei.xml already exist, skipping... (use --force to reprocess pdf input files)\n",
      "data/xmls/SORA.grobid.tei.xml already exist, skipping... (use --force to reprocess pdf input files)\n",
      "data/xmls/Transformers.grobid.tei.xml already exist, skipping... (use --force to reprocess pdf input files)\n",
      "data/xmls/DistillBERT.grobid.tei.xml already exist, skipping... (use --force to reprocess pdf input files)\n",
      "data/xmls/RoBERTa.grobid.tei.xml already exist, skipping... (use --force to reprocess pdf input files)\n",
      "data/xmls/GPT-3.grobid.tei.xml already exist, skipping... (use --force to reprocess pdf input files)\n",
      "grobid_logger: 2024-05-22 10:59:07,578 | INFO | API.py:44 | 94619 >>> All files have been process by the api\n"
     ]
    }
   ],
   "source": [
    "server_config = load_config(\"config/api/grobid-server-config.yaml\")\n",
    "extract_config = load_config(\"config/api/api-base-config.yaml\")\n",
    "print(\"SERVER_CONFIG\\n\"+OmegaConf.to_yaml(server_config))\n",
    "print(\"CLOUD_CONFIG\\n\"+OmegaConf.to_yaml(extract_config))\n",
    "\n",
    "base_api = API.BaseAPI(extract_config,server_config)\n",
    "\n",
    "abstracts = [get_paper_metadata(doc)['abstract'].strip() for doc in base_api.proccesed_files]"
   ]
  },
  {
   "cell_type": "code",
   "execution_count": 3,
   "metadata": {},
   "outputs": [
    {
     "data": {
      "text/plain": [
       "['Language model pretraining has led to significant performance gains but careful comparison between different approaches is challenging. Training is computationally expensive, often done on private datasets of different sizes, and, as we will show, hyperparameter choices have significant impact on the final results. We present a replication study of BERT pretraining (Devlin et al., 2019) that carefully measures the impact of many key hyperparameters and training data size. We find that BERT was significantly undertrained, and can match or exceed the performance of every model published after it. Our best model achieves state-of-the-art results on GLUE, RACE and SQuAD. These results highlight the importance of previously overlooked design choices, and raise questions about the source of recently reported improvements. We release our models and code. 1',\n",
       " \"Recent work has demonstrated substantial gains on many NLP tasks and benchmarks by pre-training on a large corpus of text followed by fine-tuning on a specific task. While typically task-agnostic in architecture, this method still requires task-specific fine-tuning datasets of thousands or tens of thousands of examples. By contrast, humans can generally perform a new language task from only a few examples or from simple instructions -something which current NLP systems still largely struggle to do. Here we show that scaling up language models greatly improves task-agnostic, few-shot performance, sometimes even reaching competitiveness with prior state-of-the-art finetuning approaches. Specifically, we train GPT-3, an autoregressive language model with 175 billion parameters, 10x more than any previous non-sparse language model, and test its performance in the few-shot setting. For all tasks, GPT-3 is applied without any gradient updates or fine-tuning, with tasks and few-shot demonstrations specified purely via text interaction with the model. GPT-3 achieves strong performance on many NLP datasets, including translation, question-answering, and cloze tasks, as well as several tasks that require on-the-fly reasoning or domain adaptation, such as unscrambling words, using a novel word in a sentence, or performing 3-digit arithmetic. At the same time, we also identify some datasets where GPT-3's few-shot learning still struggles, as well as some datasets where GPT-3 faces methodological issues related to training on large web corpora. Finally, we find that GPT-3 can generate samples of news articles which human evaluators have difficulty distinguishing from articles written by humans. We discuss broader societal impacts of this finding and of GPT-3 in general.\",\n",
       " 'An important paradigm of natural language processing consists of large-scale pretraining on general domain data and adaptation to particular tasks or domains. As we pre-train larger models, full fine-tuning, which retrains all model parameters, becomes less feasible. Using GPT-3 175B as an example -deploying independent instances of fine-tuned models, each with 175B parameters, is prohibitively expensive. We propose Low-Rank Adaptation, or LoRA, which freezes the pretrained model weights and injects trainable rank decomposition matrices into each layer of the Transformer architecture, greatly reducing the number of trainable parameters for downstream tasks. Compared to GPT-3 175B fine-tuned with Adam, LoRA can reduce the number of trainable parameters by 10,000 times and the GPU memory requirement by 3 times. LoRA performs on-par or better than finetuning in model quality on RoBERTa, DeBERTa, GPT-2, and GPT-3, despite having fewer trainable parameters, a higher training throughput, and, unlike adapters, no additional inference latency. We also provide an empirical investigation into rank-deficiency in language model adaptation, which sheds light on the efficacy of LoRA. We release a package that facilitates the integration of LoRA with PyTorch models and provide our implementations and model checkpoints for RoBERTa, DeBERTa, and GPT-2 at https://github.com/microsoft/LoRA. * Equal contribution. 0 Compared to V1, this draft includes better baselines, experiments on GLUE, and more on adapter latency. 1 While GPT-3 175B achieves non-trivial performance with few-shot learning, fine-tuning boosts its performance significantly as shown in Appendix A.',\n",
       " 'Despite widespread adoption, machine learning models remain mostly black boxes. Understanding the reasons behind predictions is, however, quite important in assessing trust, which is fundamental if one plans to take action based on a prediction, or when choosing whether to deploy a new model. Such understanding also provides insights into the model, which can be used to transform an untrustworthy model or prediction into a trustworthy one.In this work, we propose LIME, a novel explanation technique that explains the predictions of any classifier in an interpretable and faithful manner, by learning an interpretable model locally around the prediction. We also propose a method to explain models by presenting representative individual predictions and their explanations in a non-redundant way, framing the task as a submodular optimization problem. We demonstrate the flexibility of these methods by explaining different models for text (e.g. random forests) and image classification (e.g. neural networks). We show the utility of explanations via novel experiments, both simulated and with human subjects, on various scenarios that require trust: deciding if one should trust a prediction, choosing between models, improving an untrustworthy classifier, and identifying why a classifier should not be trusted.',\n",
       " 'Warning: This is not an official technical report from OpenAI. Sora is a text-to-video generative AI model, released by OpenAI in February 2024. The model is trained to generate videos of realistic or imaginative scenes from text instructions and show potential in simulating the physical world. Based on public technical reports and reverse engineering, this paper presents a comprehensive review of the model\\'s background, related technologies, applications, remaining challenges, and future directions of text-to-video AI models. We first trace Sora\\'s development and investigate the underlying technologies used to build this \"world simulator\". Then, we describe in detail the applications and potential impact of Sora in multiple industries ranging from film-making and education to marketing. We discuss the main challenges and limitations that need to be addressed to widely deploy Sora, such as ensuring safe and unbiased video generation. Lastly, we discuss the future development of Sora and video generation models in general, and how advancements in the field could enable new ways of human-AI interaction, boosting productivity and creativity of video generation.',\n",
       " 'Equal contribution. Listing order is random. Jakob proposed replacing RNNs with self-attention and started the effort to evaluate this idea. Ashish, with Illia, designed and implemented the first Transformer models and has been crucially involved in every aspect of this work. Noam proposed scaled dot-product attention, multi-head attention and the parameter-free position representation and became the other person involved in nearly every detail. Niki designed, implemented, tuned and evaluated countless model variants in our original codebase and tensor2tensor. Llion also experimented with novel model variants, was responsible for our initial codebase, and efficient inference and visualizations. Lukasz and Aidan spent countless long days designing various parts of and implementing tensor2tensor, replacing our earlier codebase, greatly improving results and massively accelerating our research.† Work performed while at Google Brain. ‡ Work performed while at Google Research.',\n",
       " 'As Transfer Learning from large-scale pre-trained models becomes more prevalent in Natural Language Processing (NLP), operating these large models in on-theedge and/or under constrained computational training or inference budgets remains challenging. In this work, we propose a method to pre-train a smaller generalpurpose language representation model, called DistilBERT, which can then be finetuned with good performances on a wide range of tasks like its larger counterparts. While most prior work investigated the use of distillation for building task-specific models, we leverage knowledge distillation during the pre-training phase and show that it is possible to reduce the size of a BERT model by 40%, while retaining 97% of its language understanding capabilities and being 60% faster. To leverage the inductive biases learned by larger models during pre-training, we introduce a triple loss combining language modeling, distillation and cosine-distance losses. Our smaller, faster and lighter model is cheaper to pre-train and we demonstrate its capabilities for on-device computations in a proof-of-concept experiment and a comparative on-device study.',\n",
       " 'We introduce a new language representation model called BERT, which stands for Bidirectional Encoder Representations from Transformers. Unlike recent language representation models (Peters et al., 2018a;Radford et al., 2018), BERT is designed to pretrain deep bidirectional representations from unlabeled text by jointly conditioning on both left and right context in all layers. As a result, the pre-trained BERT model can be finetuned with just one additional output layer to create state-of-the-art models for a wide range of tasks, such as question answering and language inference, without substantial taskspecific architecture modifications.BERT is conceptually simple and empirically powerful. It obtains new state-of-the-art results on eleven natural language processing tasks, including pushing the GLUE score to 80.5% (7.7% point absolute improvement), MultiNLI accuracy to 86.7% (4.6% absolute improvement), SQuAD v1.1 question answering Test F1 to 93.2 (1.5 point absolute improvement) and SQuAD v2.0 Test F1 to 83.1 (5.1 point absolute improvement).',\n",
       " 'We propose two novel model architectures for computing continuous vector representations of words from very large data sets. The quality of these representations is measured in a word similarity task, and the results are compared to the previously best performing techniques based on different types of neural networks. We observe large improvements in accuracy at much lower computational cost, i.e. it takes less than a day to learn high quality word vectors from a 1.6 billion words data set. Furthermore, we show that these vectors provide state-of-the-art performance on our test set for measuring syntactic and semantic word similarities.',\n",
       " \"Language models pretrained on text from a wide variety of sources form the foundation of today's NLP. In light of the success of these broad-coverage models, we investigate whether it is still helpful to tailor a pretrained model to the domain of a target task. We present a study across four domains (biomedical and computer science publications, news, and reviews) and eight classification tasks, showing that a second phase of pretraining indomain (domain-adaptive pretraining) leads to performance gains, under both high-and low-resource settings. Moreover, adapting to the task's unlabeled data (task-adaptive pretraining) improves performance even after domain-adaptive pretraining. Finally, we show that adapting to a task corpus augmented using simple data selection strategies is an effective alternative, especially when resources for domain-adaptive pretraining might be unavailable. Overall, we consistently find that multiphase adaptive pretraining offers large gains in task performance.\"]"
      ]
     },
     "execution_count": 3,
     "metadata": {},
     "output_type": "execute_result"
    }
   ],
   "source": [
    "abstracts"
   ]
  },
  {
   "cell_type": "markdown",
   "metadata": {},
   "source": [
    "### Latent Dirchlet Allocation (LDA)"
   ]
  },
  {
   "cell_type": "markdown",
   "metadata": {},
   "source": [
    "This algorithm is the most popular given its speed. It calculates probability distributions and uses bag-of-words.\n",
    "\n",
    "Let's try to test **LDA**."
   ]
  },
  {
   "cell_type": "code",
   "execution_count": 4,
   "metadata": {},
   "outputs": [],
   "source": [
    "from topic_modeling.lda import LDA\n",
    "\n",
    "# Create a LDA specifying the number of topics and the number of words to include in each topic\n",
    "# By default:\n",
    "# - num_topics= 3\n",
    "# - num_words = 5\n",
    "lda_model = LDA(corpus=abstracts, num_topics=3, num_words=7)\n",
    "\n",
    "# Fit the model to the documents\n",
    "lda_model.fit()"
   ]
  },
  {
   "cell_type": "code",
   "execution_count": 5,
   "metadata": {},
   "outputs": [
    {
     "name": "stdout",
     "output_type": "stream",
     "text": [
      "\n",
      "> Generated 3 topics:\n",
      "> Topic 0: ['and', 'of', 'the', 'to', 'on', 'language', 'model']\n",
      "> Topic 1: ['of', 'the', 'and', 'we', 'task', 'to', 'in']\n",
      "> Topic 2: ['and', 'the', 'of', 'in', 'to', 'we', 'model']\n"
     ]
    }
   ],
   "source": [
    "# Print the generated topics\n",
    "print(f'\\n> Generated {len(lda_model.topics)} topics:')\n",
    "for i, topic in enumerate(lda_model.topics):\n",
    "    print(f'> Topic {i}: {topic}')"
   ]
  },
  {
   "cell_type": "code",
   "execution_count": 6,
   "metadata": {},
   "outputs": [
    {
     "name": "stdout",
     "output_type": "stream",
     "text": [
      "\n",
      "> Topic distributions for all the documents:\n",
      "Document 0:\n",
      "> Topic 0: 0.002937033000412395\n",
      "> Topic 1: 0.002922070849259329\n",
      "> Topic 2: 0.9941408961503283\n",
      "Document 1:\n",
      "> Topic 0: 0.001380567149721332\n",
      "> Topic 1: 0.9973003426218484\n",
      "> Topic 2: 0.0013190902284300995\n",
      "Document 2:\n",
      "> Topic 0: 0.9970278590485977\n",
      "> Topic 1: 0.0015146887823015765\n",
      "> Topic 2: 0.0014574521691006791\n",
      "Document 3:\n",
      "> Topic 0: 0.0019445225008229102\n",
      "> Topic 1: 0.9960970023686903\n",
      "> Topic 2: 0.0019584751304866604\n",
      "Document 4:\n",
      "> Topic 0: 0.002015681419942018\n",
      "> Topic 1: 0.0020579472881671777\n",
      "> Topic 2: 0.9959263712918908\n",
      "Document 5:\n",
      "> Topic 0: 0.0025433876375445244\n",
      "> Topic 1: 0.0024987878871836704\n",
      "> Topic 2: 0.9949578244752719\n",
      "Document 6:\n",
      "> Topic 0: 0.9957504213451269\n",
      "> Topic 1: 0.002149766179817204\n",
      "> Topic 2: 0.002099812475055852\n",
      "Document 7:\n",
      "> Topic 0: 0.9952436693564836\n",
      "> Topic 1: 0.0023750987523329047\n",
      "> Topic 2: 0.002381231891183583\n",
      "Document 8:\n",
      "> Topic 0: 0.00370846604039821\n",
      "> Topic 1: 0.003780748774264297\n",
      "> Topic 2: 0.9925107851853375\n",
      "Document 9:\n",
      "> Topic 0: 0.002526822843414446\n",
      "> Topic 1: 0.9949303352896216\n",
      "> Topic 2: 0.002542841866963895\n"
     ]
    }
   ],
   "source": [
    "# Obtain the topic distributions for every document onside the corpus\n",
    "lda_model.predict_all()\n",
    "\n",
    "# Print the topic distributions for all the documents\n",
    "print('\\n> Topic distributions for all the documents:')\n",
    "for doc_id, doc_info in enumerate(lda_model.topic_distributions):\n",
    "    print(f'Document {doc_id}:')\n",
    "    for topic_id, topic_dist in doc_info.items():\n",
    "        print(f'> Topic {topic_id}: {topic_dist}')"
   ]
  },
  {
   "cell_type": "code",
   "execution_count": 7,
   "metadata": {},
   "outputs": [
    {
     "name": "stdout",
     "output_type": "stream",
     "text": [
      "> Coherence of the model: 0.42439377189767863\n"
     ]
    }
   ],
   "source": [
    "# Print the coherence of the model\n",
    "lda_model.calculate_coherence()\n",
    "print(f'> Coherence of the model: {lda_model.coherence}')"
   ]
  },
  {
   "cell_type": "markdown",
   "metadata": {},
   "source": [
    "## Obtaining the Optimal Number of Topics"
   ]
  },
  {
   "cell_type": "markdown",
   "metadata": {},
   "source": [
    "To find the optimal number of topics, we will find the model with a larger coherence coefficient."
   ]
  },
  {
   "cell_type": "code",
   "execution_count": 8,
   "metadata": {},
   "outputs": [],
   "source": [
    "%matplotlib inline\n",
    "import matplotlib.pyplot as plt\n",
    "\n",
    "def find_optimal_number_of_topics(corpus: list[str],\n",
    "                                  start: int,\n",
    "                                  end: int,\n",
    "                                  step: int = 1,\n",
    "                                  num_words: int = 5) -> int:\n",
    "    \"\"\"\n",
    "    Evaluate different numbers of topics to find the optimal number based on coherence score.\n",
    "\n",
    "    Args:\n",
    "    - corpus (list[str]): The corpus of documents.\n",
    "    - start (int): The starting number of topics. Default is 2.\n",
    "    - end (int): The ending number of topics. Default is 10.\n",
    "    - step (int): The step size for the range of topic numbers. Default is 1.\n",
    "    - num_words (int): The number of words to include in each topic. Default is 5.\n",
    "\n",
    "    Returns:\n",
    "    - int: The optimal number of topics.\n",
    "    \"\"\"\n",
    "    max_coherence = float('-inf')\n",
    "    optimal_num_topics = start\n",
    "    coherence_scores = []\n",
    "\n",
    "    for num_topics in range(start, end + 1, step):\n",
    "        lda_model = LDA(corpus, num_topics=num_topics, num_words=num_words)\n",
    "        lda_model.fit()\n",
    "        lda_model.calculate_coherence()\n",
    "        coherence = lda_model.coherence\n",
    "        coherence_scores.append(coherence)\n",
    "        print(f'Number of topics: {num_topics}, Coherence score: {coherence}')\n",
    "        \n",
    "        if coherence > max_coherence:\n",
    "            max_coherence = coherence\n",
    "            optimal_num_topics = num_topics\n",
    "    \n",
    "    plt.figure(figsize=(10, 5))\n",
    "    plt.plot(range(start, end + 1, step), coherence_scores, marker='o')\n",
    "    plt.title('Coherence Scores by Number of Topics')\n",
    "    plt.xlabel('Number of Topics')\n",
    "    plt.ylabel('Coherence Score')\n",
    "    plt.xticks(range(start, end + 1, step))\n",
    "    plt.grid(True)\n",
    "    plt.show()\n",
    "\n",
    "    return optimal_num_topics"
   ]
  },
  {
   "cell_type": "code",
   "execution_count": 9,
   "metadata": {},
   "outputs": [
    {
     "name": "stdout",
     "output_type": "stream",
     "text": [
      "Number of topics: 2, Coherence score: 0.44768648643687753\n",
      "Number of topics: 3, Coherence score: 0.42439377189767863\n",
      "Number of topics: 4, Coherence score: 0.4487608018478701\n",
      "Number of topics: 5, Coherence score: 0.39972060741905774\n",
      "Number of topics: 6, Coherence score: 0.5747768028569716\n",
      "Number of topics: 7, Coherence score: 0.41356916034599506\n",
      "Number of topics: 8, Coherence score: 0.7187745697757828\n",
      "Number of topics: 9, Coherence score: 0.4357567815895695\n",
      "Number of topics: 10, Coherence score: 0.48494286113685375\n"
     ]
    },
    {
     "data": {
      "image/png": "[encoded data removed]",
      "text/plain": [
       "<Figure size 1000x500 with 1 Axes>"
      ]
     },
     "metadata": {},
     "output_type": "display_data"
    },
    {
     "data": {
      "text/plain": [
       "8"
      ]
     },
     "execution_count": 9,
     "metadata": {},
     "output_type": "execute_result"
    }
   ],
   "source": [
    "find_optimal_number_of_topics(corpus=abstracts, start=2, end=len(abstracts), step=1, num_words=7)"
   ]
  },
  {
   "cell_type": "markdown",
   "metadata": {},
   "source": [
    "We can see that the optimal number of topics is 8. We will try and see the lda model with 8 topics."
   ]
  },
  {
   "cell_type": "code",
   "execution_count": 10,
   "metadata": {},
   "outputs": [],
   "source": [
    "from topic_modeling.lda import LDA\n",
    "lda_model = LDA(corpus=abstracts, num_topics=8, num_words=7)\n",
    "lda_model.fit()"
   ]
  },
  {
   "cell_type": "code",
   "execution_count": 11,
   "metadata": {},
   "outputs": [
    {
     "name": "stdout",
     "output_type": "stream",
     "text": [
      "\n",
      "> Generated 8 topics:\n",
      "> Topic 0: ['high', 'much', 'syntactic', 'learn', 'continuous', 'very', 'vector']\n",
      "> Topic 1: ['high', 'much', 'syntactic', 'learn', 'continuous', 'very', 'vector']\n",
      "> Topic 2: ['and', 'the', 'to', 'of', 'in', 'video', 'sora']\n",
      "> Topic 3: ['pretraining', 'of', 'to', 'task', 'adaptive', 'domain', 'we']\n",
      "> Topic 4: ['of', 'and', 'the', 'on', 'we', 'to', 'model']\n",
      "> Topic 5: ['and', 'our', 'the', 'work', 'with', 'in', 'codebase']\n",
      "> Topic 6: ['high', 'much', 'syntactic', 'learn', 'continuous', 'very', 'vector']\n",
      "> Topic 7: ['high', 'much', 'syntactic', 'learn', 'continuous', 'very', 'vector']\n"
     ]
    }
   ],
   "source": [
    "# Print the generated topics\n",
    "print(f'\\n> Generated {len(lda_model.topics)} topics:')\n",
    "for i, topic in enumerate(lda_model.topics):\n",
    "    print(f'> Topic {i}: {topic}')"
   ]
  },
  {
   "cell_type": "markdown",
   "metadata": {},
   "source": [
    "We can see that some of the 8 topics are repeated, we can assume that there are only 6 topics, which is the second maxima found in the topic modeling coherence figure."
   ]
  },
  {
   "cell_type": "code",
   "execution_count": 12,
   "metadata": {},
   "outputs": [],
   "source": [
    "from topic_modeling.lda import LDA\n",
    "lda_model = LDA(corpus=abstracts, num_topics=6, num_words=7)\n",
    "lda_model.fit()"
   ]
  },
  {
   "cell_type": "code",
   "execution_count": 13,
   "metadata": {},
   "outputs": [
    {
     "name": "stdout",
     "output_type": "stream",
     "text": [
      "\n",
      "> Generated 6 topics:\n",
      "> Topic 0: ['high', 'based', 'observe', 'similarities', 'measured', 'vector', 'very']\n",
      "> Topic 1: ['prediction', 'an', 'trust', 'predictions', 'classifier', 'one', 'explanations']\n",
      "> Topic 2: ['and', 'the', 'to', 'of', 'in', 'video', 'sora']\n",
      "> Topic 3: ['pretraining', 'of', 'to', 'task', 'adaptive', 'we', 'domain']\n",
      "> Topic 4: ['of', 'and', 'the', 'on', 'we', 'to', 'model']\n",
      "> Topic 5: ['and', 'our', 'the', 'work', 'in', 'with', 'codebase']\n"
     ]
    }
   ],
   "source": [
    "# Print the generated topics\n",
    "print(f'\\n> Generated {len(lda_model.topics)} topics:')\n",
    "for i, topic in enumerate(lda_model.topics):\n",
    "    print(f'> Topic {i}: {topic}')"
   ]
  },
  {
   "cell_type": "code",
   "execution_count": 14,
   "metadata": {},
   "outputs": [
    {
     "name": "stdout",
     "output_type": "stream",
     "text": [
      "\n",
      "> Topic distributions for all the documents:\n",
      "Document 0:\n",
      "> Topic 0: 0.0013022417207319654\n",
      "> Topic 1: 0.0013021680174009603\n",
      "> Topic 2: 0.001305713362396965\n",
      "> Topic 3: 0.0013107402399422056\n",
      "> Topic 4: 0.9934719743350049\n",
      "> Topic 5: 0.0013071623245230182\n",
      "Document 1:\n",
      "> Topic 0: 0.000612813979480221\n",
      "> Topic 1: 0.0006131442584745902\n",
      "> Topic 2: 0.0006149106301507526\n",
      "> Topic 3: 0.0006154429505435436\n",
      "> Topic 4: 0.996929876520225\n",
      "> Topic 5: 0.0006138116611258695\n",
      "Document 2:\n",
      "> Topic 0: 0.0006775804422499802\n",
      "> Topic 1: 0.000678258115178066\n",
      "> Topic 2: 0.0006789959029173259\n",
      "> Topic 3: 0.0006801668030357857\n",
      "> Topic 4: 0.9966054854765436\n",
      "> Topic 5: 0.0006795132600751376\n",
      "Document 3:\n",
      "> Topic 0: 0.0009058592251503157\n",
      "> Topic 1: 0.5761556652823262\n",
      "> Topic 2: 0.0009125319737415425\n",
      "> Topic 3: 0.0009101992760706619\n",
      "> Topic 4: 0.42020622585884804\n",
      "> Topic 5: 0.0009095183838632114\n",
      "Document 4:\n",
      "> Topic 0: 0.0009416554272261107\n",
      "> Topic 1: 0.0009423418222459157\n",
      "> Topic 2: 0.9952808184478326\n",
      "> Topic 3: 0.0009442308082876109\n",
      "> Topic 4: 0.0009474115205529191\n",
      "> Topic 5: 0.0009435419738549403\n",
      "Document 5:\n",
      "> Topic 0: 0.0011990857958030635\n",
      "> Topic 1: 0.001199777149520515\n",
      "> Topic 2: 0.0012038074459635728\n",
      "> Topic 3: 0.0012018048673297192\n",
      "> Topic 4: 0.0012051748824805544\n",
      "> Topic 5: 0.9939903498589026\n",
      "Document 6:\n",
      "> Topic 0: 0.0009634969751672293\n",
      "> Topic 1: 0.0009643751458190472\n",
      "> Topic 2: 0.0009665765889000949\n",
      "> Topic 3: 0.0009666282902456831\n",
      "> Topic 4: 0.995172901137479\n",
      "> Topic 5: 0.000966021862389088\n",
      "Document 7:\n",
      "> Topic 0: 0.0011038757796017174\n",
      "> Topic 1: 0.0011057808179452705\n",
      "> Topic 2: 0.0011068805304086968\n",
      "> Topic 3: 0.0011067510313599654\n",
      "> Topic 4: 0.9944704538836925\n",
      "> Topic 5: 0.0011062579569919356\n",
      "Document 8:\n",
      "> Topic 0: 0.0017008761503711212\n",
      "> Topic 1: 0.0017029265332653026\n",
      "> Topic 2: 0.0017053505391167092\n",
      "> Topic 3: 0.0017072225932652815\n",
      "> Topic 4: 0.9914793168227197\n",
      "> Topic 5: 0.0017043073612618715\n",
      "Document 9:\n",
      "> Topic 0: 0.0011737539003400974\n",
      "> Topic 1: 0.0011747632211435797\n",
      "> Topic 2: 0.0011791330356284917\n",
      "> Topic 3: 0.9941135441543699\n",
      "> Topic 4: 0.00118256972704133\n",
      "> Topic 5: 0.0011762359614764346\n"
     ]
    }
   ],
   "source": [
    "# Obtain the topic distributions for every document inside the corpus\n",
    "lda_model.predict_all()\n",
    "\n",
    "# Print the topic distributions for all the documents\n",
    "print('\\n> Topic distributions for all the documents:')\n",
    "for doc_id, doc_info in enumerate(lda_model.topic_distributions):\n",
    "    print(f'Document {doc_id}:')\n",
    "    for topic_id, topic_dist in doc_info.items():\n",
    "        print(f'> Topic {topic_id}: {topic_dist}')"
   ]
  }
 ],
 "metadata": {
  "kernelspec": {
   "display_name": "Python 3",
   "language": "python",
   "name": "python3"
  },
  "language_info": {
   "codemirror_mode": {
    "name": "ipython",
    "version": 3
   },
   "file_extension": ".py",
   "mimetype": "text/x-python",
   "name": "python",
   "nbconvert_exporter": "python",
   "pygments_lexer": "ipython3",
   "version": "3.12.2"
  }
 },
 "nbformat": 4,
 "nbformat_minor": 2
}
