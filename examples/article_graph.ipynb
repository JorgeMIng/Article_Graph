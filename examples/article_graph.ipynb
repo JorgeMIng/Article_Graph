{
 "cells": [
  {
   "cell_type": "markdown",
   "metadata": {},
   "source": [
    "#"
   ]
  },
  {
   "cell_type": "markdown",
   "metadata": {},
   "source": [
    "# Article Graph Example"
   ]
  },
  {
   "cell_type": "markdown",
   "metadata": {},
   "source": [
    "This notebook contains a quick overview of the `article_graph` module together with the `topic_modeling`, `similarity` and `ner` modules."
   ]
  },
  {
   "cell_type": "code",
   "execution_count": 1,
   "metadata": {},
   "outputs": [],
   "source": [
    "# We make available the packages inside all the modules\n",
    "\n",
    "import sys\n",
    "import os\n",
    "sys.path.append(os.path.dirname(os.getcwd()))\n",
    "os.path.dirname(os.getcwd())\n",
    "\n",
    "from pdf_analyzer.config_load import load_config\n",
    "from pdf_analyzer.api import API\n",
    "from omegaconf import OmegaConf\n",
    "from pdf_analyzer.config_load import load_config\n",
    "\n",
    "from pdf_analyzer.api.extract.elements import extract_element_soup\n",
    "from article_graph.recon import recon_generic\n"
   ]
  },
  {
   "cell_type": "code",
   "execution_count": 2,
   "metadata": {},
   "outputs": [
    {
     "name": "stdout",
     "output_type": "stream",
     "text": [
      "SERVER_CONFIG\n",
      "url:\n",
      "  protocol: http\n",
      "  api_domain: yordi111nas.synology.me\n",
      "  port: 8070\n",
      "\n",
      "CLOUD_CONFIG\n",
      "data:\n",
      "  data_dir: data/PDFs\n",
      "  format: .pdf\n",
      "  recursive: true\n",
      "grobid:\n",
      "  cache: true\n",
      "  cache_dir: data/xmls\n",
      "  operation_key: processFulltextDocument\n",
      "  format: .grobid.tei.xml\n",
      "  recursive: true\n",
      "\n",
      "http://yordi111nas.synology.me:8070/api/isalive\n",
      "GROBID server is up and running\n",
      "data/xmls\\Bert.grobid.tei.xml already exist, skipping... (use --force to reprocess pdf input files)\n",
      "data/xmls\\DistillBERT.grobid.tei.xml already exist, skipping... (use --force to reprocess pdf input files)\n",
      "data/xmls\\Dont_stop_pretraining.grobid.tei.xml already exist, skipping... (use --force to reprocess pdf input files)\n",
      "data/xmls\\GPT-3.grobid.tei.xml already exist, skipping... (use --force to reprocess pdf input files)\n",
      "data/xmls\\LIME.grobid.tei.xml already exist, skipping... (use --force to reprocess pdf input files)\n",
      "data/xmls\\LoRA.grobid.tei.xml already exist, skipping... (use --force to reprocess pdf input files)\n",
      "data/xmls\\RoBERTa.grobid.tei.xml already exist, skipping... (use --force to reprocess pdf input files)\n",
      "data/xmls\\SORA.grobid.tei.xml already exist, skipping... (use --force to reprocess pdf input files)\n",
      "data/xmls\\Transformers.grobid.tei.xml already exist, skipping... (use --force to reprocess pdf input files)\n",
      "data/xmls\\word2vec.grobid.tei.xml already exist, skipping... (use --force to reprocess pdf input files)\n",
      "grobid_logger: 2024-05-15 23:46:49,420 | INFO | API.py:44 | 16772 >>> All files have been process by the api\n"
     ]
    }
   ],
   "source": [
    "server_config = load_config(\"config/api/grobid-server-config.yaml\")\n",
    "extract_config = load_config(\"config/api/api-base-config.yaml\")\n",
    "print(\"SERVER_CONFIG\\n\"+OmegaConf.to_yaml(server_config))\n",
    "print(\"CLOUD_CONFIG\\n\"+OmegaConf.to_yaml(extract_config))\n",
    "\n",
    "base_api = API.BaseAPI(extract_config,server_config)\n",
    "\n",
    "files = base_api.proccesed_files"
   ]
  },
  {
   "cell_type": "code",
   "execution_count": 3,
   "metadata": {},
   "outputs": [],
   "source": [
    "# List of mock papers to be used in this example\n",
    "\n",
    "papers = [\n",
    "    {\n",
    "        'title': 'Title 1',\n",
    "        'abstract': 'The universe is a vast expanse of space containing countless galaxies, stars, planets, and other celestial objects.',\n",
    "        'release_date': '2024-01-24',\n",
    "        'acknowledgements': '''\n",
    "            We thank the referees for their constructive feedback, which has helped us to improve the quality of this manuscript.\n",
    "            This work is based on spectropolarimetric observations obtained at the TBL, AATand 3.6-m ESO telescope.\n",
    "            We thank the technical staff at each of these facilities for their time and data.\n",
    "            We also acknowledge the use of the PolarBase database, which makes TBL observations publicly available,\n",
    "            and is operated by the Centre National de la Recherche Scientifique of France (CNRS), Observatoire''',\n",
    "    },\n",
    "    {\n",
    "        'title': 'Title 2',\n",
    "        'abstract': 'Ancient civilizations such as the Egyptians, Greeks, and Romans have left behind rich legacies of art, architecture, and knowledge.',\n",
    "        'release_date': '2024-02-15',\n",
    "        'acknowledgements': '''\n",
    "            Acknowledgements. We are grateful to our referee, Nicolas Cowan.\n",
    "            We gratefully acknowledge the open source software which made this work possible:\n",
    "                astropy (Astropy Collaboration et al. 2013Collaboration et al. , 2018Collaboration et al. , 2022)),\n",
    "                ipython (Pérez &amp; Granger 2007),\n",
    "                numpy (Harris et al. 2020),\n",
    "                scipy (Virtanen et al. 2020),\n",
    "                matplotlib (Hunter 2007),\n",
    "                JAX (Bradbury et al. 2018),\n",
    "                arviz (Kumar et al. 2019),\n",
    "                numpyro (Phan et al. 2019),\n",
    "                FastChem (Stock et al. 2018(Stock et al. , 2022;;Kitzmann et al. 2023),\n",
    "                LX-MIE (Kitzmann &amp; Heng 2018b),\n",
    "                celerite2 (Foreman-Mackey et al. 2017; Foreman-Mackey 2018) exoplanet (Foreman-Mackey et al. 2021b),\n",
    "                lightkurve (Lightkurve Collaboration et al. 2018),\n",
    "                corner (Foreman-Mackey 2016),\n",
    "                kelp (Morris et al. 2022).\n",
    "\n",
    "            This research has made use of the SVO Filter Profile Service (http://svo2.cab.inta-csic.es/theory/fps/) supported\n",
    "            from the Spanish MINECO through grant AYA2017-84089.'''\n",
    "    },\n",
    "    {\n",
    "        'title': 'Title 3',\n",
    "        'abstract': 'Climate change is a pressing global issue that requires urgent action to mitigate its impacts on the environment and human societies.',\n",
    "        'release_date': '2024-03-10',\n",
    "        'acknowledgements': '''Acknowledgements. This work is based on data from eROSITA, the soft X-ray instrument aboard SRG,\n",
    "        a joint Russian-German science mission supported by the Russian Space Agency (Roskosmos),\n",
    "        in the interests of the Russian Academy of Sciences represented by its Space Research Institute (IKI),\n",
    "        and the Deutsches Zentrum für Luft-und Raumfahrt (DLR).'''\n",
    "    },\n",
    "]"
   ]
  },
  {
   "cell_type": "markdown",
   "metadata": {},
   "source": [
    "## Adding the Papers to the Graph"
   ]
  },
  {
   "cell_type": "markdown",
   "metadata": {},
   "source": [
    "In this section, we will be adding all the papers to the graph!"
   ]
  },
  {
   "cell_type": "code",
   "execution_count": 4,
   "metadata": {},
   "outputs": [
    {
     "name": "stdout",
     "output_type": "stream",
     "text": [
      "http://open_science.com/paper#0 http://open_science.com/title Title 1\n",
      "http://open_science.com/paper#1 http://open_science.com/title Title 2\n",
      "http://open_science.com/paper#2 http://open_science.com/title Title 3\n"
     ]
    }
   ],
   "source": [
    "from article_graph.article_graph import ArticleGraph\n",
    "\n",
    "# We create the graph\n",
    "g = ArticleGraph()\n",
    "\n",
    "# We add the documents to the graph\n",
    "for paper_id, paper_info in enumerate(papers):\n",
    "    \n",
    "    g.add_paper(paper_id=paper_id,\n",
    "                title=paper_info['title'],\n",
    "                abstract=paper_info['abstract'],\n",
    "                release_date=paper_info['release_date'])\n",
    "    \n",
    "# Explore the graph by printing the titles of the papers\n",
    "for s, p, o in g.graph.triples((None, g.ns.title, None)):\n",
    "    print(s, p, o)"
   ]
  },
  {
   "cell_type": "code",
   "execution_count": 5,
   "metadata": {},
   "outputs": [
    {
     "name": "stdout",
     "output_type": "stream",
     "text": [
      "http://open_science.com/paper#0 http://open_science.com/title Exploring teachers’ confidence in addressing mental health issues in learners with Profound and Multiple Learning Difficulties (PMLD) pre and post training\n",
      "http://open_science.com/paper#1 http://open_science.com/title DistilBERT, a distilled version of BERT: smaller, faster, cheaper and lighter\n",
      "http://open_science.com/paper#2 http://open_science.com/title Don’t Stop Pretraining: Adapt Language Models to Domains and Tasks\n",
      "http://open_science.com/paper#3 http://open_science.com/title Pronunciation and good language learners\n",
      "http://open_science.com/paper#4 http://open_science.com/title \"Why Should I Trust You?\"\n",
      "http://open_science.com/paper#5 http://open_science.com/title LORA: LOW-RANK ADAPTATION OF LARGE LAN-GUAGE MODELS\n",
      "http://open_science.com/paper#6 http://open_science.com/title A Robustly Optimized BERT Pre-training Approach with Post-training\n",
      "http://open_science.com/paper#7 http://open_science.com/title Preface to the book Fast Processes in Large Scale Atmospheric Models: Progress, Challenges and Opportunities\n",
      "http://open_science.com/paper#8 http://open_science.com/title Attention Is All You Need\n",
      "http://open_science.com/paper#9 http://open_science.com/title Efficient Estimation of Word Representations in Vector Space\n"
     ]
    }
   ],
   "source": [
    "from article_graph.article_graph import ArticleGraph\n",
    "from get_paper_metadata import get_paper_metadata\n",
    "\n",
    "# We create the graph\n",
    "g = ArticleGraph()\n",
    "\n",
    "# We add the documents to the graph\n",
    "for paper_id, file in enumerate(files):\n",
    "    paper_info = get_paper_metadata(file)\n",
    "    g.add_paper(paper_id=paper_id,\n",
    "                title=paper_info['title'],\n",
    "                abstract=paper_info['abstract'],\n",
    "                release_date=paper_info['release_date'])\n",
    "    \n",
    "# Explore the graph by printing the titles of the papers\n",
    "for s, p, o in g.graph.triples((None, g.ns.title, None)):\n",
    "    print(s, p, o)"
   ]
  },
  {
   "cell_type": "markdown",
   "metadata": {},
   "source": [
    "## Topic Modeling"
   ]
  },
  {
   "cell_type": "markdown",
   "metadata": {},
   "source": [
    "In this section, we will be exploring the use of topic modeling inside the **Article Graph** !"
   ]
  },
  {
   "cell_type": "markdown",
   "metadata": {},
   "source": [
    "### Generating the Topics"
   ]
  },
  {
   "cell_type": "markdown",
   "metadata": {},
   "source": [
    "In this subsection, we will be extracting topics from the papers' abstracts using the `topic_modeling` module!"
   ]
  },
  {
   "cell_type": "code",
   "execution_count": 6,
   "metadata": {},
   "outputs": [
    {
     "name": "stdout",
     "output_type": "stream",
     "text": [
      "Topic 0: ['the', 'is', 'issue', 'on', 'change', 'climate', 'environment']\n",
      "Topic 1: ['and', 'the', 'of', 'behind', 'knowledge', 'legacies', 'civilizations']\n",
      "Topic 2: ['the', 'is', 'of', 'vast', 'planets', 'galaxies', 'countless']\n"
     ]
    }
   ],
   "source": [
    "from topic_modeling.lda import LDA\n",
    "\n",
    "# Create the LDA model for Topic Modeling\n",
    "# We need to specify the number of topics and the number of words per topic\n",
    "lda_model = LDA(corpus=[paper['abstract'] for paper in papers],\n",
    "                num_topics=3,\n",
    "                num_words=7)\n",
    "lda_model.fit()\n",
    "\n",
    "# Display the generated topics\n",
    "for i, topic in enumerate(lda_model.topics):\n",
    "    print(f'Topic {i}: {topic}')"
   ]
  },
  {
   "cell_type": "code",
   "execution_count": 7,
   "metadata": {},
   "outputs": [
    {
     "name": "stdout",
     "output_type": "stream",
     "text": [
      "Topic 0: ['and', 'of', 'the', 'to', 'on', 'language', 'model']\n",
      "Topic 1: ['of', 'the', 'and', 'we', 'task', 'to', 'in']\n",
      "Topic 2: ['and', 'the', 'of', 'in', 'to', 'we', 'model']\n"
     ]
    }
   ],
   "source": [
    "from topic_modeling.lda import LDA\n",
    "\n",
    "# Create the LDA model for Topic Modeling\n",
    "# We need to specify the number of topics and the number of words per topic\n",
    "from article_graph._utils import get_abstract\n",
    "\n",
    "lda_model = LDA(corpus=[get_abstract(file) for file in files],\n",
    "                num_topics=3,\n",
    "                num_words=7)\n",
    "lda_model.fit()\n",
    "\n",
    "# Display the generated topics\n",
    "for i, topic in enumerate(lda_model.topics):\n",
    "    print(f'Topic {i}: {topic}')"
   ]
  },
  {
   "cell_type": "markdown",
   "metadata": {},
   "source": [
    "### Adding Topics to Graph"
   ]
  },
  {
   "cell_type": "markdown",
   "metadata": {},
   "source": [
    "In this subsection, we will be adding the generated topics to the graph!"
   ]
  },
  {
   "cell_type": "code",
   "execution_count": 8,
   "metadata": {},
   "outputs": [
    {
     "name": "stdout",
     "output_type": "stream",
     "text": [
      "http://open_science.com/topic#0 http://open_science.com/keyword and\n",
      "http://open_science.com/topic#1 http://open_science.com/keyword and\n",
      "http://open_science.com/topic#2 http://open_science.com/keyword and\n",
      "http://open_science.com/topic#0 http://open_science.com/keyword of\n",
      "http://open_science.com/topic#1 http://open_science.com/keyword of\n",
      "http://open_science.com/topic#2 http://open_science.com/keyword of\n",
      "http://open_science.com/topic#0 http://open_science.com/keyword the\n",
      "http://open_science.com/topic#1 http://open_science.com/keyword the\n",
      "http://open_science.com/topic#2 http://open_science.com/keyword the\n",
      "http://open_science.com/topic#0 http://open_science.com/keyword to\n",
      "http://open_science.com/topic#1 http://open_science.com/keyword to\n",
      "http://open_science.com/topic#2 http://open_science.com/keyword to\n",
      "http://open_science.com/topic#0 http://open_science.com/keyword on\n",
      "http://open_science.com/topic#0 http://open_science.com/keyword language\n",
      "http://open_science.com/topic#0 http://open_science.com/keyword model\n",
      "http://open_science.com/topic#2 http://open_science.com/keyword model\n",
      "http://open_science.com/topic#1 http://open_science.com/keyword we\n",
      "http://open_science.com/topic#2 http://open_science.com/keyword we\n",
      "http://open_science.com/topic#1 http://open_science.com/keyword task\n",
      "http://open_science.com/topic#1 http://open_science.com/keyword in\n",
      "http://open_science.com/topic#2 http://open_science.com/keyword in\n"
     ]
    }
   ],
   "source": [
    "# We add the topics to the graph\n",
    "for topic_id, keywords in enumerate(lda_model.topics):\n",
    "    g.add_topic(topic_id, keywords)\n",
    "\n",
    "# We explore the graph by printing the keywords of each topic\n",
    "for s, p, o in g.graph.triples((None, g.ns.keyword, None)):\n",
    "    print(s, p, o)"
   ]
  },
  {
   "cell_type": "markdown",
   "metadata": {},
   "source": [
    "### Adding TopicBelongings to Graph"
   ]
  },
  {
   "cell_type": "markdown",
   "metadata": {},
   "source": [
    "In this subsection, we will be adding the topic belonging relationships to the graph! These relationships represent the topic dostributions of each paper to every topic in the graph."
   ]
  },
  {
   "cell_type": "code",
   "execution_count": 9,
   "metadata": {},
   "outputs": [
    {
     "name": "stdout",
     "output_type": "stream",
     "text": [
      "http://open_science.com/paper#0 http://open_science.com/belongs_to_topic http://open_science.com/topic_belonging#0-0 http://open_science.com/degree 0.9952436694572805\n",
      "http://open_science.com/paper#0 http://open_science.com/belongs_to_topic http://open_science.com/topic_belonging#0-1 http://open_science.com/degree 0.0023750987470174834\n",
      "http://open_science.com/paper#0 http://open_science.com/belongs_to_topic http://open_science.com/topic_belonging#0-2 http://open_science.com/degree 0.0023812317957020938\n",
      "http://open_science.com/paper#1 http://open_science.com/belongs_to_topic http://open_science.com/topic_belonging#1-0 http://open_science.com/degree 0.9957504216711487\n",
      "http://open_science.com/paper#1 http://open_science.com/belongs_to_topic http://open_science.com/topic_belonging#1-1 http://open_science.com/degree 0.002149765930953944\n",
      "http://open_science.com/paper#1 http://open_science.com/belongs_to_topic http://open_science.com/topic_belonging#1-2 http://open_science.com/degree 0.002099812397897245\n",
      "http://open_science.com/paper#2 http://open_science.com/belongs_to_topic http://open_science.com/topic_belonging#2-0 http://open_science.com/degree 0.002526822977868384\n",
      "http://open_science.com/paper#2 http://open_science.com/belongs_to_topic http://open_science.com/topic_belonging#2-1 http://open_science.com/degree 0.9949303350908784\n",
      "http://open_science.com/paper#2 http://open_science.com/belongs_to_topic http://open_science.com/topic_belonging#2-2 http://open_science.com/degree 0.0025428419312532456\n",
      "http://open_science.com/paper#3 http://open_science.com/belongs_to_topic http://open_science.com/topic_belonging#3-0 http://open_science.com/degree 0.0013805671499805615\n",
      "http://open_science.com/paper#3 http://open_science.com/belongs_to_topic http://open_science.com/topic_belonging#3-1 http://open_science.com/degree 0.9973003426427511\n",
      "http://open_science.com/paper#3 http://open_science.com/belongs_to_topic http://open_science.com/topic_belonging#3-2 http://open_science.com/degree 0.0013190902072683303\n",
      "http://open_science.com/paper#4 http://open_science.com/belongs_to_topic http://open_science.com/topic_belonging#4-0 http://open_science.com/degree 0.001944522531243421\n",
      "http://open_science.com/paper#4 http://open_science.com/belongs_to_topic http://open_science.com/topic_belonging#4-1 http://open_science.com/degree 0.9960970024154225\n",
      "http://open_science.com/paper#4 http://open_science.com/belongs_to_topic http://open_science.com/topic_belonging#4-2 http://open_science.com/degree 0.00195847505333397\n",
      "http://open_science.com/paper#5 http://open_science.com/belongs_to_topic http://open_science.com/topic_belonging#5-0 http://open_science.com/degree 0.9970278593295346\n",
      "http://open_science.com/paper#5 http://open_science.com/belongs_to_topic http://open_science.com/topic_belonging#5-1 http://open_science.com/degree 0.0015146885549705623\n",
      "http://open_science.com/paper#5 http://open_science.com/belongs_to_topic http://open_science.com/topic_belonging#5-2 http://open_science.com/degree 0.0014574521154948447\n",
      "http://open_science.com/paper#6 http://open_science.com/belongs_to_topic http://open_science.com/topic_belonging#6-0 http://open_science.com/degree 0.002937033667440804\n",
      "http://open_science.com/paper#6 http://open_science.com/belongs_to_topic http://open_science.com/topic_belonging#6-1 http://open_science.com/degree 0.002922071104199498\n",
      "http://open_science.com/paper#6 http://open_science.com/belongs_to_topic http://open_science.com/topic_belonging#6-2 http://open_science.com/degree 0.9941408952283597\n",
      "http://open_science.com/paper#7 http://open_science.com/belongs_to_topic http://open_science.com/topic_belonging#7-0 http://open_science.com/degree 0.0020156815196071425\n",
      "http://open_science.com/paper#7 http://open_science.com/belongs_to_topic http://open_science.com/topic_belonging#7-1 http://open_science.com/degree 0.0020579474408289515\n",
      "http://open_science.com/paper#7 http://open_science.com/belongs_to_topic http://open_science.com/topic_belonging#7-2 http://open_science.com/degree 0.9959263710395639\n",
      "http://open_science.com/paper#8 http://open_science.com/belongs_to_topic http://open_science.com/topic_belonging#8-0 http://open_science.com/degree 0.0025433876286568317\n",
      "http://open_science.com/paper#8 http://open_science.com/belongs_to_topic http://open_science.com/topic_belonging#8-1 http://open_science.com/degree 0.002498787895639441\n",
      "http://open_science.com/paper#8 http://open_science.com/belongs_to_topic http://open_science.com/topic_belonging#8-2 http://open_science.com/degree 0.9949578244757037\n",
      "http://open_science.com/paper#9 http://open_science.com/belongs_to_topic http://open_science.com/topic_belonging#9-0 http://open_science.com/degree 0.0037084661457961656\n",
      "http://open_science.com/paper#9 http://open_science.com/belongs_to_topic http://open_science.com/topic_belonging#9-1 http://open_science.com/degree 0.003780748569207598\n",
      "http://open_science.com/paper#9 http://open_science.com/belongs_to_topic http://open_science.com/topic_belonging#9-2 http://open_science.com/degree 0.9925107852849961\n"
     ]
    }
   ],
   "source": [
    "# We predict the topic distributions for each paper to all the topics\n",
    "lda_model.predict_all()\n",
    "\n",
    "# We add the topic belonging for each topic and paper storing the degree of belonging\n",
    "for paper_id, paper_info in enumerate(lda_model.topic_distributions):\n",
    "    for topic_id, topic_dist in paper_info.items():\n",
    "        g.add_topic_belonging(paper_id, topic_id, topic_dist)\n",
    "\n",
    "# We explore the graph by printing the topic belonging for each paper to all the topics\n",
    "for s, p, o in g.graph.triples((None, g.ns.belongs_to_topic, None)):\n",
    "    for _, p1, o1 in g.graph.triples((o, g.ns.degree, None)):\n",
    "        print(s, p, o, p1, o1)"
   ]
  },
  {
   "cell_type": "markdown",
   "metadata": {},
   "source": [
    "## Named Entity Recognition"
   ]
  },
  {
   "cell_type": "markdown",
   "metadata": {},
   "source": [
    "In this section, we will be exploring the use of named entity recognition inside the **Article Graph** !"
   ]
  },
  {
   "cell_type": "code",
   "execution_count": 10,
   "metadata": {},
   "outputs": [],
   "source": [
    "from extract_authors import get_all_author_metadata\n",
    "from ner.extract_ner import get_all_ners,extract_ners,get_all_projects,get_projects_names,extract_award_identifiers"
   ]
  },
  {
   "cell_type": "code",
   "execution_count": 11,
   "metadata": {},
   "outputs": [
    {
     "name": "stderr",
     "output_type": "stream",
     "text": [
      "Some weights of the model checkpoint at dslim/bert-base-NER were not used when initializing BertForTokenClassification: ['bert.pooler.dense.bias', 'bert.pooler.dense.weight']\n",
      "- This IS expected if you are initializing BertForTokenClassification from the checkpoint of a model trained on another task or with another architecture (e.g. initializing a BertForSequenceClassification model from a BertForPreTraining model).\n",
      "- This IS NOT expected if you are initializing BertForTokenClassification from the checkpoint of a model that you expect to be exactly identical (initializing a BertForSequenceClassification model from a BertForSequenceClassification model).\n"
     ]
    }
   ],
   "source": [
    "from transformers import pipeline\n",
    "\n",
    "pipe = pipeline(\"token-classification\", model=\"dslim/bert-base-NER\")"
   ]
  },
  {
   "cell_type": "code",
   "execution_count": 12,
   "metadata": {},
   "outputs": [],
   "source": [
    "\n",
    "all_orgs_rel,all_orgs=get_all_ners(files,pipe)\n",
    "#authors_list,relation_author_paper,all_orgs,relation_author_org =get_all_author_metadata(files,all_orgs)"
   ]
  },
  {
   "cell_type": "code",
   "execution_count": 20,
   "metadata": {},
   "outputs": [],
   "source": [
    "all_ners=[]\n",
    "for acno in [paper[\"acknowledgements\"] for paper in papers]:\n",
    "    all_ners.extend(extract_ners(acno,pipe))"
   ]
  },
  {
   "cell_type": "code",
   "execution_count": 21,
   "metadata": {},
   "outputs": [
    {
     "data": {
      "text/plain": [
       "[{'name': 'Centre National de la Recherche Scientifique of France',\n",
       "  'score': 0.95020586,\n",
       "  'type': 'ORG'},\n",
       " {'name': 'CNRS', 'score': 0.92107177, 'type': 'ORG'},\n",
       " {'name': 'MINECO', 'score': 0.9240498, 'type': 'ORG'},\n",
       " {'name': 'Russian Space Agency', 'score': 0.99701536, 'type': 'ORG'},\n",
       " {'name': 'Ros kosmos', 'score': 0.97655296, 'type': 'ORG'},\n",
       " {'name': 'Russian Academy of Sciences', 'score': 0.9965687, 'type': 'ORG'},\n",
       " {'name': 'Space Research Institute', 'score': 0.9974501, 'type': 'ORG'},\n",
       " {'name': 'IKI', 'score': 0.9900939, 'type': 'ORG'},\n",
       " {'name': 'Deutsches Zentrum für Luft-und Raumfahrt',\n",
       "  'score': 0.9719548,\n",
       "  'type': 'ORG'},\n",
       " {'name': 'DLR', 'score': 0.9951084, 'type': 'ORG'}]"
      ]
     },
     "execution_count": 21,
     "metadata": {},
     "output_type": "execute_result"
    }
   ],
   "source": [
    "all_ners"
   ]
  },
  {
   "cell_type": "code",
   "execution_count": 17,
   "metadata": {},
   "outputs": [
    {
     "data": {
      "text/plain": [
       "[{'name': 'Office of Naval Research', 'type': 'ORG', 'org_id': 0},\n",
       " {'name': 'Google', 'type': 'ORG', 'org_id': 1},\n",
       " {'name': 'OpenAI', 'type': 'ORG', 'org_id': 2},\n",
       " {'name': 'TerraSwarm', 'type': 'ORG', 'org_id': 3},\n",
       " {'name': 'STARnet', 'type': 'ORG', 'org_id': 4},\n",
       " {'name': 'Semiconductor Research Corporation', 'type': 'ORG', 'org_id': 5},\n",
       " {'name': 'MARCO', 'type': 'ORG', 'org_id': 6},\n",
       " {'name': 'DARPA', 'type': 'ORG', 'org_id': 7}]"
      ]
     },
     "execution_count": 17,
     "metadata": {},
     "output_type": "execute_result"
    }
   ],
   "source": [
    "all_orgs"
   ]
  },
  {
   "cell_type": "markdown",
   "metadata": {},
   "source": [
    "## Projects Extraction"
   ]
  },
  {
   "cell_type": "markdown",
   "metadata": {},
   "source": [
    "Regex can be custom if necessary, in case their are not setup default values will be used"
   ]
  },
  {
   "cell_type": "code",
   "execution_count": null,
   "metadata": {},
   "outputs": [],
   "source": [
    "from ner.extract_ner import get_all_projects,get_projects_names,extract_award_identifiers"
   ]
  },
  {
   "cell_type": "code",
   "execution_count": null,
   "metadata": {},
   "outputs": [],
   "source": [
    "regex_patterns = {\n",
    "    \"NIH\": r'(?:#)?\\b[1-9][A-Z\\d]{3}[A-Z]{2}\\d{6}(?:-[AS]?\\d+)?\\b',\n",
    "    \"DOD\": r'(?:#)?\\b[A-Z\\d]{6}-\\d{2}-[123]-\\d{4}\\b',\n",
    "    \"NASA\": r'(?:#)?\\b(?:80|NN)[A-Z]+\\d{2}[A-Z\\d]+\\b',\n",
    "    \"Education\": r'(?:#)?\\b[A-Z]+\\d+[A-Z]\\d{2}[A-Z\\d]+\\b',\n",
    "    \"Universal\":r'[A-Z]{3,}[0-9]+-[0-9]+'\n",
    "}"
   ]
  },
  {
   "cell_type": "code",
   "execution_count": null,
   "metadata": {},
   "outputs": [],
   "source": [
    "all_projects,all_projects_relation=get_all_projects(files)"
   ]
  },
  {
   "cell_type": "code",
   "execution_count": null,
   "metadata": {},
   "outputs": [],
   "source": [
    "all_projects,all_projects_relation=get_all_projects(files,regex_patterns)"
   ]
  },
  {
   "cell_type": "code",
   "execution_count": null,
   "metadata": {},
   "outputs": [
    {
     "data": {
      "text/plain": [
       "[{'project_name': 'MURI',\n",
       "  'project_federal_id': 'N00014-18-1-2670',\n",
       "  'project_id': 0},\n",
       " {'project_name': 'ONR',\n",
       "  'project_federal_id': '#N00014-13-1-0023',\n",
       "  'project_id': 1}]"
      ]
     },
     "execution_count": 18,
     "metadata": {},
     "output_type": "execute_result"
    }
   ],
   "source": [
    "all_projects"
   ]
  },
  {
   "cell_type": "code",
   "execution_count": null,
   "metadata": {},
   "outputs": [
    {
     "data": {
      "text/plain": [
       "[{'project_federal_ids': [], 'project_names': []},\n",
       " {'project_federal_ids': [], 'project_names': []},\n",
       " {'project_federal_ids': [], 'project_names': []}]"
      ]
     },
     "execution_count": 19,
     "metadata": {},
     "output_type": "execute_result"
    }
   ],
   "source": [
    "[{\"project_federal_ids\":extract_award_identifiers(paper[\"acknowledgements\"]),\"project_names\":get_projects_names(paper[\"acknowledgements\"])} for paper in papers]"
   ]
  },
  {
   "cell_type": "markdown",
   "metadata": {},
   "source": [
    "## Author Extraction"
   ]
  },
  {
   "cell_type": "code",
   "execution_count": null,
   "metadata": {},
   "outputs": [],
   "source": [
    "authors_list,relation_author_paper,all_orgs,relation_author_org =get_all_author_metadata(files,all_orgs)"
   ]
  },
  {
   "cell_type": "code",
   "execution_count": null,
   "metadata": {},
   "outputs": [
    {
     "data": {
      "text/plain": [
       "[{'name': 'Jacob  ',\n",
       "  'last_name': 'Devlin ',\n",
       "  'label': 'Jacob   Devlin ',\n",
       "  'email': <email>jacobdevlin@google.com</email>,\n",
       "  'author_id': 0},\n",
       " {'name': 'Ming-Wei  ',\n",
       "  'last_name': 'Chang ',\n",
       "  'label': 'Ming-Wei   Chang ',\n",
       "  'email': <email>mingweichang@google.com</email>,\n",
       "  'author_id': 1},\n",
       " {'name': 'Kenton  ',\n",
       "  'last_name': 'Lee ',\n",
       "  'label': 'Kenton   Lee ',\n",
       "  'email': <email>kentonl@google.com</email>,\n",
       "  'author_id': 2},\n",
       " {'name': 'Kristina  ',\n",
       "  'last_name': 'Toutanova ',\n",
       "  'label': 'Kristina   Toutanova ',\n",
       "  'email': None,\n",
       "  'author_id': 3},\n",
       " {'name': 'Victor  ',\n",
       "  'last_name': 'Sanh ',\n",
       "  'label': 'Victor   Sanh ',\n",
       "  'email': <email>victor@huggingface.co</email>,\n",
       "  'author_id': 4},\n",
       " {'name': 'Suchin  ',\n",
       "  'last_name': 'Gururangan ',\n",
       "  'label': 'Suchin   Gururangan ',\n",
       "  'email': <email>suching@allenai.org</email>,\n",
       "  'author_id': 5},\n",
       " {'name': 'Ana  ',\n",
       "  'last_name': 'Marasović ',\n",
       "  'label': 'Ana   Marasović ',\n",
       "  'email': <email>anam@allenai.org</email>,\n",
       "  'author_id': 6},\n",
       " {'name': 'Swabha  ',\n",
       "  'last_name': 'Swayamdipta ',\n",
       "  'label': 'Swabha   Swayamdipta ',\n",
       "  'email': <email>swabhas@allenai.org</email>,\n",
       "  'author_id': 7},\n",
       " {'name': 'Kyle  ',\n",
       "  'last_name': 'Lo ',\n",
       "  'label': 'Kyle   Lo ',\n",
       "  'email': <email>kylel@allenai.org</email>,\n",
       "  'author_id': 8},\n",
       " {'name': 'Iz  ',\n",
       "  'last_name': 'Beltagy ',\n",
       "  'label': 'Iz   Beltagy ',\n",
       "  'email': <email>beltagy@allenai.org</email>,\n",
       "  'author_id': 9},\n",
       " {'name': 'Doug  ',\n",
       "  'last_name': 'Downey ',\n",
       "  'label': 'Doug   Downey ',\n",
       "  'email': <email>dougd@allenai.org</email>,\n",
       "  'author_id': 10},\n",
       " {'name': 'Noah  A ',\n",
       "  'last_name': 'Smith ',\n",
       "  'label': 'Noah  A  Smith ',\n",
       "  'email': None,\n",
       "  'author_id': 11},\n",
       " {'name': 'Tom  B ',\n",
       "  'last_name': 'Brown ',\n",
       "  'label': 'Tom  B  Brown ',\n",
       "  'email': None,\n",
       "  'author_id': 12},\n",
       " {'name': 'Benjamin  ',\n",
       "  'last_name': 'Mann ',\n",
       "  'label': 'Benjamin   Mann ',\n",
       "  'email': None,\n",
       "  'author_id': 13},\n",
       " {'name': 'Nick  ',\n",
       "  'last_name': 'Ryder ',\n",
       "  'label': 'Nick   Ryder ',\n",
       "  'email': None,\n",
       "  'author_id': 14},\n",
       " {'name': 'Melanie  ',\n",
       "  'last_name': 'Subbiah ',\n",
       "  'label': 'Melanie   Subbiah ',\n",
       "  'email': None,\n",
       "  'author_id': 15},\n",
       " {'name': 'Jared  ',\n",
       "  'last_name': 'Kaplan ',\n",
       "  'label': 'Jared   Kaplan ',\n",
       "  'email': None,\n",
       "  'author_id': 16},\n",
       " {'name': 'Prafulla  ',\n",
       "  'last_name': 'Dhariwal ',\n",
       "  'label': 'Prafulla   Dhariwal ',\n",
       "  'email': None,\n",
       "  'author_id': 17},\n",
       " {'name': 'Arvind  ',\n",
       "  'last_name': 'Neelakantan ',\n",
       "  'label': 'Arvind   Neelakantan ',\n",
       "  'email': None,\n",
       "  'author_id': 18},\n",
       " {'name': 'Pranav  ',\n",
       "  'last_name': 'Shyam ',\n",
       "  'label': 'Pranav   Shyam ',\n",
       "  'email': None,\n",
       "  'author_id': 19},\n",
       " {'name': 'Girish  ',\n",
       "  'last_name': 'Sastry ',\n",
       "  'label': 'Girish   Sastry ',\n",
       "  'email': None,\n",
       "  'author_id': 20},\n",
       " {'name': 'Amanda  ',\n",
       "  'last_name': 'Askell ',\n",
       "  'label': 'Amanda   Askell ',\n",
       "  'email': None,\n",
       "  'author_id': 21},\n",
       " {'name': 'Sandhini  ',\n",
       "  'last_name': 'Agarwal ',\n",
       "  'label': 'Sandhini   Agarwal ',\n",
       "  'email': None,\n",
       "  'author_id': 22},\n",
       " {'name': 'Ariel  ',\n",
       "  'last_name': 'Herbert-Voss ',\n",
       "  'label': 'Ariel   Herbert-Voss ',\n",
       "  'email': None,\n",
       "  'author_id': 23},\n",
       " {'name': 'Gretchen  ',\n",
       "  'last_name': 'Krueger ',\n",
       "  'label': 'Gretchen   Krueger ',\n",
       "  'email': None,\n",
       "  'author_id': 24},\n",
       " {'name': 'Tom  ',\n",
       "  'last_name': 'Henighan ',\n",
       "  'label': 'Tom   Henighan ',\n",
       "  'email': None,\n",
       "  'author_id': 25},\n",
       " {'name': 'Rewon  ',\n",
       "  'last_name': 'Child ',\n",
       "  'label': 'Rewon   Child ',\n",
       "  'email': None,\n",
       "  'author_id': 26},\n",
       " {'name': 'Aditya  ',\n",
       "  'last_name': 'Ramesh ',\n",
       "  'label': 'Aditya   Ramesh ',\n",
       "  'email': None,\n",
       "  'author_id': 27},\n",
       " {'name': 'Daniel  M ',\n",
       "  'last_name': 'Ziegler ',\n",
       "  'label': 'Daniel  M  Ziegler ',\n",
       "  'email': None,\n",
       "  'author_id': 28},\n",
       " {'name': 'Jeffrey  ',\n",
       "  'last_name': 'Wu ',\n",
       "  'label': 'Jeffrey   Wu ',\n",
       "  'email': None,\n",
       "  'author_id': 29},\n",
       " {'name': 'Christopher  ',\n",
       "  'last_name': 'Hesse ',\n",
       "  'label': 'Christopher   Hesse ',\n",
       "  'email': None,\n",
       "  'author_id': 30},\n",
       " {'name': 'Mark  ',\n",
       "  'last_name': 'Chen ',\n",
       "  'label': 'Mark   Chen ',\n",
       "  'email': None,\n",
       "  'author_id': 31},\n",
       " {'name': 'Eric  ',\n",
       "  'last_name': 'Sigler ',\n",
       "  'label': 'Eric   Sigler ',\n",
       "  'email': None,\n",
       "  'author_id': 32},\n",
       " {'name': 'Mateusz  ',\n",
       "  'last_name': 'Litwin ',\n",
       "  'label': 'Mateusz   Litwin ',\n",
       "  'email': None,\n",
       "  'author_id': 33},\n",
       " {'name': 'Scott  ',\n",
       "  'last_name': 'Gray ',\n",
       "  'label': 'Scott   Gray ',\n",
       "  'email': None,\n",
       "  'author_id': 34},\n",
       " {'name': 'Benjamin  ',\n",
       "  'last_name': 'Chess ',\n",
       "  'label': 'Benjamin   Chess ',\n",
       "  'email': None,\n",
       "  'author_id': 35},\n",
       " {'name': 'Jack  ',\n",
       "  'last_name': 'Clark ',\n",
       "  'label': 'Jack   Clark ',\n",
       "  'email': None,\n",
       "  'author_id': 36},\n",
       " {'name': 'Christopher  ',\n",
       "  'last_name': 'Berner ',\n",
       "  'label': 'Christopher   Berner ',\n",
       "  'email': None,\n",
       "  'author_id': 37},\n",
       " {'name': 'Sam  ',\n",
       "  'last_name': 'Mccandlish ',\n",
       "  'label': 'Sam   Mccandlish ',\n",
       "  'email': None,\n",
       "  'author_id': 38},\n",
       " {'name': 'Alec  ',\n",
       "  'last_name': 'Radford ',\n",
       "  'label': 'Alec   Radford ',\n",
       "  'email': None,\n",
       "  'author_id': 39},\n",
       " {'name': 'Ilya  ',\n",
       "  'last_name': 'Sutskever ',\n",
       "  'label': 'Ilya   Sutskever ',\n",
       "  'email': None,\n",
       "  'author_id': 40},\n",
       " {'name': 'Dario  Amodei ',\n",
       "  'last_name': 'Openai ',\n",
       "  'label': 'Dario  Amodei  Openai ',\n",
       "  'email': None,\n",
       "  'author_id': 41},\n",
       " {'name': 'Marco  Tulio ',\n",
       "  'last_name': 'Ribeiro ',\n",
       "  'label': 'Marco  Tulio  Ribeiro ',\n",
       "  'email': <email>marcotcr@cs.uw.edu</email>,\n",
       "  'author_id': 42},\n",
       " {'name': 'Sameer  ',\n",
       "  'last_name': 'Singh ',\n",
       "  'label': 'Sameer   Singh ',\n",
       "  'email': <email>sameer@cs.uw.edu</email>,\n",
       "  'author_id': 43},\n",
       " {'name': 'Carlos  ',\n",
       "  'last_name': 'Guestrin ',\n",
       "  'label': 'Carlos   Guestrin ',\n",
       "  'email': <email>guestrin@cs.uw.edu</email>,\n",
       "  'author_id': 44},\n",
       " {'name': 'Edward  ',\n",
       "  'last_name': 'Hu ',\n",
       "  'label': 'Edward   Hu ',\n",
       "  'email': <email>edwardhu@microsoft.com</email>,\n",
       "  'author_id': 45},\n",
       " {'name': 'Yelong  ',\n",
       "  'last_name': 'Shen ',\n",
       "  'label': 'Yelong   Shen ',\n",
       "  'email': None,\n",
       "  'author_id': 46},\n",
       " {'name': 'Phillip  ',\n",
       "  'last_name': 'Wallis ',\n",
       "  'label': 'Phillip   Wallis ',\n",
       "  'email': <email>phwallis@microsoft.com</email>,\n",
       "  'author_id': 47},\n",
       " {'name': 'Zeyuan  ',\n",
       "  'last_name': 'Allen-Zhu ',\n",
       "  'label': 'Zeyuan   Allen-Zhu ',\n",
       "  'email': <email>zeyuana@microsoft.com</email>,\n",
       "  'author_id': 48},\n",
       " {'name': 'Yuanzhi  ',\n",
       "  'last_name': 'Li ',\n",
       "  'label': 'Yuanzhi   Li ',\n",
       "  'email': <email>yuanzhil@microsoft.com</email>,\n",
       "  'author_id': 49},\n",
       " {'name': 'Shean  ',\n",
       "  'last_name': 'Wang ',\n",
       "  'label': 'Shean   Wang ',\n",
       "  'email': <email>swang@microsoft.com</email>,\n",
       "  'author_id': 50},\n",
       " {'name': 'Lu  ',\n",
       "  'last_name': 'Wang ',\n",
       "  'label': 'Lu   Wang ',\n",
       "  'email': None,\n",
       "  'author_id': 51},\n",
       " {'name': 'Weizhu  ',\n",
       "  'last_name': 'Chen ',\n",
       "  'label': 'Weizhu   Chen ',\n",
       "  'email': <email>wzchen@microsoft.com</email>,\n",
       "  'author_id': 52},\n",
       " {'name': 'Zhuang  ',\n",
       "  'last_name': 'Liu ',\n",
       "  'label': 'Zhuang   Liu ',\n",
       "  'email': None,\n",
       "  'author_id': 53},\n",
       " {'name': 'Wayne  ',\n",
       "  'last_name': 'Lin ',\n",
       "  'label': 'Wayne   Lin ',\n",
       "  'email': None,\n",
       "  'author_id': 54},\n",
       " {'name': 'Ya  ',\n",
       "  'last_name': 'Shi ',\n",
       "  'label': 'Ya   Shi ',\n",
       "  'email': None,\n",
       "  'author_id': 55},\n",
       " {'name': 'Jun  ',\n",
       "  'last_name': 'Zhao ',\n",
       "  'label': 'Jun   Zhao ',\n",
       "  'email': None,\n",
       "  'author_id': 56},\n",
       " {'name': 'Yixin  ',\n",
       "  'last_name': 'Liu ',\n",
       "  'label': 'Yixin   Liu ',\n",
       "  'email': None,\n",
       "  'author_id': 57},\n",
       " {'name': 'Kai  ',\n",
       "  'last_name': 'Zhang ',\n",
       "  'label': 'Kai   Zhang ',\n",
       "  'email': None,\n",
       "  'author_id': 58},\n",
       " {'name': 'Yuan  ',\n",
       "  'last_name': 'Li ',\n",
       "  'label': 'Yuan   Li ',\n",
       "  'email': None,\n",
       "  'author_id': 59},\n",
       " {'name': 'Zhiling  ',\n",
       "  'last_name': 'Yan ',\n",
       "  'label': 'Zhiling   Yan ',\n",
       "  'email': None,\n",
       "  'author_id': 60},\n",
       " {'name': 'Chujie  ',\n",
       "  'last_name': 'Gao ',\n",
       "  'label': 'Chujie   Gao ',\n",
       "  'email': None,\n",
       "  'author_id': 61},\n",
       " {'name': 'Ruoxi  ',\n",
       "  'last_name': 'Chen ',\n",
       "  'label': 'Ruoxi   Chen ',\n",
       "  'email': None,\n",
       "  'author_id': 62},\n",
       " {'name': 'Zhengqing  ',\n",
       "  'last_name': 'Yuan ',\n",
       "  'label': 'Zhengqing   Yuan ',\n",
       "  'email': None,\n",
       "  'author_id': 63},\n",
       " {'name': 'Yue  ',\n",
       "  'last_name': 'Huang ',\n",
       "  'label': 'Yue   Huang ',\n",
       "  'email': None,\n",
       "  'author_id': 64},\n",
       " {'name': 'Hanchi  ',\n",
       "  'last_name': 'Sun ',\n",
       "  'label': 'Hanchi   Sun ',\n",
       "  'email': None,\n",
       "  'author_id': 65},\n",
       " {'name': 'Jianfeng  ',\n",
       "  'last_name': 'Gao ',\n",
       "  'label': 'Jianfeng   Gao ',\n",
       "  'email': None,\n",
       "  'author_id': 66},\n",
       " {'name': 'Lifang  ',\n",
       "  'last_name': 'He ',\n",
       "  'label': 'Lifang   He ',\n",
       "  'email': None,\n",
       "  'author_id': 67},\n",
       " {'name': 'Lichao  ',\n",
       "  'last_name': 'Sun ',\n",
       "  'label': 'Lichao   Sun ',\n",
       "  'email': None,\n",
       "  'author_id': 68},\n",
       " {'name': 'Ashish  ',\n",
       "  'last_name': 'Vaswani ',\n",
       "  'label': 'Ashish   Vaswani ',\n",
       "  'email': <email>avaswani@google.com</email>,\n",
       "  'author_id': 69},\n",
       " {'name': 'Noam  ',\n",
       "  'last_name': 'Shazeer ',\n",
       "  'label': 'Noam   Shazeer ',\n",
       "  'email': None,\n",
       "  'author_id': 70},\n",
       " {'name': 'Google  ',\n",
       "  'last_name': 'Brain ',\n",
       "  'label': 'Google   Brain ',\n",
       "  'email': None,\n",
       "  'author_id': 71},\n",
       " {'name': 'Niki  ',\n",
       "  'last_name': 'Parmar ',\n",
       "  'label': 'Niki   Parmar ',\n",
       "  'email': <email>nikip@google.com</email>,\n",
       "  'author_id': 72},\n",
       " {'name': 'Jakob  ',\n",
       "  'last_name': 'Uszkoreit ',\n",
       "  'label': 'Jakob   Uszkoreit ',\n",
       "  'email': None,\n",
       "  'author_id': 73},\n",
       " {'name': 'Llion  ',\n",
       "  'last_name': 'Jones ',\n",
       "  'label': 'Llion   Jones ',\n",
       "  'email': None,\n",
       "  'author_id': 74},\n",
       " {'name': 'Aidan  N ',\n",
       "  'last_name': 'Gomez ',\n",
       "  'label': 'Aidan  N  Gomez ',\n",
       "  'email': None,\n",
       "  'author_id': 75},\n",
       " {'name': 'Łukasz  ',\n",
       "  'last_name': 'Kaiser ',\n",
       "  'label': 'Łukasz   Kaiser ',\n",
       "  'email': <email>lukaszkaiser@google.com</email>,\n",
       "  'author_id': 76},\n",
       " {'name': 'Tomas  ',\n",
       "  'last_name': 'Mikolov ',\n",
       "  'label': 'Tomas   Mikolov ',\n",
       "  'email': <email>tmikolov@google.com</email>,\n",
       "  'author_id': 77},\n",
       " {'name': 'Kai  ',\n",
       "  'last_name': 'Chen ',\n",
       "  'label': 'Kai   Chen ',\n",
       "  'email': <email>kaichen@google.com</email>,\n",
       "  'author_id': 78},\n",
       " {'name': 'Greg  ',\n",
       "  'last_name': 'Corrado ',\n",
       "  'label': 'Greg   Corrado ',\n",
       "  'email': <email>gcorrado@google.com</email>,\n",
       "  'author_id': 79},\n",
       " {'name': 'Jeffrey  ',\n",
       "  'last_name': 'Dean ',\n",
       "  'label': 'Jeffrey   Dean ',\n",
       "  'email': None,\n",
       "  'author_id': 80}]"
      ]
     },
     "execution_count": 21,
     "metadata": {},
     "output_type": "execute_result"
    }
   ],
   "source": [
    "authors_list"
   ]
  },
  {
   "cell_type": "markdown",
   "metadata": {},
   "source": [
    "## Adding Organizations to graph"
   ]
  },
  {
   "cell_type": "code",
   "execution_count": null,
   "metadata": {},
   "outputs": [
    {
     "name": "stdout",
     "output_type": "stream",
     "text": [
      "http://open_science.com/Organization/0 Office of Naval Research\n",
      "http://open_science.com/Organization/1 Google\n",
      "http://open_science.com/Organization/2 OpenAI\n",
      "http://open_science.com/Organization/3 TerraSwarm\n",
      "http://open_science.com/Organization/4 STARnet\n",
      "http://open_science.com/Organization/5 Semiconductor Research Corporation\n",
      "http://open_science.com/Organization/6 MARCO\n",
      "http://open_science.com/Organization/7 DARPA\n",
      "http://open_science.com/Organization/8 Lysandre DEBUT\n",
      "http://open_science.com/Organization/9 Julien CHAUMOND\n",
      "http://open_science.com/Organization/10 Thomas WOLF Hugging Face\n",
      "http://open_science.com/Organization/11 Allen Institute for Artificial Intelligence\n",
      "http://open_science.com/Organization/12 Paul G\n",
      "http://open_science.com/Organization/13 Allen School of Computer Science & Engineering\n",
      "http://open_science.com/Organization/14 University of Washington\n",
      "http://open_science.com/Organization/15 Johns Hopkins University\n",
      "http://open_science.com/Organization/16 University of Washington Seattle\n",
      "http://open_science.com/Organization/17 Microsoft Corporation\n",
      "http://open_science.com/Organization/18 Lehigh University\n",
      "http://open_science.com/Organization/19 Microsoft Research\n",
      "http://open_science.com/Organization/20 Google Inc\n"
     ]
    }
   ],
   "source": [
    "for org in all_orgs:\n",
    "    g.add_organization(org[\"org_id\"],org[\"name\"])\n",
    "\n",
    "# We explore the graph by printing the topic belonging for each paper to all the topics\n",
    "for s, p, o in g.graph.triples((None, None, g.ns.Organization)):\n",
    "    for _, _, org_name in g.graph.triples((s, g.ns.name, None)):\n",
    "        print(s,org_name)"
   ]
  },
  {
   "cell_type": "code",
   "execution_count": null,
   "metadata": {},
   "outputs": [
    {
     "name": "stdout",
     "output_type": "stream",
     "text": [
      "http://open_science.com/Paper/2 http://open_science.com/acknowledges http://open_science.com/Organization/0\n",
      "http://open_science.com/Paper/2 http://open_science.com/acknowledges http://open_science.com/Organization/1\n",
      "http://open_science.com/Paper/3 http://open_science.com/acknowledges http://open_science.com/Organization/2\n",
      "http://open_science.com/Paper/4 http://open_science.com/acknowledges http://open_science.com/Organization/3\n",
      "http://open_science.com/Paper/4 http://open_science.com/acknowledges http://open_science.com/Organization/4\n",
      "http://open_science.com/Paper/4 http://open_science.com/acknowledges http://open_science.com/Organization/5\n",
      "http://open_science.com/Paper/4 http://open_science.com/acknowledges http://open_science.com/Organization/6\n",
      "http://open_science.com/Paper/4 http://open_science.com/acknowledges http://open_science.com/Organization/7\n"
     ]
    }
   ],
   "source": [
    "for relation in all_orgs_rel:\n",
    "    g.add_organization_paper_relation(relation[\"paper_id\"],relation[\"org_id\"])\n",
    "\n",
    "# We explore the graph by printing the topic belonging for each paper to all the topics\n",
    "for s, p, o in g.graph.triples((None, g.ns.acknowledges,None)):\n",
    "    if str(o).startswith(str(g.ns.Organization)):\n",
    "        print(s, p, o)"
   ]
  },
  {
   "cell_type": "code",
   "execution_count": null,
   "metadata": {},
   "outputs": [
    {
     "name": "stdout",
     "output_type": "stream",
     "text": [
      "http://open_science.com/Author/4 http://open_science.com/member http://open_science.com/Organization/8\n",
      "http://open_science.com/Author/4 http://open_science.com/member http://open_science.com/Organization/9\n",
      "http://open_science.com/Author/4 http://open_science.com/member http://open_science.com/Organization/10\n",
      "http://open_science.com/Author/5 http://open_science.com/member http://open_science.com/Organization/11\n",
      "http://open_science.com/Author/6 http://open_science.com/member http://open_science.com/Organization/11\n",
      "http://open_science.com/Author/7 http://open_science.com/member http://open_science.com/Organization/11\n",
      "http://open_science.com/Author/8 http://open_science.com/member http://open_science.com/Organization/11\n",
      "http://open_science.com/Author/9 http://open_science.com/member http://open_science.com/Organization/11\n",
      "http://open_science.com/Author/10 http://open_science.com/member http://open_science.com/Organization/11\n",
      "http://open_science.com/Author/11 http://open_science.com/member http://open_science.com/Organization/11\n",
      "http://open_science.com/Author/6 http://open_science.com/member http://open_science.com/Organization/12\n",
      "http://open_science.com/Author/11 http://open_science.com/member http://open_science.com/Organization/12\n",
      "http://open_science.com/Author/6 http://open_science.com/member http://open_science.com/Organization/13\n",
      "http://open_science.com/Author/11 http://open_science.com/member http://open_science.com/Organization/13\n",
      "http://open_science.com/Author/6 http://open_science.com/member http://open_science.com/Organization/14\n",
      "http://open_science.com/Author/11 http://open_science.com/member http://open_science.com/Organization/14\n",
      "http://open_science.com/Author/16 http://open_science.com/member http://open_science.com/Organization/15\n",
      "http://open_science.com/Author/42 http://open_science.com/member http://open_science.com/Organization/16\n",
      "http://open_science.com/Author/43 http://open_science.com/member http://open_science.com/Organization/16\n",
      "http://open_science.com/Author/44 http://open_science.com/member http://open_science.com/Organization/16\n",
      "http://open_science.com/Author/45 http://open_science.com/member http://open_science.com/Organization/17\n",
      "http://open_science.com/Author/46 http://open_science.com/member http://open_science.com/Organization/17\n",
      "http://open_science.com/Author/47 http://open_science.com/member http://open_science.com/Organization/17\n",
      "http://open_science.com/Author/48 http://open_science.com/member http://open_science.com/Organization/17\n",
      "http://open_science.com/Author/49 http://open_science.com/member http://open_science.com/Organization/17\n",
      "http://open_science.com/Author/50 http://open_science.com/member http://open_science.com/Organization/17\n",
      "http://open_science.com/Author/51 http://open_science.com/member http://open_science.com/Organization/17\n",
      "http://open_science.com/Author/52 http://open_science.com/member http://open_science.com/Organization/17\n",
      "http://open_science.com/Author/57 http://open_science.com/member http://open_science.com/Organization/18\n",
      "http://open_science.com/Author/58 http://open_science.com/member http://open_science.com/Organization/18\n",
      "http://open_science.com/Author/60 http://open_science.com/member http://open_science.com/Organization/18\n",
      "http://open_science.com/Author/61 http://open_science.com/member http://open_science.com/Organization/18\n",
      "http://open_science.com/Author/62 http://open_science.com/member http://open_science.com/Organization/18\n",
      "http://open_science.com/Author/63 http://open_science.com/member http://open_science.com/Organization/18\n",
      "http://open_science.com/Author/64 http://open_science.com/member http://open_science.com/Organization/18\n",
      "http://open_science.com/Author/65 http://open_science.com/member http://open_science.com/Organization/18\n",
      "http://open_science.com/Author/66 http://open_science.com/member http://open_science.com/Organization/18\n",
      "http://open_science.com/Author/67 http://open_science.com/member http://open_science.com/Organization/18\n",
      "http://open_science.com/Author/68 http://open_science.com/member http://open_science.com/Organization/18\n",
      "http://open_science.com/Author/66 http://open_science.com/member http://open_science.com/Organization/19\n",
      "http://open_science.com/Author/77 http://open_science.com/member http://open_science.com/Organization/20\n",
      "http://open_science.com/Author/78 http://open_science.com/member http://open_science.com/Organization/20\n",
      "http://open_science.com/Author/79 http://open_science.com/member http://open_science.com/Organization/20\n",
      "http://open_science.com/Author/80 http://open_science.com/member http://open_science.com/Organization/20\n"
     ]
    }
   ],
   "source": [
    "for relation in relation_author_org:\n",
    "    g.add_organization_author_relation(relation[\"author_id\"],relation[\"org_id\"])\n",
    "\n",
    "# We explore the graph by printing the topic belonging for each paper to all the topics\n",
    "for s, p, o in g.graph.triples((None, g.ns.member, None)):\n",
    "    print(s,p,o)"
   ]
  },
  {
   "cell_type": "markdown",
   "metadata": {},
   "source": [
    "## Adding Projects to graph"
   ]
  },
  {
   "cell_type": "code",
   "execution_count": null,
   "metadata": {},
   "outputs": [
    {
     "name": "stdout",
     "output_type": "stream",
     "text": [
      "http://open_science.com/Project/0 MURI\n",
      "http://open_science.com/Project/1 ONR\n"
     ]
    }
   ],
   "source": [
    "for project in all_projects:\n",
    "    g.add_project(project[\"project_id\"],project[\"project_name\"],project[\"project_federal_id\"])\n",
    "\n",
    "# We explore the graph by printing the topic belonging for each paper to all the topics\n",
    "for s, p, o in g.graph.triples((None, None, g.ns.Project)):\n",
    "    for _, _, org_name in g.graph.triples((s, g.ns.name, None)):\n",
    "        print(s,org_name)"
   ]
  },
  {
   "cell_type": "code",
   "execution_count": null,
   "metadata": {},
   "outputs": [
    {
     "name": "stdout",
     "output_type": "stream",
     "text": [
      "http://open_science.com/Paper/2 http://open_science.com/acknowledges http://open_science.com/Project/0\n",
      "http://open_science.com/Paper/4 http://open_science.com/acknowledges http://open_science.com/Project/1\n"
     ]
    }
   ],
   "source": [
    "for relation in all_projects_relation:\n",
    "    g.add_project_relation(relation[\"paper_id\"],relation[\"project_id\"])\n",
    "\n",
    "# We explore the graph by printing the topic belonging for each paper to all the topics\n",
    "for s, p, o in g.graph.triples((None, g.ns.acknowledges, None)):\n",
    "    if str(o).startswith(str(g.ns.Project)):\n",
    "        print(s, p, o)"
   ]
  },
  {
   "cell_type": "markdown",
   "metadata": {},
   "source": [
    "## Add Authors to Graph"
   ]
  },
  {
   "cell_type": "code",
   "execution_count": null,
   "metadata": {},
   "outputs": [
    {
     "data": {
      "text/plain": [
       "[{'name': 'Jacob  ',\n",
       "  'last_name': 'Devlin ',\n",
       "  'label': 'Jacob   Devlin ',\n",
       "  'email': <email>jacobdevlin@google.com</email>,\n",
       "  'author_id': 0},\n",
       " {'name': 'Ming-Wei  ',\n",
       "  'last_name': 'Chang ',\n",
       "  'label': 'Ming-Wei   Chang ',\n",
       "  'email': <email>mingweichang@google.com</email>,\n",
       "  'author_id': 1},\n",
       " {'name': 'Kenton  ',\n",
       "  'last_name': 'Lee ',\n",
       "  'label': 'Kenton   Lee ',\n",
       "  'email': <email>kentonl@google.com</email>,\n",
       "  'author_id': 2},\n",
       " {'name': 'Kristina  ',\n",
       "  'last_name': 'Toutanova ',\n",
       "  'label': 'Kristina   Toutanova ',\n",
       "  'email': None,\n",
       "  'author_id': 3},\n",
       " {'name': 'Victor  ',\n",
       "  'last_name': 'Sanh ',\n",
       "  'label': 'Victor   Sanh ',\n",
       "  'email': <email>victor@huggingface.co</email>,\n",
       "  'author_id': 4},\n",
       " {'name': 'Suchin  ',\n",
       "  'last_name': 'Gururangan ',\n",
       "  'label': 'Suchin   Gururangan ',\n",
       "  'email': <email>suching@allenai.org</email>,\n",
       "  'author_id': 5},\n",
       " {'name': 'Ana  ',\n",
       "  'last_name': 'Marasović ',\n",
       "  'label': 'Ana   Marasović ',\n",
       "  'email': <email>anam@allenai.org</email>,\n",
       "  'author_id': 6},\n",
       " {'name': 'Swabha  ',\n",
       "  'last_name': 'Swayamdipta ',\n",
       "  'label': 'Swabha   Swayamdipta ',\n",
       "  'email': <email>swabhas@allenai.org</email>,\n",
       "  'author_id': 7},\n",
       " {'name': 'Kyle  ',\n",
       "  'last_name': 'Lo ',\n",
       "  'label': 'Kyle   Lo ',\n",
       "  'email': <email>kylel@allenai.org</email>,\n",
       "  'author_id': 8},\n",
       " {'name': 'Iz  ',\n",
       "  'last_name': 'Beltagy ',\n",
       "  'label': 'Iz   Beltagy ',\n",
       "  'email': <email>beltagy@allenai.org</email>,\n",
       "  'author_id': 9},\n",
       " {'name': 'Doug  ',\n",
       "  'last_name': 'Downey ',\n",
       "  'label': 'Doug   Downey ',\n",
       "  'email': <email>dougd@allenai.org</email>,\n",
       "  'author_id': 10},\n",
       " {'name': 'Noah  A ',\n",
       "  'last_name': 'Smith ',\n",
       "  'label': 'Noah  A  Smith ',\n",
       "  'email': None,\n",
       "  'author_id': 11},\n",
       " {'name': 'Tom  B ',\n",
       "  'last_name': 'Brown ',\n",
       "  'label': 'Tom  B  Brown ',\n",
       "  'email': None,\n",
       "  'author_id': 12},\n",
       " {'name': 'Benjamin  ',\n",
       "  'last_name': 'Mann ',\n",
       "  'label': 'Benjamin   Mann ',\n",
       "  'email': None,\n",
       "  'author_id': 13},\n",
       " {'name': 'Nick  ',\n",
       "  'last_name': 'Ryder ',\n",
       "  'label': 'Nick   Ryder ',\n",
       "  'email': None,\n",
       "  'author_id': 14},\n",
       " {'name': 'Melanie  ',\n",
       "  'last_name': 'Subbiah ',\n",
       "  'label': 'Melanie   Subbiah ',\n",
       "  'email': None,\n",
       "  'author_id': 15},\n",
       " {'name': 'Jared  ',\n",
       "  'last_name': 'Kaplan ',\n",
       "  'label': 'Jared   Kaplan ',\n",
       "  'email': None,\n",
       "  'author_id': 16},\n",
       " {'name': 'Prafulla  ',\n",
       "  'last_name': 'Dhariwal ',\n",
       "  'label': 'Prafulla   Dhariwal ',\n",
       "  'email': None,\n",
       "  'author_id': 17},\n",
       " {'name': 'Arvind  ',\n",
       "  'last_name': 'Neelakantan ',\n",
       "  'label': 'Arvind   Neelakantan ',\n",
       "  'email': None,\n",
       "  'author_id': 18},\n",
       " {'name': 'Pranav  ',\n",
       "  'last_name': 'Shyam ',\n",
       "  'label': 'Pranav   Shyam ',\n",
       "  'email': None,\n",
       "  'author_id': 19},\n",
       " {'name': 'Girish  ',\n",
       "  'last_name': 'Sastry ',\n",
       "  'label': 'Girish   Sastry ',\n",
       "  'email': None,\n",
       "  'author_id': 20},\n",
       " {'name': 'Amanda  ',\n",
       "  'last_name': 'Askell ',\n",
       "  'label': 'Amanda   Askell ',\n",
       "  'email': None,\n",
       "  'author_id': 21},\n",
       " {'name': 'Sandhini  ',\n",
       "  'last_name': 'Agarwal ',\n",
       "  'label': 'Sandhini   Agarwal ',\n",
       "  'email': None,\n",
       "  'author_id': 22},\n",
       " {'name': 'Ariel  ',\n",
       "  'last_name': 'Herbert-Voss ',\n",
       "  'label': 'Ariel   Herbert-Voss ',\n",
       "  'email': None,\n",
       "  'author_id': 23},\n",
       " {'name': 'Gretchen  ',\n",
       "  'last_name': 'Krueger ',\n",
       "  'label': 'Gretchen   Krueger ',\n",
       "  'email': None,\n",
       "  'author_id': 24},\n",
       " {'name': 'Tom  ',\n",
       "  'last_name': 'Henighan ',\n",
       "  'label': 'Tom   Henighan ',\n",
       "  'email': None,\n",
       "  'author_id': 25},\n",
       " {'name': 'Rewon  ',\n",
       "  'last_name': 'Child ',\n",
       "  'label': 'Rewon   Child ',\n",
       "  'email': None,\n",
       "  'author_id': 26},\n",
       " {'name': 'Aditya  ',\n",
       "  'last_name': 'Ramesh ',\n",
       "  'label': 'Aditya   Ramesh ',\n",
       "  'email': None,\n",
       "  'author_id': 27},\n",
       " {'name': 'Daniel  M ',\n",
       "  'last_name': 'Ziegler ',\n",
       "  'label': 'Daniel  M  Ziegler ',\n",
       "  'email': None,\n",
       "  'author_id': 28},\n",
       " {'name': 'Jeffrey  ',\n",
       "  'last_name': 'Wu ',\n",
       "  'label': 'Jeffrey   Wu ',\n",
       "  'email': None,\n",
       "  'author_id': 29},\n",
       " {'name': 'Christopher  ',\n",
       "  'last_name': 'Hesse ',\n",
       "  'label': 'Christopher   Hesse ',\n",
       "  'email': None,\n",
       "  'author_id': 30},\n",
       " {'name': 'Mark  ',\n",
       "  'last_name': 'Chen ',\n",
       "  'label': 'Mark   Chen ',\n",
       "  'email': None,\n",
       "  'author_id': 31},\n",
       " {'name': 'Eric  ',\n",
       "  'last_name': 'Sigler ',\n",
       "  'label': 'Eric   Sigler ',\n",
       "  'email': None,\n",
       "  'author_id': 32},\n",
       " {'name': 'Mateusz  ',\n",
       "  'last_name': 'Litwin ',\n",
       "  'label': 'Mateusz   Litwin ',\n",
       "  'email': None,\n",
       "  'author_id': 33},\n",
       " {'name': 'Scott  ',\n",
       "  'last_name': 'Gray ',\n",
       "  'label': 'Scott   Gray ',\n",
       "  'email': None,\n",
       "  'author_id': 34},\n",
       " {'name': 'Benjamin  ',\n",
       "  'last_name': 'Chess ',\n",
       "  'label': 'Benjamin   Chess ',\n",
       "  'email': None,\n",
       "  'author_id': 35},\n",
       " {'name': 'Jack  ',\n",
       "  'last_name': 'Clark ',\n",
       "  'label': 'Jack   Clark ',\n",
       "  'email': None,\n",
       "  'author_id': 36},\n",
       " {'name': 'Christopher  ',\n",
       "  'last_name': 'Berner ',\n",
       "  'label': 'Christopher   Berner ',\n",
       "  'email': None,\n",
       "  'author_id': 37},\n",
       " {'name': 'Sam  ',\n",
       "  'last_name': 'Mccandlish ',\n",
       "  'label': 'Sam   Mccandlish ',\n",
       "  'email': None,\n",
       "  'author_id': 38},\n",
       " {'name': 'Alec  ',\n",
       "  'last_name': 'Radford ',\n",
       "  'label': 'Alec   Radford ',\n",
       "  'email': None,\n",
       "  'author_id': 39},\n",
       " {'name': 'Ilya  ',\n",
       "  'last_name': 'Sutskever ',\n",
       "  'label': 'Ilya   Sutskever ',\n",
       "  'email': None,\n",
       "  'author_id': 40},\n",
       " {'name': 'Dario  Amodei ',\n",
       "  'last_name': 'Openai ',\n",
       "  'label': 'Dario  Amodei  Openai ',\n",
       "  'email': None,\n",
       "  'author_id': 41},\n",
       " {'name': 'Marco  Tulio ',\n",
       "  'last_name': 'Ribeiro ',\n",
       "  'label': 'Marco  Tulio  Ribeiro ',\n",
       "  'email': <email>marcotcr@cs.uw.edu</email>,\n",
       "  'author_id': 42},\n",
       " {'name': 'Sameer  ',\n",
       "  'last_name': 'Singh ',\n",
       "  'label': 'Sameer   Singh ',\n",
       "  'email': <email>sameer@cs.uw.edu</email>,\n",
       "  'author_id': 43},\n",
       " {'name': 'Carlos  ',\n",
       "  'last_name': 'Guestrin ',\n",
       "  'label': 'Carlos   Guestrin ',\n",
       "  'email': <email>guestrin@cs.uw.edu</email>,\n",
       "  'author_id': 44},\n",
       " {'name': 'Edward  ',\n",
       "  'last_name': 'Hu ',\n",
       "  'label': 'Edward   Hu ',\n",
       "  'email': <email>edwardhu@microsoft.com</email>,\n",
       "  'author_id': 45},\n",
       " {'name': 'Yelong  ',\n",
       "  'last_name': 'Shen ',\n",
       "  'label': 'Yelong   Shen ',\n",
       "  'email': None,\n",
       "  'author_id': 46},\n",
       " {'name': 'Phillip  ',\n",
       "  'last_name': 'Wallis ',\n",
       "  'label': 'Phillip   Wallis ',\n",
       "  'email': <email>phwallis@microsoft.com</email>,\n",
       "  'author_id': 47},\n",
       " {'name': 'Zeyuan  ',\n",
       "  'last_name': 'Allen-Zhu ',\n",
       "  'label': 'Zeyuan   Allen-Zhu ',\n",
       "  'email': <email>zeyuana@microsoft.com</email>,\n",
       "  'author_id': 48},\n",
       " {'name': 'Yuanzhi  ',\n",
       "  'last_name': 'Li ',\n",
       "  'label': 'Yuanzhi   Li ',\n",
       "  'email': <email>yuanzhil@microsoft.com</email>,\n",
       "  'author_id': 49},\n",
       " {'name': 'Shean  ',\n",
       "  'last_name': 'Wang ',\n",
       "  'label': 'Shean   Wang ',\n",
       "  'email': <email>swang@microsoft.com</email>,\n",
       "  'author_id': 50},\n",
       " {'name': 'Lu  ',\n",
       "  'last_name': 'Wang ',\n",
       "  'label': 'Lu   Wang ',\n",
       "  'email': None,\n",
       "  'author_id': 51},\n",
       " {'name': 'Weizhu  ',\n",
       "  'last_name': 'Chen ',\n",
       "  'label': 'Weizhu   Chen ',\n",
       "  'email': <email>wzchen@microsoft.com</email>,\n",
       "  'author_id': 52},\n",
       " {'name': 'Zhuang  ',\n",
       "  'last_name': 'Liu ',\n",
       "  'label': 'Zhuang   Liu ',\n",
       "  'email': None,\n",
       "  'author_id': 53},\n",
       " {'name': 'Wayne  ',\n",
       "  'last_name': 'Lin ',\n",
       "  'label': 'Wayne   Lin ',\n",
       "  'email': None,\n",
       "  'author_id': 54},\n",
       " {'name': 'Ya  ',\n",
       "  'last_name': 'Shi ',\n",
       "  'label': 'Ya   Shi ',\n",
       "  'email': None,\n",
       "  'author_id': 55},\n",
       " {'name': 'Jun  ',\n",
       "  'last_name': 'Zhao ',\n",
       "  'label': 'Jun   Zhao ',\n",
       "  'email': None,\n",
       "  'author_id': 56},\n",
       " {'name': 'Yixin  ',\n",
       "  'last_name': 'Liu ',\n",
       "  'label': 'Yixin   Liu ',\n",
       "  'email': None,\n",
       "  'author_id': 57},\n",
       " {'name': 'Kai  ',\n",
       "  'last_name': 'Zhang ',\n",
       "  'label': 'Kai   Zhang ',\n",
       "  'email': None,\n",
       "  'author_id': 58},\n",
       " {'name': 'Yuan  ',\n",
       "  'last_name': 'Li ',\n",
       "  'label': 'Yuan   Li ',\n",
       "  'email': None,\n",
       "  'author_id': 59},\n",
       " {'name': 'Zhiling  ',\n",
       "  'last_name': 'Yan ',\n",
       "  'label': 'Zhiling   Yan ',\n",
       "  'email': None,\n",
       "  'author_id': 60},\n",
       " {'name': 'Chujie  ',\n",
       "  'last_name': 'Gao ',\n",
       "  'label': 'Chujie   Gao ',\n",
       "  'email': None,\n",
       "  'author_id': 61},\n",
       " {'name': 'Ruoxi  ',\n",
       "  'last_name': 'Chen ',\n",
       "  'label': 'Ruoxi   Chen ',\n",
       "  'email': None,\n",
       "  'author_id': 62},\n",
       " {'name': 'Zhengqing  ',\n",
       "  'last_name': 'Yuan ',\n",
       "  'label': 'Zhengqing   Yuan ',\n",
       "  'email': None,\n",
       "  'author_id': 63},\n",
       " {'name': 'Yue  ',\n",
       "  'last_name': 'Huang ',\n",
       "  'label': 'Yue   Huang ',\n",
       "  'email': None,\n",
       "  'author_id': 64},\n",
       " {'name': 'Hanchi  ',\n",
       "  'last_name': 'Sun ',\n",
       "  'label': 'Hanchi   Sun ',\n",
       "  'email': None,\n",
       "  'author_id': 65},\n",
       " {'name': 'Jianfeng  ',\n",
       "  'last_name': 'Gao ',\n",
       "  'label': 'Jianfeng   Gao ',\n",
       "  'email': None,\n",
       "  'author_id': 66},\n",
       " {'name': 'Lifang  ',\n",
       "  'last_name': 'He ',\n",
       "  'label': 'Lifang   He ',\n",
       "  'email': None,\n",
       "  'author_id': 67},\n",
       " {'name': 'Lichao  ',\n",
       "  'last_name': 'Sun ',\n",
       "  'label': 'Lichao   Sun ',\n",
       "  'email': None,\n",
       "  'author_id': 68},\n",
       " {'name': 'Ashish  ',\n",
       "  'last_name': 'Vaswani ',\n",
       "  'label': 'Ashish   Vaswani ',\n",
       "  'email': <email>avaswani@google.com</email>,\n",
       "  'author_id': 69},\n",
       " {'name': 'Noam  ',\n",
       "  'last_name': 'Shazeer ',\n",
       "  'label': 'Noam   Shazeer ',\n",
       "  'email': None,\n",
       "  'author_id': 70},\n",
       " {'name': 'Google  ',\n",
       "  'last_name': 'Brain ',\n",
       "  'label': 'Google   Brain ',\n",
       "  'email': None,\n",
       "  'author_id': 71},\n",
       " {'name': 'Niki  ',\n",
       "  'last_name': 'Parmar ',\n",
       "  'label': 'Niki   Parmar ',\n",
       "  'email': <email>nikip@google.com</email>,\n",
       "  'author_id': 72},\n",
       " {'name': 'Jakob  ',\n",
       "  'last_name': 'Uszkoreit ',\n",
       "  'label': 'Jakob   Uszkoreit ',\n",
       "  'email': None,\n",
       "  'author_id': 73},\n",
       " {'name': 'Llion  ',\n",
       "  'last_name': 'Jones ',\n",
       "  'label': 'Llion   Jones ',\n",
       "  'email': None,\n",
       "  'author_id': 74},\n",
       " {'name': 'Aidan  N ',\n",
       "  'last_name': 'Gomez ',\n",
       "  'label': 'Aidan  N  Gomez ',\n",
       "  'email': None,\n",
       "  'author_id': 75},\n",
       " {'name': 'Łukasz  ',\n",
       "  'last_name': 'Kaiser ',\n",
       "  'label': 'Łukasz   Kaiser ',\n",
       "  'email': <email>lukaszkaiser@google.com</email>,\n",
       "  'author_id': 76},\n",
       " {'name': 'Tomas  ',\n",
       "  'last_name': 'Mikolov ',\n",
       "  'label': 'Tomas   Mikolov ',\n",
       "  'email': <email>tmikolov@google.com</email>,\n",
       "  'author_id': 77},\n",
       " {'name': 'Kai  ',\n",
       "  'last_name': 'Chen ',\n",
       "  'label': 'Kai   Chen ',\n",
       "  'email': <email>kaichen@google.com</email>,\n",
       "  'author_id': 78},\n",
       " {'name': 'Greg  ',\n",
       "  'last_name': 'Corrado ',\n",
       "  'label': 'Greg   Corrado ',\n",
       "  'email': <email>gcorrado@google.com</email>,\n",
       "  'author_id': 79},\n",
       " {'name': 'Jeffrey  ',\n",
       "  'last_name': 'Dean ',\n",
       "  'label': 'Jeffrey   Dean ',\n",
       "  'email': None,\n",
       "  'author_id': 80}]"
      ]
     },
     "execution_count": 27,
     "metadata": {},
     "output_type": "execute_result"
    }
   ],
   "source": [
    "authors_list"
   ]
  },
  {
   "cell_type": "code",
   "execution_count": null,
   "metadata": {},
   "outputs": [
    {
     "name": "stdout",
     "output_type": "stream",
     "text": [
      "http://open_science.com/Author/0 Jacob   Devlin \n",
      "http://open_science.com/Author/1 Ming-Wei   Chang \n",
      "http://open_science.com/Author/2 Kenton   Lee \n",
      "http://open_science.com/Author/3 Kristina   Toutanova \n",
      "http://open_science.com/Author/4 Victor   Sanh \n",
      "http://open_science.com/Author/5 Suchin   Gururangan \n",
      "http://open_science.com/Author/6 Ana   Marasović \n",
      "http://open_science.com/Author/7 Swabha   Swayamdipta \n",
      "http://open_science.com/Author/8 Kyle   Lo \n",
      "http://open_science.com/Author/9 Iz   Beltagy \n",
      "http://open_science.com/Author/10 Doug   Downey \n",
      "http://open_science.com/Author/11 Noah  A  Smith \n",
      "http://open_science.com/Author/12 Tom  B  Brown \n",
      "http://open_science.com/Author/13 Benjamin   Mann \n",
      "http://open_science.com/Author/14 Nick   Ryder \n",
      "http://open_science.com/Author/15 Melanie   Subbiah \n",
      "http://open_science.com/Author/16 Jared   Kaplan \n",
      "http://open_science.com/Author/17 Prafulla   Dhariwal \n",
      "http://open_science.com/Author/18 Arvind   Neelakantan \n",
      "http://open_science.com/Author/19 Pranav   Shyam \n",
      "http://open_science.com/Author/20 Girish   Sastry \n",
      "http://open_science.com/Author/21 Amanda   Askell \n",
      "http://open_science.com/Author/22 Sandhini   Agarwal \n",
      "http://open_science.com/Author/23 Ariel   Herbert-Voss \n",
      "http://open_science.com/Author/24 Gretchen   Krueger \n",
      "http://open_science.com/Author/25 Tom   Henighan \n",
      "http://open_science.com/Author/26 Rewon   Child \n",
      "http://open_science.com/Author/27 Aditya   Ramesh \n",
      "http://open_science.com/Author/28 Daniel  M  Ziegler \n",
      "http://open_science.com/Author/29 Jeffrey   Wu \n",
      "http://open_science.com/Author/30 Christopher   Hesse \n",
      "http://open_science.com/Author/31 Mark   Chen \n",
      "http://open_science.com/Author/32 Eric   Sigler \n",
      "http://open_science.com/Author/33 Mateusz   Litwin \n",
      "http://open_science.com/Author/34 Scott   Gray \n",
      "http://open_science.com/Author/35 Benjamin   Chess \n",
      "http://open_science.com/Author/36 Jack   Clark \n",
      "http://open_science.com/Author/37 Christopher   Berner \n",
      "http://open_science.com/Author/38 Sam   Mccandlish \n",
      "http://open_science.com/Author/39 Alec   Radford \n",
      "http://open_science.com/Author/40 Ilya   Sutskever \n",
      "http://open_science.com/Author/41 Dario  Amodei  Openai \n",
      "http://open_science.com/Author/42 Marco  Tulio  Ribeiro \n",
      "http://open_science.com/Author/43 Sameer   Singh \n",
      "http://open_science.com/Author/44 Carlos   Guestrin \n",
      "http://open_science.com/Author/45 Edward   Hu \n",
      "http://open_science.com/Author/46 Yelong   Shen \n",
      "http://open_science.com/Author/47 Phillip   Wallis \n",
      "http://open_science.com/Author/48 Zeyuan   Allen-Zhu \n",
      "http://open_science.com/Author/49 Yuanzhi   Li \n",
      "http://open_science.com/Author/50 Shean   Wang \n",
      "http://open_science.com/Author/51 Lu   Wang \n",
      "http://open_science.com/Author/52 Weizhu   Chen \n",
      "http://open_science.com/Author/53 Zhuang   Liu \n",
      "http://open_science.com/Author/54 Wayne   Lin \n",
      "http://open_science.com/Author/55 Ya   Shi \n",
      "http://open_science.com/Author/56 Jun   Zhao \n",
      "http://open_science.com/Author/57 Yixin   Liu \n",
      "http://open_science.com/Author/58 Kai   Zhang \n",
      "http://open_science.com/Author/59 Yuan   Li \n",
      "http://open_science.com/Author/60 Zhiling   Yan \n",
      "http://open_science.com/Author/61 Chujie   Gao \n",
      "http://open_science.com/Author/62 Ruoxi   Chen \n",
      "http://open_science.com/Author/63 Zhengqing   Yuan \n",
      "http://open_science.com/Author/64 Yue   Huang \n",
      "http://open_science.com/Author/65 Hanchi   Sun \n",
      "http://open_science.com/Author/66 Jianfeng   Gao \n",
      "http://open_science.com/Author/67 Lifang   He \n",
      "http://open_science.com/Author/68 Lichao   Sun \n",
      "http://open_science.com/Author/69 Ashish   Vaswani \n",
      "http://open_science.com/Author/70 Noam   Shazeer \n",
      "http://open_science.com/Author/71 Google   Brain \n",
      "http://open_science.com/Author/72 Niki   Parmar \n",
      "http://open_science.com/Author/73 Jakob   Uszkoreit \n",
      "http://open_science.com/Author/74 Llion   Jones \n",
      "http://open_science.com/Author/75 Aidan  N  Gomez \n",
      "http://open_science.com/Author/76 Łukasz   Kaiser \n",
      "http://open_science.com/Author/77 Tomas   Mikolov \n",
      "http://open_science.com/Author/78 Kai   Chen \n",
      "http://open_science.com/Author/79 Greg   Corrado \n",
      "http://open_science.com/Author/80 Jeffrey   Dean \n"
     ]
    }
   ],
   "source": [
    "for author in authors_list:\n",
    "    g.add_author(author[\"author_id\"],author[\"label\"],author[\"name\"],author[\"last_name\"],author[\"email\"])\n",
    "\n",
    "# We explore the graph by printing the topic belonging for each paper to all the topics\n",
    "for s, p, o in g.graph.triples((None, None, g.ns.Author)):\n",
    "    for _, _, full_name in g.graph.triples((s, g.ns.label, None)):\n",
    "        print(s,full_name)"
   ]
  },
  {
   "cell_type": "markdown",
   "metadata": {},
   "source": [
    "## Reconciling Authors to graph"
   ]
  },
  {
   "cell_type": "code",
   "execution_count": null,
   "metadata": {},
   "outputs": [
    {
     "name": "stderr",
     "output_type": "stream",
     "text": [
      "100%|██████████| 9/9 [00:24<00:00,  2.75s/it]\n"
     ]
    }
   ],
   "source": [
    "authors_ids = recon_generic([author[\"label\"] for author in authors_list],\"Q5\")"
   ]
  },
  {
   "cell_type": "code",
   "execution_count": null,
   "metadata": {},
   "outputs": [
    {
     "data": {
      "text/plain": [
       "[{'name': 'Jacob Devlin', 'match': True, 'score': 100.0, 'id': 'Q57954376'},\n",
       " {'name': 'Ming-Wei Chang', 'match': False, 'score': 100.0, 'id': 'Q88254730'},\n",
       " {'name': 'Kenton Lee', 'match': False, 'score': 100.0, 'id': 'Q83190952'},\n",
       " {'name': 'Kristina N. Toutanova',\n",
       "  'match': True,\n",
       "  'score': 100.0,\n",
       "  'id': 'Q57267422'},\n",
       " {'name': 'Victor Sanh', 'match': True, 'score': 100.0, 'id': 'Q108941293'},\n",
       " {'name': 'Suchin Gururangan',\n",
       "  'match': True,\n",
       "  'score': 100.0,\n",
       "  'id': 'Q57005661'},\n",
       " {'name': nan, 'match': False, 'score': nan, 'id': nan},\n",
       " {'name': 'Swabha Swayamdipta',\n",
       "  'match': False,\n",
       "  'score': 100.0,\n",
       "  'id': 'Q57005591'},\n",
       " {'name': 'Kyle Lo', 'match': True, 'score': 100.0, 'id': 'Q104433094'},\n",
       " {'name': 'Iz Beltagy', 'match': True, 'score': 100.0, 'id': 'Q104433087'},\n",
       " {'name': 'Doug Downey', 'match': False, 'score': 100.0, 'id': 'Q55081048'},\n",
       " {'name': 'Noah A. Smith', 'match': False, 'score': 100.0, 'id': 'Q38882473'},\n",
       " {'name': 'Tom B. Brown', 'match': False, 'score': 100.0, 'id': 'Q115662131'},\n",
       " {'name': 'Benjamin F Mann',\n",
       "  'match': False,\n",
       "  'score': 100.0,\n",
       "  'id': 'Q91736166'},\n",
       " {'name': 'Nick Ryder', 'match': False, 'score': 100.0, 'id': 'Q96211491'},\n",
       " {'name': 'Melanie Subbiah',\n",
       "  'match': True,\n",
       "  'score': 100.0,\n",
       "  'id': 'Q115664942'},\n",
       " {'name': 'Jared Kaplan', 'match': True, 'score': 100.0, 'id': 'Q102649624'},\n",
       " {'name': 'Prafulla Dhariwal',\n",
       "  'match': True,\n",
       "  'score': 100.0,\n",
       "  'id': 'Q115662059'},\n",
       " {'name': 'Arvind Neelakantan',\n",
       "  'match': True,\n",
       "  'score': 100.0,\n",
       "  'id': 'Q55444792'},\n",
       " {'name': 'Pranav Shyam', 'match': True, 'score': 100.0, 'id': 'Q115662093'},\n",
       " {'name': 'Girish Sastry', 'match': True, 'score': 100.0, 'id': 'Q115661401'},\n",
       " {'name': 'Amanda Askell', 'match': True, 'score': 100.0, 'id': 'Q115661373'},\n",
       " {'name': 'Sandhini Agarwal',\n",
       "  'match': True,\n",
       "  'score': 100.0,\n",
       "  'id': 'Q115661899'},\n",
       " {'name': 'Ari Herbert-Voss',\n",
       "  'match': True,\n",
       "  'score': 100.0,\n",
       "  'id': 'Q123135028'},\n",
       " {'name': 'Gretchen Krueger',\n",
       "  'match': False,\n",
       "  'score': 100.0,\n",
       "  'id': 'Q123135075'},\n",
       " {'name': 'Tom Henighan', 'match': True, 'score': 100.0, 'id': 'Q113296872'},\n",
       " {'name': 'Rewon Child', 'match': True, 'score': 100.0, 'id': 'Q112065907'},\n",
       " {'name': nan, 'match': False, 'score': nan, 'id': nan},\n",
       " {'name': 'Daniel Ziegler',\n",
       "  'match': False,\n",
       "  'score': 100.0,\n",
       "  'id': 'Q115923540'},\n",
       " {'name': 'Jeffrey Wu', 'match': False, 'score': 100.0, 'id': 'Q115591534'},\n",
       " {'name': 'Prince Christoph of Hesse-Kassel',\n",
       "  'match': False,\n",
       "  'score': 89.0,\n",
       "  'id': 'Q2314771'},\n",
       " {'name': 'Mark Chen', 'match': False, 'score': 100.0, 'id': 'Q707648'},\n",
       " {'name': 'Eric J Sigler', 'match': True, 'score': 100.0, 'id': 'Q91113652'},\n",
       " {'name': nan, 'match': False, 'score': nan, 'id': nan},\n",
       " {'name': 'Scott Gray', 'match': False, 'score': 100.0, 'id': 'Q3476223'},\n",
       " {'name': 'Benjamin Ries', 'match': False, 'score': 81.0, 'id': 'Q108393053'},\n",
       " {'name': 'Jack Clarke', 'match': False, 'score': 100.0, 'id': 'Q1360743'},\n",
       " {'name': 'Christopher Berner',\n",
       "  'match': True,\n",
       "  'score': 100.0,\n",
       "  'id': 'Q115661444'},\n",
       " {'name': 'Sam McCandlish', 'match': True, 'score': 100.0, 'id': 'Q105285886'},\n",
       " {'name': 'Alec Radford', 'match': True, 'score': 100.0, 'id': 'Q29180956'},\n",
       " {'name': 'Ilya Sutskever', 'match': True, 'score': 100.0, 'id': 'Q21712134'},\n",
       " {'name': nan, 'match': False, 'score': nan, 'id': nan},\n",
       " {'name': 'Marco Tulio Ribeiro',\n",
       "  'match': True,\n",
       "  'score': 100.0,\n",
       "  'id': 'Q113667753'},\n",
       " {'name': 'Sameer Singh', 'match': False, 'score': 100.0, 'id': 'Q64219116'},\n",
       " {'name': 'Carlos Ernesto Guestrin',\n",
       "  'match': False,\n",
       "  'score': 79.0,\n",
       "  'id': 'Q102291966'},\n",
       " {'name': 'Edward J. Hu', 'match': False, 'score': 90.0, 'id': 'Q122983353'},\n",
       " {'name': nan, 'match': False, 'score': nan, 'id': nan},\n",
       " {'name': 'Arthur Phillip', 'match': False, 'score': 67.0, 'id': 'Q311548'},\n",
       " {'name': 'Zeyuan Allen-Zhu',\n",
       "  'match': True,\n",
       "  'score': 100.0,\n",
       "  'id': 'Q59483711'},\n",
       " {'name': 'Li Yuanzhi', 'match': False, 'score': 100.0, 'id': 'Q11095430'},\n",
       " {'name': nan, 'match': False, 'score': nan, 'id': nan},\n",
       " {'name': 'Wang Lü', 'match': False, 'score': 100.0, 'id': 'Q3179177'},\n",
       " {'name': 'Weizhu Chen', 'match': True, 'score': 100.0, 'id': 'Q95306494'},\n",
       " {'name': 'Emperor Ming of Han',\n",
       "  'match': False,\n",
       "  'score': 100.0,\n",
       "  'id': 'Q7271'},\n",
       " {'name': 'JJ Lin', 'match': False, 'score': 100.0, 'id': 'Q716022'},\n",
       " {'name': 'Shi Ya', 'match': False, 'score': 100.0, 'id': 'Q45420261'},\n",
       " {'name': 'Zhao Jun', 'match': False, 'score': 100.0, 'id': 'Q3357852'},\n",
       " {'name': 'Yixin Liu', 'match': False, 'score': 100.0, 'id': 'Q59706591'},\n",
       " {'name': 'Zhang Kai', 'match': False, 'score': 100.0, 'id': 'Q8070251'},\n",
       " {'name': 'Yuan Li', 'match': False, 'score': 100.0, 'id': 'Q4023161'},\n",
       " {'name': nan, 'match': False, 'score': nan, 'id': nan},\n",
       " {'name': nan, 'match': False, 'score': nan, 'id': nan},\n",
       " {'name': 'Chen Ruoxi', 'match': False, 'score': 100.0, 'id': 'Q711466'},\n",
       " {'name': 'Wu Zhengqing', 'match': False, 'score': 85.0, 'id': 'Q45707939'},\n",
       " {'name': 'Huang Yue', 'match': False, 'score': 100.0, 'id': 'Q11176284'},\n",
       " {'name': nan, 'match': False, 'score': nan, 'id': nan},\n",
       " {'name': 'Jianfeng Gao', 'match': True, 'score': 100.0, 'id': 'Q114415897'},\n",
       " {'name': 'Lifang He', 'match': True, 'score': 100.0, 'id': 'Q86785768'},\n",
       " {'name': 'Lichao Sun', 'match': False, 'score': 100.0, 'id': 'Q93079007'},\n",
       " {'name': 'Ashish Vaswani', 'match': True, 'score': 100.0, 'id': 'Q44749723'},\n",
       " {'name': 'Noam Shazeer', 'match': True, 'score': 100.0, 'id': 'Q30251943'},\n",
       " {'name': 'Ian J. Goodfellow',\n",
       "  'match': False,\n",
       "  'score': 43.0,\n",
       "  'id': 'Q26703063'},\n",
       " {'name': 'Niki Parmar', 'match': True, 'score': 100.0, 'id': 'Q110864221'},\n",
       " {'name': 'Jakob Uszkoreit', 'match': True, 'score': 100.0, 'id': 'Q98891246'},\n",
       " {'name': 'Llion Jones', 'match': True, 'score': 100.0, 'id': 'Q47126264'},\n",
       " {'name': 'Aidan N. Gomez', 'match': True, 'score': 100.0, 'id': 'Q110864219'},\n",
       " {'name': 'Łukasz Kaiser', 'match': True, 'score': 100.0, 'id': 'Q30251976'},\n",
       " {'name': 'Tomáš Mikolov', 'match': True, 'score': 100.0, 'id': 'Q24698708'},\n",
       " {'name': 'Kai Chen', 'match': False, 'score': 100.0, 'id': 'Q38549126'},\n",
       " {'name': 'Greg S. Corrado', 'match': True, 'score': 100.0, 'id': 'Q24803072'},\n",
       " {'name': 'Dean Jagger', 'match': False, 'score': 100.0, 'id': 'Q471309'}]"
      ]
     },
     "execution_count": 34,
     "metadata": {},
     "output_type": "execute_result"
    }
   ],
   "source": [
    "authors_ids"
   ]
  },
  {
   "cell_type": "code",
   "execution_count": null,
   "metadata": {},
   "outputs": [],
   "source": [
    "for idx,author_data in enumerate(authors_ids):\n",
    "    if author_data[\"match\"] or (author_data[\"score\"])>99:\n",
    "        g.add_wikidata_owl(\"Author\",idx,author_data[\"id\"])"
   ]
  },
  {
   "cell_type": "markdown",
   "metadata": {},
   "source": [
    "## Reconciling Orgs to graph"
   ]
  },
  {
   "cell_type": "code",
   "execution_count": null,
   "metadata": {},
   "outputs": [
    {
     "name": "stderr",
     "output_type": "stream",
     "text": [
      "100%|██████████| 3/3 [00:08<00:00,  2.67s/it]\n"
     ]
    }
   ],
   "source": [
    "orgs_ids = recon_generic([org[\"name\"] for org in all_orgs],\"Q43229\")"
   ]
  },
  {
   "cell_type": "code",
   "execution_count": null,
   "metadata": {},
   "outputs": [
    {
     "data": {
      "text/plain": [
       "[{'name': 'Office of Naval Research',\n",
       "  'match': False,\n",
       "  'score': 100.0,\n",
       "  'id': 'Q1063818'},\n",
       " {'name': 'Google', 'match': False, 'score': 100.0, 'id': 'Q95'},\n",
       " {'name': 'OpenAI', 'match': False, 'score': 100.0, 'id': 'Q21708200'},\n",
       " {'name': nan, 'match': False, 'score': nan, 'id': nan},\n",
       " {'name': 'StarNet', 'match': False, 'score': 100.0, 'id': 'Q4050035'},\n",
       " {'name': 'Semiconductor Research Corporation',\n",
       "  'match': True,\n",
       "  'score': 100.0,\n",
       "  'id': 'Q7449388'},\n",
       " {'name': 'Museum of Contemporary Art, Vigo',\n",
       "  'match': False,\n",
       "  'score': 100.0,\n",
       "  'id': 'Q3395689'},\n",
       " {'name': 'Defense Advanced Research Projects Agency',\n",
       "  'match': True,\n",
       "  'score': 100.0,\n",
       "  'id': 'Q207361'},\n",
       " {'name': nan, 'match': False, 'score': nan, 'id': nan},\n",
       " {'name': nan, 'match': False, 'score': nan, 'id': nan},\n",
       " {'name': nan, 'match': False, 'score': nan, 'id': nan},\n",
       " {'name': 'Allen Institute for Artificial Intelligence',\n",
       "  'match': True,\n",
       "  'score': 100.0,\n",
       "  'id': 'Q16002567'},\n",
       " {'name': 'J. Paul Getty Museum',\n",
       "  'match': False,\n",
       "  'score': 52.0,\n",
       "  'id': 'Q731126'},\n",
       " {'name': 'University of Washington Paul G. Allen School of Computer Science & Engineering',\n",
       "  'match': False,\n",
       "  'score': 93.0,\n",
       "  'id': 'Q98186807'},\n",
       " {'name': 'University of Washington',\n",
       "  'match': True,\n",
       "  'score': 100.0,\n",
       "  'id': 'Q219563'},\n",
       " {'name': 'Johns Hopkins University',\n",
       "  'match': False,\n",
       "  'score': 100.0,\n",
       "  'id': 'Q193727'},\n",
       " {'name': 'University of Washington',\n",
       "  'match': True,\n",
       "  'score': 100.0,\n",
       "  'id': 'Q219563'},\n",
       " {'name': 'Microsoft', 'match': False, 'score': 100.0, 'id': 'Q2283'},\n",
       " {'name': 'Lehigh University', 'match': True, 'score': 100.0, 'id': 'Q622137'},\n",
       " {'name': 'Microsoft Research',\n",
       "  'match': True,\n",
       "  'score': 100.0,\n",
       "  'id': 'Q1144725'},\n",
       " {'name': 'Google', 'match': True, 'score': 100.0, 'id': 'Q95'}]"
      ]
     },
     "execution_count": 37,
     "metadata": {},
     "output_type": "execute_result"
    }
   ],
   "source": [
    "orgs_ids"
   ]
  },
  {
   "cell_type": "code",
   "execution_count": null,
   "metadata": {},
   "outputs": [],
   "source": [
    "for idx,org_data in enumerate(orgs_ids):\n",
    "    if org_data[\"match\"] or (org_data[\"score\"])>99:\n",
    "        g.add_wikidata_owl(\"Organization\",idx,org_data[\"id\"])"
   ]
  },
  {
   "cell_type": "markdown",
   "metadata": {},
   "source": [
    "## Similarity"
   ]
  },
  {
   "cell_type": "markdown",
   "metadata": {},
   "source": [
    "In this section, we will be exploring the use of similarity inside the **Article Graph** !"
   ]
  },
  {
   "cell_type": "markdown",
   "metadata": {},
   "source": [
    "### Calculating similarity"
   ]
  },
  {
   "cell_type": "markdown",
   "metadata": {},
   "source": [
    "In this subsection, we will be calculating the similarity between the papers' abstracts using the `similarity` module!"
   ]
  },
  {
   "cell_type": "code",
   "execution_count": null,
   "metadata": {},
   "outputs": [
    {
     "data": {
      "application/vnd.jupyter.widget-view+json": {
       "model_id": "a7a74ef448884621b6bb9a2ba3c2d9ea",
       "version_major": 2,
       "version_minor": 0
      },
      "text/plain": [
       "model.safetensors:   0%|          | 0.00/438M [00:00<?, ?B/s]"
      ]
     },
     "metadata": {},
     "output_type": "display_data"
    },
    {
     "ename": "KeyboardInterrupt",
     "evalue": "",
     "output_type": "error",
     "traceback": [
      "\u001b[1;31m---------------------------------------------------------------------------\u001b[0m",
      "\u001b[1;31mKeyboardInterrupt\u001b[0m                         Traceback (most recent call last)",
      "Cell \u001b[1;32mIn[32], line 8\u001b[0m\n\u001b[0;32m      5\u001b[0m model_name \u001b[38;5;241m=\u001b[39m \u001b[38;5;124m'\u001b[39m\u001b[38;5;124msentence-transformers/all-mpnet-base-v2\u001b[39m\u001b[38;5;124m'\u001b[39m\n\u001b[0;32m      7\u001b[0m \u001b[38;5;66;03m# Create an instance of the class\u001b[39;00m\n\u001b[1;32m----> 8\u001b[0m Model_instance \u001b[38;5;241m=\u001b[39m Model([paper[\u001b[38;5;124m'\u001b[39m\u001b[38;5;124mabstract\u001b[39m\u001b[38;5;124m'\u001b[39m] \u001b[38;5;28;01mfor\u001b[39;00m paper \u001b[38;5;129;01min\u001b[39;00m papers], model_name)\n\u001b[0;32m     10\u001b[0m \u001b[38;5;66;03m# Calculate similarity and retrieve the results\u001b[39;00m\n\u001b[0;32m     11\u001b[0m similarity_results \u001b[38;5;241m=\u001b[39m Model_instance\u001b[38;5;241m.\u001b[39mcalculate_similarity()\n",
      "File \u001b[1;32me:\\Escritorio\\upm\\open_science\\Article_Graph\\similarity\\Model.py:18\u001b[0m, in \u001b[0;36mModel.__init__\u001b[1;34m(self, texts, model_name)\u001b[0m\n\u001b[0;32m     15\u001b[0m \u001b[38;5;28mself\u001b[39m\u001b[38;5;241m.\u001b[39mtexts \u001b[38;5;241m=\u001b[39m texts\n\u001b[0;32m     17\u001b[0m \u001b[38;5;66;03m# Initialize the SentenceTransformer model\u001b[39;00m\n\u001b[1;32m---> 18\u001b[0m \u001b[38;5;28mself\u001b[39m\u001b[38;5;241m.\u001b[39mmodel \u001b[38;5;241m=\u001b[39m SentenceTransformer(model_name)\n",
      "File \u001b[1;32mc:\\Users\\Yordi111\\anaconda3\\Lib\\site-packages\\sentence_transformers\\SentenceTransformer.py:197\u001b[0m, in \u001b[0;36mSentenceTransformer.__init__\u001b[1;34m(self, model_name_or_path, modules, device, prompts, default_prompt_name, cache_folder, trust_remote_code, revision, token, use_auth_token, truncate_dim)\u001b[0m\n\u001b[0;32m    194\u001b[0m         model_name_or_path \u001b[38;5;241m=\u001b[39m __MODEL_HUB_ORGANIZATION__ \u001b[38;5;241m+\u001b[39m \u001b[38;5;124m\"\u001b[39m\u001b[38;5;124m/\u001b[39m\u001b[38;5;124m\"\u001b[39m \u001b[38;5;241m+\u001b[39m model_name_or_path\n\u001b[0;32m    196\u001b[0m \u001b[38;5;28;01mif\u001b[39;00m is_sentence_transformer_model(model_name_or_path, token, cache_folder\u001b[38;5;241m=\u001b[39mcache_folder, revision\u001b[38;5;241m=\u001b[39mrevision):\n\u001b[1;32m--> 197\u001b[0m     modules \u001b[38;5;241m=\u001b[39m \u001b[38;5;28mself\u001b[39m\u001b[38;5;241m.\u001b[39m_load_sbert_model(\n\u001b[0;32m    198\u001b[0m         model_name_or_path,\n\u001b[0;32m    199\u001b[0m         token\u001b[38;5;241m=\u001b[39mtoken,\n\u001b[0;32m    200\u001b[0m         cache_folder\u001b[38;5;241m=\u001b[39mcache_folder,\n\u001b[0;32m    201\u001b[0m         revision\u001b[38;5;241m=\u001b[39mrevision,\n\u001b[0;32m    202\u001b[0m         trust_remote_code\u001b[38;5;241m=\u001b[39mtrust_remote_code,\n\u001b[0;32m    203\u001b[0m     )\n\u001b[0;32m    204\u001b[0m \u001b[38;5;28;01melse\u001b[39;00m:\n\u001b[0;32m    205\u001b[0m     modules \u001b[38;5;241m=\u001b[39m \u001b[38;5;28mself\u001b[39m\u001b[38;5;241m.\u001b[39m_load_auto_model(\n\u001b[0;32m    206\u001b[0m         model_name_or_path,\n\u001b[0;32m    207\u001b[0m         token\u001b[38;5;241m=\u001b[39mtoken,\n\u001b[1;32m   (...)\u001b[0m\n\u001b[0;32m    210\u001b[0m         trust_remote_code\u001b[38;5;241m=\u001b[39mtrust_remote_code,\n\u001b[0;32m    211\u001b[0m     )\n",
      "File \u001b[1;32mc:\\Users\\Yordi111\\anaconda3\\Lib\\site-packages\\sentence_transformers\\SentenceTransformer.py:1296\u001b[0m, in \u001b[0;36mSentenceTransformer._load_sbert_model\u001b[1;34m(self, model_name_or_path, token, cache_folder, revision, trust_remote_code)\u001b[0m\n\u001b[0;32m   1294\u001b[0m     \u001b[38;5;28;01melse\u001b[39;00m:\n\u001b[0;32m   1295\u001b[0m         kwargs[\u001b[38;5;124m\"\u001b[39m\u001b[38;5;124mtokenizer_args\u001b[39m\u001b[38;5;124m\"\u001b[39m] \u001b[38;5;241m=\u001b[39m hub_kwargs\n\u001b[1;32m-> 1296\u001b[0m     module \u001b[38;5;241m=\u001b[39m Transformer(model_name_or_path, cache_dir\u001b[38;5;241m=\u001b[39mcache_folder, \u001b[38;5;241m*\u001b[39m\u001b[38;5;241m*\u001b[39mkwargs)\n\u001b[0;32m   1297\u001b[0m \u001b[38;5;28;01melse\u001b[39;00m:\n\u001b[0;32m   1298\u001b[0m     \u001b[38;5;66;03m# Normalize does not require any files to be loaded\u001b[39;00m\n\u001b[0;32m   1299\u001b[0m     \u001b[38;5;28;01mif\u001b[39;00m module_class \u001b[38;5;241m==\u001b[39m Normalize:\n",
      "File \u001b[1;32mc:\\Users\\Yordi111\\anaconda3\\Lib\\site-packages\\sentence_transformers\\models\\Transformer.py:36\u001b[0m, in \u001b[0;36mTransformer.__init__\u001b[1;34m(self, model_name_or_path, max_seq_length, model_args, cache_dir, tokenizer_args, do_lower_case, tokenizer_name_or_path)\u001b[0m\n\u001b[0;32m     33\u001b[0m \u001b[38;5;28mself\u001b[39m\u001b[38;5;241m.\u001b[39mdo_lower_case \u001b[38;5;241m=\u001b[39m do_lower_case\n\u001b[0;32m     35\u001b[0m config \u001b[38;5;241m=\u001b[39m AutoConfig\u001b[38;5;241m.\u001b[39mfrom_pretrained(model_name_or_path, \u001b[38;5;241m*\u001b[39m\u001b[38;5;241m*\u001b[39mmodel_args, cache_dir\u001b[38;5;241m=\u001b[39mcache_dir)\n\u001b[1;32m---> 36\u001b[0m \u001b[38;5;28mself\u001b[39m\u001b[38;5;241m.\u001b[39m_load_model(model_name_or_path, config, cache_dir, \u001b[38;5;241m*\u001b[39m\u001b[38;5;241m*\u001b[39mmodel_args)\n\u001b[0;32m     38\u001b[0m \u001b[38;5;28mself\u001b[39m\u001b[38;5;241m.\u001b[39mtokenizer \u001b[38;5;241m=\u001b[39m AutoTokenizer\u001b[38;5;241m.\u001b[39mfrom_pretrained(\n\u001b[0;32m     39\u001b[0m     tokenizer_name_or_path \u001b[38;5;28;01mif\u001b[39;00m tokenizer_name_or_path \u001b[38;5;129;01mis\u001b[39;00m \u001b[38;5;129;01mnot\u001b[39;00m \u001b[38;5;28;01mNone\u001b[39;00m \u001b[38;5;28;01melse\u001b[39;00m model_name_or_path,\n\u001b[0;32m     40\u001b[0m     cache_dir\u001b[38;5;241m=\u001b[39mcache_dir,\n\u001b[0;32m     41\u001b[0m     \u001b[38;5;241m*\u001b[39m\u001b[38;5;241m*\u001b[39mtokenizer_args,\n\u001b[0;32m     42\u001b[0m )\n\u001b[0;32m     44\u001b[0m \u001b[38;5;66;03m# No max_seq_length set. Try to infer from model\u001b[39;00m\n",
      "File \u001b[1;32mc:\\Users\\Yordi111\\anaconda3\\Lib\\site-packages\\sentence_transformers\\models\\Transformer.py:65\u001b[0m, in \u001b[0;36mTransformer._load_model\u001b[1;34m(self, model_name_or_path, config, cache_dir, **model_args)\u001b[0m\n\u001b[0;32m     63\u001b[0m     \u001b[38;5;28mself\u001b[39m\u001b[38;5;241m.\u001b[39m_load_mt5_model(model_name_or_path, config, cache_dir, \u001b[38;5;241m*\u001b[39m\u001b[38;5;241m*\u001b[39mmodel_args)\n\u001b[0;32m     64\u001b[0m \u001b[38;5;28;01melse\u001b[39;00m:\n\u001b[1;32m---> 65\u001b[0m     \u001b[38;5;28mself\u001b[39m\u001b[38;5;241m.\u001b[39mauto_model \u001b[38;5;241m=\u001b[39m AutoModel\u001b[38;5;241m.\u001b[39mfrom_pretrained(\n\u001b[0;32m     66\u001b[0m         model_name_or_path, config\u001b[38;5;241m=\u001b[39mconfig, cache_dir\u001b[38;5;241m=\u001b[39mcache_dir, \u001b[38;5;241m*\u001b[39m\u001b[38;5;241m*\u001b[39mmodel_args\n\u001b[0;32m     67\u001b[0m     )\n",
      "File \u001b[1;32mc:\\Users\\Yordi111\\anaconda3\\Lib\\site-packages\\transformers\\models\\auto\\auto_factory.py:563\u001b[0m, in \u001b[0;36m_BaseAutoModelClass.from_pretrained\u001b[1;34m(cls, pretrained_model_name_or_path, *model_args, **kwargs)\u001b[0m\n\u001b[0;32m    561\u001b[0m \u001b[38;5;28;01melif\u001b[39;00m \u001b[38;5;28mtype\u001b[39m(config) \u001b[38;5;129;01min\u001b[39;00m \u001b[38;5;28mcls\u001b[39m\u001b[38;5;241m.\u001b[39m_model_mapping\u001b[38;5;241m.\u001b[39mkeys():\n\u001b[0;32m    562\u001b[0m     model_class \u001b[38;5;241m=\u001b[39m _get_model_class(config, \u001b[38;5;28mcls\u001b[39m\u001b[38;5;241m.\u001b[39m_model_mapping)\n\u001b[1;32m--> 563\u001b[0m     \u001b[38;5;28;01mreturn\u001b[39;00m model_class\u001b[38;5;241m.\u001b[39mfrom_pretrained(\n\u001b[0;32m    564\u001b[0m         pretrained_model_name_or_path, \u001b[38;5;241m*\u001b[39mmodel_args, config\u001b[38;5;241m=\u001b[39mconfig, \u001b[38;5;241m*\u001b[39m\u001b[38;5;241m*\u001b[39mhub_kwargs, \u001b[38;5;241m*\u001b[39m\u001b[38;5;241m*\u001b[39mkwargs\n\u001b[0;32m    565\u001b[0m     )\n\u001b[0;32m    566\u001b[0m \u001b[38;5;28;01mraise\u001b[39;00m \u001b[38;5;167;01mValueError\u001b[39;00m(\n\u001b[0;32m    567\u001b[0m     \u001b[38;5;124mf\u001b[39m\u001b[38;5;124m\"\u001b[39m\u001b[38;5;124mUnrecognized configuration class \u001b[39m\u001b[38;5;132;01m{\u001b[39;00mconfig\u001b[38;5;241m.\u001b[39m\u001b[38;5;18m__class__\u001b[39m\u001b[38;5;132;01m}\u001b[39;00m\u001b[38;5;124m for this kind of AutoModel: \u001b[39m\u001b[38;5;132;01m{\u001b[39;00m\u001b[38;5;28mcls\u001b[39m\u001b[38;5;241m.\u001b[39m\u001b[38;5;18m__name__\u001b[39m\u001b[38;5;132;01m}\u001b[39;00m\u001b[38;5;124m.\u001b[39m\u001b[38;5;130;01m\\n\u001b[39;00m\u001b[38;5;124m\"\u001b[39m\n\u001b[0;32m    568\u001b[0m     \u001b[38;5;124mf\u001b[39m\u001b[38;5;124m\"\u001b[39m\u001b[38;5;124mModel type should be one of \u001b[39m\u001b[38;5;132;01m{\u001b[39;00m\u001b[38;5;124m'\u001b[39m\u001b[38;5;124m, \u001b[39m\u001b[38;5;124m'\u001b[39m\u001b[38;5;241m.\u001b[39mjoin(c\u001b[38;5;241m.\u001b[39m\u001b[38;5;18m__name__\u001b[39m\u001b[38;5;250m \u001b[39m\u001b[38;5;28;01mfor\u001b[39;00m\u001b[38;5;250m \u001b[39mc\u001b[38;5;250m \u001b[39m\u001b[38;5;129;01min\u001b[39;00m\u001b[38;5;250m \u001b[39m\u001b[38;5;28mcls\u001b[39m\u001b[38;5;241m.\u001b[39m_model_mapping\u001b[38;5;241m.\u001b[39mkeys())\u001b[38;5;132;01m}\u001b[39;00m\u001b[38;5;124m.\u001b[39m\u001b[38;5;124m\"\u001b[39m\n\u001b[0;32m    569\u001b[0m )\n",
      "File \u001b[1;32mc:\\Users\\Yordi111\\anaconda3\\Lib\\site-packages\\transformers\\modeling_utils.py:3306\u001b[0m, in \u001b[0;36mPreTrainedModel.from_pretrained\u001b[1;34m(cls, pretrained_model_name_or_path, config, cache_dir, ignore_mismatched_sizes, force_download, local_files_only, token, revision, use_safetensors, *model_args, **kwargs)\u001b[0m\n\u001b[0;32m   3290\u001b[0m \u001b[38;5;28;01mtry\u001b[39;00m:\n\u001b[0;32m   3291\u001b[0m     \u001b[38;5;66;03m# Load from URL or cache if already cached\u001b[39;00m\n\u001b[0;32m   3292\u001b[0m     cached_file_kwargs \u001b[38;5;241m=\u001b[39m {\n\u001b[0;32m   3293\u001b[0m         \u001b[38;5;124m\"\u001b[39m\u001b[38;5;124mcache_dir\u001b[39m\u001b[38;5;124m\"\u001b[39m: cache_dir,\n\u001b[0;32m   3294\u001b[0m         \u001b[38;5;124m\"\u001b[39m\u001b[38;5;124mforce_download\u001b[39m\u001b[38;5;124m\"\u001b[39m: force_download,\n\u001b[1;32m   (...)\u001b[0m\n\u001b[0;32m   3304\u001b[0m         \u001b[38;5;124m\"\u001b[39m\u001b[38;5;124m_commit_hash\u001b[39m\u001b[38;5;124m\"\u001b[39m: commit_hash,\n\u001b[0;32m   3305\u001b[0m     }\n\u001b[1;32m-> 3306\u001b[0m     resolved_archive_file \u001b[38;5;241m=\u001b[39m cached_file(pretrained_model_name_or_path, filename, \u001b[38;5;241m*\u001b[39m\u001b[38;5;241m*\u001b[39mcached_file_kwargs)\n\u001b[0;32m   3308\u001b[0m     \u001b[38;5;66;03m# Since we set _raise_exceptions_for_missing_entries=False, we don't get an exception but a None\u001b[39;00m\n\u001b[0;32m   3309\u001b[0m     \u001b[38;5;66;03m# result when internet is up, the repo and revision exist, but the file does not.\u001b[39;00m\n\u001b[0;32m   3310\u001b[0m     \u001b[38;5;28;01mif\u001b[39;00m resolved_archive_file \u001b[38;5;129;01mis\u001b[39;00m \u001b[38;5;28;01mNone\u001b[39;00m \u001b[38;5;129;01mand\u001b[39;00m filename \u001b[38;5;241m==\u001b[39m _add_variant(SAFE_WEIGHTS_NAME, variant):\n\u001b[0;32m   3311\u001b[0m         \u001b[38;5;66;03m# Maybe the checkpoint is sharded, we try to grab the index name in this case.\u001b[39;00m\n",
      "File \u001b[1;32mc:\\Users\\Yordi111\\anaconda3\\Lib\\site-packages\\transformers\\utils\\hub.py:398\u001b[0m, in \u001b[0;36mcached_file\u001b[1;34m(path_or_repo_id, filename, cache_dir, force_download, resume_download, proxies, token, revision, local_files_only, subfolder, repo_type, user_agent, _raise_exceptions_for_gated_repo, _raise_exceptions_for_missing_entries, _raise_exceptions_for_connection_errors, _commit_hash, **deprecated_kwargs)\u001b[0m\n\u001b[0;32m    395\u001b[0m user_agent \u001b[38;5;241m=\u001b[39m http_user_agent(user_agent)\n\u001b[0;32m    396\u001b[0m \u001b[38;5;28;01mtry\u001b[39;00m:\n\u001b[0;32m    397\u001b[0m     \u001b[38;5;66;03m# Load from URL or cache if already cached\u001b[39;00m\n\u001b[1;32m--> 398\u001b[0m     resolved_file \u001b[38;5;241m=\u001b[39m hf_hub_download(\n\u001b[0;32m    399\u001b[0m         path_or_repo_id,\n\u001b[0;32m    400\u001b[0m         filename,\n\u001b[0;32m    401\u001b[0m         subfolder\u001b[38;5;241m=\u001b[39m\u001b[38;5;28;01mNone\u001b[39;00m \u001b[38;5;28;01mif\u001b[39;00m \u001b[38;5;28mlen\u001b[39m(subfolder) \u001b[38;5;241m==\u001b[39m \u001b[38;5;241m0\u001b[39m \u001b[38;5;28;01melse\u001b[39;00m subfolder,\n\u001b[0;32m    402\u001b[0m         repo_type\u001b[38;5;241m=\u001b[39mrepo_type,\n\u001b[0;32m    403\u001b[0m         revision\u001b[38;5;241m=\u001b[39mrevision,\n\u001b[0;32m    404\u001b[0m         cache_dir\u001b[38;5;241m=\u001b[39mcache_dir,\n\u001b[0;32m    405\u001b[0m         user_agent\u001b[38;5;241m=\u001b[39muser_agent,\n\u001b[0;32m    406\u001b[0m         force_download\u001b[38;5;241m=\u001b[39mforce_download,\n\u001b[0;32m    407\u001b[0m         proxies\u001b[38;5;241m=\u001b[39mproxies,\n\u001b[0;32m    408\u001b[0m         resume_download\u001b[38;5;241m=\u001b[39mresume_download,\n\u001b[0;32m    409\u001b[0m         token\u001b[38;5;241m=\u001b[39mtoken,\n\u001b[0;32m    410\u001b[0m         local_files_only\u001b[38;5;241m=\u001b[39mlocal_files_only,\n\u001b[0;32m    411\u001b[0m     )\n\u001b[0;32m    412\u001b[0m \u001b[38;5;28;01mexcept\u001b[39;00m GatedRepoError \u001b[38;5;28;01mas\u001b[39;00m e:\n\u001b[0;32m    413\u001b[0m     resolved_file \u001b[38;5;241m=\u001b[39m _get_cache_file_to_return(path_or_repo_id, full_filename, cache_dir, revision)\n",
      "File \u001b[1;32mc:\\Users\\Yordi111\\anaconda3\\Lib\\site-packages\\huggingface_hub\\utils\\_validators.py:119\u001b[0m, in \u001b[0;36mvalidate_hf_hub_args.<locals>._inner_fn\u001b[1;34m(*args, **kwargs)\u001b[0m\n\u001b[0;32m    116\u001b[0m \u001b[38;5;28;01mif\u001b[39;00m check_use_auth_token:\n\u001b[0;32m    117\u001b[0m     kwargs \u001b[38;5;241m=\u001b[39m smoothly_deprecate_use_auth_token(fn_name\u001b[38;5;241m=\u001b[39mfn\u001b[38;5;241m.\u001b[39m\u001b[38;5;18m__name__\u001b[39m, has_token\u001b[38;5;241m=\u001b[39mhas_token, kwargs\u001b[38;5;241m=\u001b[39mkwargs)\n\u001b[1;32m--> 119\u001b[0m \u001b[38;5;28;01mreturn\u001b[39;00m fn(\u001b[38;5;241m*\u001b[39margs, \u001b[38;5;241m*\u001b[39m\u001b[38;5;241m*\u001b[39mkwargs)\n",
      "File \u001b[1;32mc:\\Users\\Yordi111\\anaconda3\\Lib\\site-packages\\huggingface_hub\\file_download.py:1492\u001b[0m, in \u001b[0;36mhf_hub_download\u001b[1;34m(repo_id, filename, subfolder, repo_type, revision, library_name, library_version, cache_dir, local_dir, local_dir_use_symlinks, user_agent, force_download, force_filename, proxies, etag_timeout, resume_download, token, local_files_only, headers, legacy_cache_layout, endpoint)\u001b[0m\n\u001b[0;32m   1489\u001b[0m         \u001b[38;5;28;01mif\u001b[39;00m local_dir \u001b[38;5;129;01mis\u001b[39;00m \u001b[38;5;129;01mnot\u001b[39;00m \u001b[38;5;28;01mNone\u001b[39;00m:\n\u001b[0;32m   1490\u001b[0m             _check_disk_space(expected_size, local_dir)\n\u001b[1;32m-> 1492\u001b[0m     http_get(\n\u001b[0;32m   1493\u001b[0m         url_to_download,\n\u001b[0;32m   1494\u001b[0m         temp_file,\n\u001b[0;32m   1495\u001b[0m         proxies\u001b[38;5;241m=\u001b[39mproxies,\n\u001b[0;32m   1496\u001b[0m         resume_size\u001b[38;5;241m=\u001b[39mresume_size,\n\u001b[0;32m   1497\u001b[0m         headers\u001b[38;5;241m=\u001b[39mheaders,\n\u001b[0;32m   1498\u001b[0m         expected_size\u001b[38;5;241m=\u001b[39mexpected_size,\n\u001b[0;32m   1499\u001b[0m         displayed_filename\u001b[38;5;241m=\u001b[39mfilename,\n\u001b[0;32m   1500\u001b[0m     )\n\u001b[0;32m   1502\u001b[0m \u001b[38;5;28;01mif\u001b[39;00m local_dir \u001b[38;5;129;01mis\u001b[39;00m \u001b[38;5;28;01mNone\u001b[39;00m:\n\u001b[0;32m   1503\u001b[0m     logger\u001b[38;5;241m.\u001b[39mdebug(\u001b[38;5;124mf\u001b[39m\u001b[38;5;124m\"\u001b[39m\u001b[38;5;124mStoring \u001b[39m\u001b[38;5;132;01m{\u001b[39;00murl\u001b[38;5;132;01m}\u001b[39;00m\u001b[38;5;124m in cache at \u001b[39m\u001b[38;5;132;01m{\u001b[39;00mblob_path\u001b[38;5;132;01m}\u001b[39;00m\u001b[38;5;124m\"\u001b[39m)\n",
      "File \u001b[1;32mc:\\Users\\Yordi111\\anaconda3\\Lib\\site-packages\\huggingface_hub\\file_download.py:535\u001b[0m, in \u001b[0;36mhttp_get\u001b[1;34m(url, temp_file, proxies, resume_size, headers, expected_size, displayed_filename, _nb_retries, _tqdm_bar)\u001b[0m\n\u001b[0;32m    533\u001b[0m new_resume_size \u001b[38;5;241m=\u001b[39m resume_size\n\u001b[0;32m    534\u001b[0m \u001b[38;5;28;01mtry\u001b[39;00m:\n\u001b[1;32m--> 535\u001b[0m     \u001b[38;5;28;01mfor\u001b[39;00m chunk \u001b[38;5;129;01min\u001b[39;00m r\u001b[38;5;241m.\u001b[39miter_content(chunk_size\u001b[38;5;241m=\u001b[39mDOWNLOAD_CHUNK_SIZE):\n\u001b[0;32m    536\u001b[0m         \u001b[38;5;28;01mif\u001b[39;00m chunk:  \u001b[38;5;66;03m# filter out keep-alive new chunks\u001b[39;00m\n\u001b[0;32m    537\u001b[0m             progress\u001b[38;5;241m.\u001b[39mupdate(\u001b[38;5;28mlen\u001b[39m(chunk))\n",
      "File \u001b[1;32mc:\\Users\\Yordi111\\anaconda3\\Lib\\site-packages\\requests\\models.py:816\u001b[0m, in \u001b[0;36mResponse.iter_content.<locals>.generate\u001b[1;34m()\u001b[0m\n\u001b[0;32m    814\u001b[0m \u001b[38;5;28;01mif\u001b[39;00m \u001b[38;5;28mhasattr\u001b[39m(\u001b[38;5;28mself\u001b[39m\u001b[38;5;241m.\u001b[39mraw, \u001b[38;5;124m\"\u001b[39m\u001b[38;5;124mstream\u001b[39m\u001b[38;5;124m\"\u001b[39m):\n\u001b[0;32m    815\u001b[0m     \u001b[38;5;28;01mtry\u001b[39;00m:\n\u001b[1;32m--> 816\u001b[0m         \u001b[38;5;28;01myield from\u001b[39;00m \u001b[38;5;28mself\u001b[39m\u001b[38;5;241m.\u001b[39mraw\u001b[38;5;241m.\u001b[39mstream(chunk_size, decode_content\u001b[38;5;241m=\u001b[39m\u001b[38;5;28;01mTrue\u001b[39;00m)\n\u001b[0;32m    817\u001b[0m     \u001b[38;5;28;01mexcept\u001b[39;00m ProtocolError \u001b[38;5;28;01mas\u001b[39;00m e:\n\u001b[0;32m    818\u001b[0m         \u001b[38;5;28;01mraise\u001b[39;00m ChunkedEncodingError(e)\n",
      "File \u001b[1;32mc:\\Users\\Yordi111\\anaconda3\\Lib\\site-packages\\urllib3\\response.py:628\u001b[0m, in \u001b[0;36mHTTPResponse.stream\u001b[1;34m(self, amt, decode_content)\u001b[0m\n\u001b[0;32m    626\u001b[0m \u001b[38;5;28;01melse\u001b[39;00m:\n\u001b[0;32m    627\u001b[0m     \u001b[38;5;28;01mwhile\u001b[39;00m \u001b[38;5;129;01mnot\u001b[39;00m is_fp_closed(\u001b[38;5;28mself\u001b[39m\u001b[38;5;241m.\u001b[39m_fp):\n\u001b[1;32m--> 628\u001b[0m         data \u001b[38;5;241m=\u001b[39m \u001b[38;5;28mself\u001b[39m\u001b[38;5;241m.\u001b[39mread(amt\u001b[38;5;241m=\u001b[39mamt, decode_content\u001b[38;5;241m=\u001b[39mdecode_content)\n\u001b[0;32m    630\u001b[0m         \u001b[38;5;28;01mif\u001b[39;00m data:\n\u001b[0;32m    631\u001b[0m             \u001b[38;5;28;01myield\u001b[39;00m data\n",
      "File \u001b[1;32mc:\\Users\\Yordi111\\anaconda3\\Lib\\site-packages\\urllib3\\response.py:567\u001b[0m, in \u001b[0;36mHTTPResponse.read\u001b[1;34m(self, amt, decode_content, cache_content)\u001b[0m\n\u001b[0;32m    564\u001b[0m fp_closed \u001b[38;5;241m=\u001b[39m \u001b[38;5;28mgetattr\u001b[39m(\u001b[38;5;28mself\u001b[39m\u001b[38;5;241m.\u001b[39m_fp, \u001b[38;5;124m\"\u001b[39m\u001b[38;5;124mclosed\u001b[39m\u001b[38;5;124m\"\u001b[39m, \u001b[38;5;28;01mFalse\u001b[39;00m)\n\u001b[0;32m    566\u001b[0m \u001b[38;5;28;01mwith\u001b[39;00m \u001b[38;5;28mself\u001b[39m\u001b[38;5;241m.\u001b[39m_error_catcher():\n\u001b[1;32m--> 567\u001b[0m     data \u001b[38;5;241m=\u001b[39m \u001b[38;5;28mself\u001b[39m\u001b[38;5;241m.\u001b[39m_fp_read(amt) \u001b[38;5;28;01mif\u001b[39;00m \u001b[38;5;129;01mnot\u001b[39;00m fp_closed \u001b[38;5;28;01melse\u001b[39;00m \u001b[38;5;124mb\u001b[39m\u001b[38;5;124m\"\u001b[39m\u001b[38;5;124m\"\u001b[39m\n\u001b[0;32m    568\u001b[0m     \u001b[38;5;28;01mif\u001b[39;00m amt \u001b[38;5;129;01mis\u001b[39;00m \u001b[38;5;28;01mNone\u001b[39;00m:\n\u001b[0;32m    569\u001b[0m         flush_decoder \u001b[38;5;241m=\u001b[39m \u001b[38;5;28;01mTrue\u001b[39;00m\n",
      "File \u001b[1;32mc:\\Users\\Yordi111\\anaconda3\\Lib\\site-packages\\urllib3\\response.py:533\u001b[0m, in \u001b[0;36mHTTPResponse._fp_read\u001b[1;34m(self, amt)\u001b[0m\n\u001b[0;32m    530\u001b[0m     \u001b[38;5;28;01mreturn\u001b[39;00m buffer\u001b[38;5;241m.\u001b[39mgetvalue()\n\u001b[0;32m    531\u001b[0m \u001b[38;5;28;01melse\u001b[39;00m:\n\u001b[0;32m    532\u001b[0m     \u001b[38;5;66;03m# StringIO doesn't like amt=None\u001b[39;00m\n\u001b[1;32m--> 533\u001b[0m     \u001b[38;5;28;01mreturn\u001b[39;00m \u001b[38;5;28mself\u001b[39m\u001b[38;5;241m.\u001b[39m_fp\u001b[38;5;241m.\u001b[39mread(amt) \u001b[38;5;28;01mif\u001b[39;00m amt \u001b[38;5;129;01mis\u001b[39;00m \u001b[38;5;129;01mnot\u001b[39;00m \u001b[38;5;28;01mNone\u001b[39;00m \u001b[38;5;28;01melse\u001b[39;00m \u001b[38;5;28mself\u001b[39m\u001b[38;5;241m.\u001b[39m_fp\u001b[38;5;241m.\u001b[39mread()\n",
      "File \u001b[1;32mc:\\Users\\Yordi111\\anaconda3\\Lib\\http\\client.py:466\u001b[0m, in \u001b[0;36mHTTPResponse.read\u001b[1;34m(self, amt)\u001b[0m\n\u001b[0;32m    463\u001b[0m \u001b[38;5;28;01mif\u001b[39;00m \u001b[38;5;28mself\u001b[39m\u001b[38;5;241m.\u001b[39mlength \u001b[38;5;129;01mis\u001b[39;00m \u001b[38;5;129;01mnot\u001b[39;00m \u001b[38;5;28;01mNone\u001b[39;00m \u001b[38;5;129;01mand\u001b[39;00m amt \u001b[38;5;241m>\u001b[39m \u001b[38;5;28mself\u001b[39m\u001b[38;5;241m.\u001b[39mlength:\n\u001b[0;32m    464\u001b[0m     \u001b[38;5;66;03m# clip the read to the \"end of response\"\u001b[39;00m\n\u001b[0;32m    465\u001b[0m     amt \u001b[38;5;241m=\u001b[39m \u001b[38;5;28mself\u001b[39m\u001b[38;5;241m.\u001b[39mlength\n\u001b[1;32m--> 466\u001b[0m s \u001b[38;5;241m=\u001b[39m \u001b[38;5;28mself\u001b[39m\u001b[38;5;241m.\u001b[39mfp\u001b[38;5;241m.\u001b[39mread(amt)\n\u001b[0;32m    467\u001b[0m \u001b[38;5;28;01mif\u001b[39;00m \u001b[38;5;129;01mnot\u001b[39;00m s \u001b[38;5;129;01mand\u001b[39;00m amt:\n\u001b[0;32m    468\u001b[0m     \u001b[38;5;66;03m# Ideally, we would raise IncompleteRead if the content-length\u001b[39;00m\n\u001b[0;32m    469\u001b[0m     \u001b[38;5;66;03m# wasn't satisfied, but it might break compatibility.\u001b[39;00m\n\u001b[0;32m    470\u001b[0m     \u001b[38;5;28mself\u001b[39m\u001b[38;5;241m.\u001b[39m_close_conn()\n",
      "File \u001b[1;32mc:\\Users\\Yordi111\\anaconda3\\Lib\\socket.py:706\u001b[0m, in \u001b[0;36mSocketIO.readinto\u001b[1;34m(self, b)\u001b[0m\n\u001b[0;32m    704\u001b[0m \u001b[38;5;28;01mwhile\u001b[39;00m \u001b[38;5;28;01mTrue\u001b[39;00m:\n\u001b[0;32m    705\u001b[0m     \u001b[38;5;28;01mtry\u001b[39;00m:\n\u001b[1;32m--> 706\u001b[0m         \u001b[38;5;28;01mreturn\u001b[39;00m \u001b[38;5;28mself\u001b[39m\u001b[38;5;241m.\u001b[39m_sock\u001b[38;5;241m.\u001b[39mrecv_into(b)\n\u001b[0;32m    707\u001b[0m     \u001b[38;5;28;01mexcept\u001b[39;00m timeout:\n\u001b[0;32m    708\u001b[0m         \u001b[38;5;28mself\u001b[39m\u001b[38;5;241m.\u001b[39m_timeout_occurred \u001b[38;5;241m=\u001b[39m \u001b[38;5;28;01mTrue\u001b[39;00m\n",
      "File \u001b[1;32mc:\\Users\\Yordi111\\anaconda3\\Lib\\ssl.py:1311\u001b[0m, in \u001b[0;36mSSLSocket.recv_into\u001b[1;34m(self, buffer, nbytes, flags)\u001b[0m\n\u001b[0;32m   1307\u001b[0m     \u001b[38;5;28;01mif\u001b[39;00m flags \u001b[38;5;241m!=\u001b[39m \u001b[38;5;241m0\u001b[39m:\n\u001b[0;32m   1308\u001b[0m         \u001b[38;5;28;01mraise\u001b[39;00m \u001b[38;5;167;01mValueError\u001b[39;00m(\n\u001b[0;32m   1309\u001b[0m           \u001b[38;5;124m\"\u001b[39m\u001b[38;5;124mnon-zero flags not allowed in calls to recv_into() on \u001b[39m\u001b[38;5;132;01m%s\u001b[39;00m\u001b[38;5;124m\"\u001b[39m \u001b[38;5;241m%\u001b[39m\n\u001b[0;32m   1310\u001b[0m           \u001b[38;5;28mself\u001b[39m\u001b[38;5;241m.\u001b[39m\u001b[38;5;18m__class__\u001b[39m)\n\u001b[1;32m-> 1311\u001b[0m     \u001b[38;5;28;01mreturn\u001b[39;00m \u001b[38;5;28mself\u001b[39m\u001b[38;5;241m.\u001b[39mread(nbytes, buffer)\n\u001b[0;32m   1312\u001b[0m \u001b[38;5;28;01melse\u001b[39;00m:\n\u001b[0;32m   1313\u001b[0m     \u001b[38;5;28;01mreturn\u001b[39;00m \u001b[38;5;28msuper\u001b[39m()\u001b[38;5;241m.\u001b[39mrecv_into(buffer, nbytes, flags)\n",
      "File \u001b[1;32mc:\\Users\\Yordi111\\anaconda3\\Lib\\ssl.py:1167\u001b[0m, in \u001b[0;36mSSLSocket.read\u001b[1;34m(self, len, buffer)\u001b[0m\n\u001b[0;32m   1165\u001b[0m \u001b[38;5;28;01mtry\u001b[39;00m:\n\u001b[0;32m   1166\u001b[0m     \u001b[38;5;28;01mif\u001b[39;00m buffer \u001b[38;5;129;01mis\u001b[39;00m \u001b[38;5;129;01mnot\u001b[39;00m \u001b[38;5;28;01mNone\u001b[39;00m:\n\u001b[1;32m-> 1167\u001b[0m         \u001b[38;5;28;01mreturn\u001b[39;00m \u001b[38;5;28mself\u001b[39m\u001b[38;5;241m.\u001b[39m_sslobj\u001b[38;5;241m.\u001b[39mread(\u001b[38;5;28mlen\u001b[39m, buffer)\n\u001b[0;32m   1168\u001b[0m     \u001b[38;5;28;01melse\u001b[39;00m:\n\u001b[0;32m   1169\u001b[0m         \u001b[38;5;28;01mreturn\u001b[39;00m \u001b[38;5;28mself\u001b[39m\u001b[38;5;241m.\u001b[39m_sslobj\u001b[38;5;241m.\u001b[39mread(\u001b[38;5;28mlen\u001b[39m)\n",
      "\u001b[1;31mKeyboardInterrupt\u001b[0m: "
     ]
    }
   ],
   "source": [
    "# pip install -U sentence-transformers\n",
    "from similarity.Model import Model\n",
    "\n",
    "# Name of the SentenceTransformer model to use\n",
    "model_name = 'sentence-transformers/all-mpnet-base-v2'\n",
    "\n",
    "# Create an instance of the class\n",
    "Model_instance = Model([paper['abstract'] for paper in papers], model_name)\n",
    "\n",
    "# Calculate similarity and retrieve the results\n",
    "similarity_results = Model_instance.calculate_similarity()\n",
    "\n",
    "# Print similarity results\n",
    "print(\"Similarity results:\")\n",
    "for result in similarity_results:\n",
    "    print(result)"
   ]
  },
  {
   "cell_type": "code",
   "execution_count": null,
   "metadata": {},
   "outputs": [
    {
     "data": {
      "application/vnd.jupyter.widget-view+json": {
       "model_id": "bbe5b6243d844ddaa46fd500c2e80759",
       "version_major": 2,
       "version_minor": 0
      },
      "text/plain": [
       "model.safetensors:   0%|          | 0.00/438M [00:00<?, ?B/s]"
      ]
     },
     "metadata": {},
     "output_type": "display_data"
    },
    {
     "name": "stderr",
     "output_type": "stream",
     "text": [
      "c:\\Users\\Yordi111\\anaconda3\\Lib\\site-packages\\huggingface_hub\\file_download.py:148: UserWarning: `huggingface_hub` cache-system uses symlinks by default to efficiently store duplicated files but your machine does not support them in C:\\Users\\Yordi111\\.cache\\huggingface\\hub\\models--sentence-transformers--all-mpnet-base-v2. Caching files will still work but in a degraded version that might require more space on your disk. This warning can be disabled by setting the `HF_HUB_DISABLE_SYMLINKS_WARNING` environment variable. For more details, see https://huggingface.co/docs/huggingface_hub/how-to-cache#limitations.\n",
      "To support symlinks on Windows, you either need to activate Developer Mode or to run Python as an administrator. In order to see activate developer mode, see this article: https://docs.microsoft.com/en-us/windows/apps/get-started/enable-your-device-for-development\n",
      "  warnings.warn(message)\n"
     ]
    },
    {
     "data": {
      "application/vnd.jupyter.widget-view+json": {
       "model_id": "49605c0e7632417ba33ac26672250a3a",
       "version_major": 2,
       "version_minor": 0
      },
      "text/plain": [
       "tokenizer_config.json:   0%|          | 0.00/363 [00:00<?, ?B/s]"
      ]
     },
     "metadata": {},
     "output_type": "display_data"
    },
    {
     "data": {
      "application/vnd.jupyter.widget-view+json": {
       "model_id": "b5290ada8d16425a8fe4428e8e80773f",
       "version_major": 2,
       "version_minor": 0
      },
      "text/plain": [
       "vocab.txt:   0%|          | 0.00/232k [00:00<?, ?B/s]"
      ]
     },
     "metadata": {},
     "output_type": "display_data"
    },
    {
     "data": {
      "application/vnd.jupyter.widget-view+json": {
       "model_id": "022574675df140f897d132cbe77943c6",
       "version_major": 2,
       "version_minor": 0
      },
      "text/plain": [
       "tokenizer.json:   0%|          | 0.00/466k [00:00<?, ?B/s]"
      ]
     },
     "metadata": {},
     "output_type": "display_data"
    },
    {
     "data": {
      "application/vnd.jupyter.widget-view+json": {
       "model_id": "4360d57896774e5684219885af911f0a",
       "version_major": 2,
       "version_minor": 0
      },
      "text/plain": [
       "special_tokens_map.json:   0%|          | 0.00/239 [00:00<?, ?B/s]"
      ]
     },
     "metadata": {},
     "output_type": "display_data"
    },
    {
     "data": {
      "application/vnd.jupyter.widget-view+json": {
       "model_id": "5da08a0dccb7431da734288b912cc308",
       "version_major": 2,
       "version_minor": 0
      },
      "text/plain": [
       "1_Pooling/config.json:   0%|          | 0.00/190 [00:00<?, ?B/s]"
      ]
     },
     "metadata": {},
     "output_type": "display_data"
    },
    {
     "name": "stdout",
     "output_type": "stream",
     "text": [
      "Similarity results:\n",
      "{'text_id1': 0, 'text_id2': 1, 'similarity': 0.7155712}\n",
      "{'text_id1': 0, 'text_id2': 2, 'similarity': 0.6356489}\n",
      "{'text_id1': 0, 'text_id2': 3, 'similarity': 0.729566}\n",
      "{'text_id1': 0, 'text_id2': 4, 'similarity': 0.3876726}\n",
      "{'text_id1': 0, 'text_id2': 5, 'similarity': 0.69620013}\n",
      "{'text_id1': 0, 'text_id2': 6, 'similarity': 0.64963436}\n",
      "{'text_id1': 0, 'text_id2': 7, 'similarity': 0.42570996}\n",
      "{'text_id1': 0, 'text_id2': 8, 'similarity': 0.52333754}\n",
      "{'text_id1': 0, 'text_id2': 9, 'similarity': 0.6604143}\n",
      "{'text_id1': 1, 'text_id2': 2, 'similarity': 0.6893159}\n",
      "{'text_id1': 1, 'text_id2': 3, 'similarity': 0.7637905}\n",
      "{'text_id1': 1, 'text_id2': 4, 'similarity': 0.421143}\n",
      "{'text_id1': 1, 'text_id2': 5, 'similarity': 0.7398964}\n",
      "{'text_id1': 1, 'text_id2': 6, 'similarity': 0.6985089}\n",
      "{'text_id1': 1, 'text_id2': 7, 'similarity': 0.39783502}\n",
      "{'text_id1': 1, 'text_id2': 8, 'similarity': 0.46126038}\n",
      "{'text_id1': 1, 'text_id2': 9, 'similarity': 0.6164546}\n",
      "{'text_id1': 2, 'text_id2': 3, 'similarity': 0.7682411}\n",
      "{'text_id1': 2, 'text_id2': 4, 'similarity': 0.3319754}\n",
      "{'text_id1': 2, 'text_id2': 5, 'similarity': 0.6725726}\n",
      "{'text_id1': 2, 'text_id2': 6, 'similarity': 0.62911224}\n",
      "{'text_id1': 2, 'text_id2': 7, 'similarity': 0.2704826}\n",
      "{'text_id1': 2, 'text_id2': 8, 'similarity': 0.35753155}\n",
      "{'text_id1': 2, 'text_id2': 9, 'similarity': 0.5015037}\n",
      "{'text_id1': 3, 'text_id2': 4, 'similarity': 0.43565473}\n",
      "{'text_id1': 3, 'text_id2': 5, 'similarity': 0.7720689}\n",
      "{'text_id1': 3, 'text_id2': 6, 'similarity': 0.6848904}\n",
      "{'text_id1': 3, 'text_id2': 7, 'similarity': 0.4536268}\n",
      "{'text_id1': 3, 'text_id2': 8, 'similarity': 0.49398267}\n",
      "{'text_id1': 3, 'text_id2': 9, 'similarity': 0.5856979}\n",
      "{'text_id1': 4, 'text_id2': 5, 'similarity': 0.34720546}\n",
      "{'text_id1': 4, 'text_id2': 6, 'similarity': 0.3985709}\n",
      "{'text_id1': 4, 'text_id2': 7, 'similarity': 0.34433576}\n",
      "{'text_id1': 4, 'text_id2': 8, 'similarity': 0.34373182}\n",
      "{'text_id1': 4, 'text_id2': 9, 'similarity': 0.3144341}\n",
      "{'text_id1': 5, 'text_id2': 6, 'similarity': 0.6559324}\n",
      "{'text_id1': 5, 'text_id2': 7, 'similarity': 0.42639166}\n",
      "{'text_id1': 5, 'text_id2': 8, 'similarity': 0.58508396}\n",
      "{'text_id1': 5, 'text_id2': 9, 'similarity': 0.536425}\n",
      "{'text_id1': 6, 'text_id2': 7, 'similarity': 0.3631653}\n",
      "{'text_id1': 6, 'text_id2': 8, 'similarity': 0.44492382}\n",
      "{'text_id1': 6, 'text_id2': 9, 'similarity': 0.48471498}\n",
      "{'text_id1': 7, 'text_id2': 8, 'similarity': 0.45668003}\n",
      "{'text_id1': 7, 'text_id2': 9, 'similarity': 0.34931228}\n",
      "{'text_id1': 8, 'text_id2': 9, 'similarity': 0.37092867}\n"
     ]
    }
   ],
   "source": [
    "# pip install -U sentence-transformers\n",
    "from similarity.Model import Model\n",
    "\n",
    "# Name of the SentenceTransformer model to use\n",
    "model_name = 'sentence-transformers/all-mpnet-base-v2'\n",
    "\n",
    "# Create an instance of the class\n",
    "Model_instance = Model([get_abstract(file) for file in files], model_name)\n",
    "\n",
    "# Calculate similarity and retrieve the results\n",
    "similarity_results = Model_instance.calculate_similarity()\n",
    "\n",
    "# Print similarity results\n",
    "print(\"Similarity results:\")\n",
    "for result in similarity_results:\n",
    "    print(result)"
   ]
  },
  {
   "cell_type": "markdown",
   "metadata": {},
   "source": [
    "### Adding similarity to Graph"
   ]
  },
  {
   "cell_type": "markdown",
   "metadata": {},
   "source": [
    "In this subsection, we will be adding the calculated similarity to the graph!"
   ]
  },
  {
   "cell_type": "code",
   "execution_count": null,
   "metadata": {},
   "outputs": [
    {
     "name": "stdout",
     "output_type": "stream",
     "text": [
      "Paper 1: 0.7155712, Paper 2: http://open_science.com/similarity#0-1, Similarity Score: 0.7155712\n",
      "Paper 1: 0.6356489, Paper 2: http://open_science.com/similarity#0-2, Similarity Score: 0.6356489\n",
      "Paper 1: 0.6893159, Paper 2: http://open_science.com/similarity#1-2, Similarity Score: 0.6893159\n",
      "Paper 1: 0.729566, Paper 2: http://open_science.com/similarity#0-3, Similarity Score: 0.729566\n",
      "Paper 1: 0.7637905, Paper 2: http://open_science.com/similarity#1-3, Similarity Score: 0.7637905\n",
      "Paper 1: 0.7682411, Paper 2: http://open_science.com/similarity#2-3, Similarity Score: 0.7682411\n",
      "Paper 1: 0.3876726, Paper 2: http://open_science.com/similarity#0-4, Similarity Score: 0.3876726\n",
      "Paper 1: 0.421143, Paper 2: http://open_science.com/similarity#1-4, Similarity Score: 0.421143\n",
      "Paper 1: 0.3319754, Paper 2: http://open_science.com/similarity#2-4, Similarity Score: 0.3319754\n",
      "Paper 1: 0.43565473, Paper 2: http://open_science.com/similarity#3-4, Similarity Score: 0.43565473\n",
      "Paper 1: 0.69620013, Paper 2: http://open_science.com/similarity#0-5, Similarity Score: 0.69620013\n",
      "Paper 1: 0.7398964, Paper 2: http://open_science.com/similarity#1-5, Similarity Score: 0.7398964\n",
      "Paper 1: 0.6725726, Paper 2: http://open_science.com/similarity#2-5, Similarity Score: 0.6725726\n",
      "Paper 1: 0.7720689, Paper 2: http://open_science.com/similarity#3-5, Similarity Score: 0.7720689\n",
      "Paper 1: 0.34720546, Paper 2: http://open_science.com/similarity#4-5, Similarity Score: 0.34720546\n",
      "Paper 1: 0.64963436, Paper 2: http://open_science.com/similarity#0-6, Similarity Score: 0.64963436\n",
      "Paper 1: 0.6985089, Paper 2: http://open_science.com/similarity#1-6, Similarity Score: 0.6985089\n",
      "Paper 1: 0.62911224, Paper 2: http://open_science.com/similarity#2-6, Similarity Score: 0.62911224\n",
      "Paper 1: 0.6848904, Paper 2: http://open_science.com/similarity#3-6, Similarity Score: 0.6848904\n",
      "Paper 1: 0.3985709, Paper 2: http://open_science.com/similarity#4-6, Similarity Score: 0.3985709\n",
      "Paper 1: 0.6559324, Paper 2: http://open_science.com/similarity#5-6, Similarity Score: 0.6559324\n",
      "Paper 1: 0.42570996, Paper 2: http://open_science.com/similarity#0-7, Similarity Score: 0.42570996\n",
      "Paper 1: 0.39783502, Paper 2: http://open_science.com/similarity#1-7, Similarity Score: 0.39783502\n",
      "Paper 1: 0.2704826, Paper 2: http://open_science.com/similarity#2-7, Similarity Score: 0.2704826\n",
      "Paper 1: 0.4536268, Paper 2: http://open_science.com/similarity#3-7, Similarity Score: 0.4536268\n",
      "Paper 1: 0.34433576, Paper 2: http://open_science.com/similarity#4-7, Similarity Score: 0.34433576\n",
      "Paper 1: 0.42639166, Paper 2: http://open_science.com/similarity#5-7, Similarity Score: 0.42639166\n",
      "Paper 1: 0.3631653, Paper 2: http://open_science.com/similarity#6-7, Similarity Score: 0.3631653\n",
      "Paper 1: 0.52333754, Paper 2: http://open_science.com/similarity#0-8, Similarity Score: 0.52333754\n",
      "Paper 1: 0.46126038, Paper 2: http://open_science.com/similarity#1-8, Similarity Score: 0.46126038\n",
      "Paper 1: 0.35753155, Paper 2: http://open_science.com/similarity#2-8, Similarity Score: 0.35753155\n",
      "Paper 1: 0.49398267, Paper 2: http://open_science.com/similarity#3-8, Similarity Score: 0.49398267\n",
      "Paper 1: 0.34373182, Paper 2: http://open_science.com/similarity#4-8, Similarity Score: 0.34373182\n",
      "Paper 1: 0.58508396, Paper 2: http://open_science.com/similarity#5-8, Similarity Score: 0.58508396\n",
      "Paper 1: 0.44492382, Paper 2: http://open_science.com/similarity#6-8, Similarity Score: 0.44492382\n",
      "Paper 1: 0.45668003, Paper 2: http://open_science.com/similarity#7-8, Similarity Score: 0.45668003\n",
      "Paper 1: 0.6604143, Paper 2: http://open_science.com/similarity#0-9, Similarity Score: 0.6604143\n",
      "Paper 1: 0.6164546, Paper 2: http://open_science.com/similarity#1-9, Similarity Score: 0.6164546\n",
      "Paper 1: 0.5015037, Paper 2: http://open_science.com/similarity#2-9, Similarity Score: 0.5015037\n",
      "Paper 1: 0.5856979, Paper 2: http://open_science.com/similarity#3-9, Similarity Score: 0.5856979\n",
      "Paper 1: 0.3144341, Paper 2: http://open_science.com/similarity#4-9, Similarity Score: 0.3144341\n",
      "Paper 1: 0.536425, Paper 2: http://open_science.com/similarity#5-9, Similarity Score: 0.536425\n",
      "Paper 1: 0.48471498, Paper 2: http://open_science.com/similarity#6-9, Similarity Score: 0.48471498\n",
      "Paper 1: 0.34931228, Paper 2: http://open_science.com/similarity#7-9, Similarity Score: 0.34931228\n",
      "Paper 1: 0.37092867, Paper 2: http://open_science.com/similarity#8-9, Similarity Score: 0.37092867\n"
     ]
    }
   ],
   "source": [
    "# Iterate over the similarity results and add them to the graph\n",
    "for result in similarity_results:\n",
    "    text_id1 = result['text_id1']\n",
    "    text_id2 = result['text_id2']\n",
    "    similarity_score = result['similarity']\n",
    "    \n",
    "    # Add the similarity to the graph using the add_similarity method\n",
    "    g.add_similarity(text_id1, text_id2, similarity_score)\n",
    "\n",
    "# Explore the graph by printing the similarity between papers\n",
    "for s, p, o in g.graph.triples((None, g.ns.similar_to, None)):\n",
    "    for _, p1, o1 in g.graph.triples((s, g.ns.degree, None)):\n",
    "        print(f\"Paper 1: {s}, Paper 2: {o}, Similarity Score: {o1}\")\n",
    "\n",
    "for s, p, o in g.graph.triples((None, g.ns.similar_from, None)):\n",
    "    for _, p1, o1 in g.graph.triples((s, g.ns.degree, None)):\n",
    "        print(f\"Paper 1: {o1}, Paper 2: {s}, Similarity Score: {o1}\")\n",
    "\n",
    " "
   ]
  }
 ],
 "metadata": {
  "kernelspec": {
   "display_name": "text-similarity",
   "language": "python",
   "name": "python3"
  },
  "language_info": {
   "codemirror_mode": {
    "name": "ipython",
    "version": 3
   },
   "file_extension": ".py",
   "mimetype": "text/x-python",
   "name": "python",
   "nbconvert_exporter": "python",
   "pygments_lexer": "ipython3",
   "version": "3.11.5"
  }
 },
 "nbformat": 4,
 "nbformat_minor": 2
}
