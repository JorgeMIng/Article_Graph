{
 "cells": [
  {
   "cell_type": "markdown",
   "metadata": {},
   "source": [
    "# Similarity"
   ]
  },
  {
   "cell_type": "markdown",
   "metadata": {},
   "source": [
    "This notebook demonstrates how to utilize different models to assess text similarity using the code from Model.py. Additionally, it provides explanations on how to utilize the code effectively."
   ]
  },
  {
   "cell_type": "markdown",
   "metadata": {},
   "source": [
    "The following sentences will serve as input texts for the demonstration:"
   ]
  },
  {
   "cell_type": "code",
   "execution_count": 1,
   "metadata": {},
   "outputs": [],
   "source": [
    "sentences = [\n",
    "    \"Ramona is a software engineer who loves coding.\",\n",
    "    \"Jorge enjoys reading books in his free time.\",\n",
    "    \"Marco sat with his cat under the tree. \",\n",
    "    \"The dog chased the monster in the park.\",\n",
    "    \"John and Mary went to the beach to fish for sharks.\",\n",
    "    \"Pizza is a common choice for food used to poison without detection. \",\n",
    "    \"The Mona Lisa is a famous painting by Leonardo da Vinci.\",\n",
    "    \"Mount Everest is the tallest mountain in the world.\",\n",
    "    \"The Great Wall of China is a UNESCO World Heritage Site.\",\n",
    "    \"Beethoven composed Symphony No. 9 in D minor.\",\n",
    "    \"The Earth revolves around the Sun.\",\n",
    "    \"Water boils at 100 degrees Celsius.\",\n",
    "    \"The capital of France is Paris.\"\n",
    "]"
   ]
  },
  {
   "cell_type": "code",
   "execution_count": 2,
   "metadata": {},
   "outputs": [],
   "source": [
    "# to access the code in similarity's folder\n",
    "\n",
    "import sys\n",
    "import os\n",
    "sys.path.append(os.path.dirname(os.getcwd()))"
   ]
  },
  {
   "cell_type": "code",
   "execution_count": 3,
   "metadata": {},
   "outputs": [
    {
     "name": "stderr",
     "output_type": "stream",
     "text": [
      "c:\\Users\\mgcum\\AppData\\Local\\Programs\\Python\\Python312\\Lib\\site-packages\\tqdm\\auto.py:21: TqdmWarning: IProgress not found. Please update jupyter and ipywidgets. See https://ipywidgets.readthedocs.io/en/stable/user_install.html\n",
      "  from .autonotebook import tqdm as notebook_tqdm\n"
     ]
    }
   ],
   "source": [
    "# Library\n",
    "# pip install -U sentence-transformers\n",
    "from similarity.Model import Model\n"
   ]
  },
  {
   "cell_type": "markdown",
   "metadata": {},
   "source": [
    "### all-MiniLM-L6-v2"
   ]
  },
  {
   "cell_type": "markdown",
   "metadata": {},
   "source": [
    "This model is particularly efficient in terms of size and computation. It uses MiniLM Architecture, a compact version of the BERT model based on the Transformer architecture."
   ]
  },
  {
   "cell_type": "code",
   "execution_count": 4,
   "metadata": {},
   "outputs": [
    {
     "name": "stderr",
     "output_type": "stream",
     "text": [
      "c:\\Users\\mgcum\\AppData\\Local\\Programs\\Python\\Python312\\Lib\\site-packages\\huggingface_hub\\file_download.py:1132: FutureWarning: `resume_download` is deprecated and will be removed in version 1.0.0. Downloads always resume when possible. If you want to force a new download, use `force_download=True`.\n",
      "  warnings.warn(\n",
      "c:\\Users\\mgcum\\AppData\\Local\\Programs\\Python\\Python312\\Lib\\site-packages\\huggingface_hub\\file_download.py:1132: FutureWarning: `resume_download` is deprecated and will be removed in version 1.0.0. Downloads always resume when possible. If you want to force a new download, use `force_download=True`.\n",
      "  warnings.warn(\n"
     ]
    }
   ],
   "source": [
    "# 8.4s aprox. -> best one (shortest time)\n",
    "# Name of the SentenceTransformer model to use\n",
    "model_name = 'sentence-transformers/all-MiniLM-L6-v2'\n",
    "# Create an instance of the class\n",
    "Model_instance = Model(sentences, model_name)"
   ]
  },
  {
   "cell_type": "code",
   "execution_count": 5,
   "metadata": {},
   "outputs": [
    {
     "name": "stdout",
     "output_type": "stream",
     "text": [
      "Similarity results:\n",
      "{'text_id1': 0, 'text_id2': 1, 'similarity': 0.15973473}\n",
      "{'text_id1': 0, 'text_id2': 2, 'similarity': 0.08184144}\n",
      "{'text_id1': 0, 'text_id2': 3, 'similarity': 0.055600077}\n",
      "{'text_id1': 0, 'text_id2': 4, 'similarity': 0.14304018}\n",
      "{'text_id1': 0, 'text_id2': 5, 'similarity': 0.03466011}\n",
      "{'text_id1': 0, 'text_id2': 6, 'similarity': 0.046214525}\n",
      "{'text_id1': 0, 'text_id2': 7, 'similarity': 0.0221178}\n",
      "{'text_id1': 0, 'text_id2': 8, 'similarity': -0.037078075}\n",
      "{'text_id1': 0, 'text_id2': 9, 'similarity': 0.065347075}\n",
      "{'text_id1': 0, 'text_id2': 10, 'similarity': -0.0359989}\n",
      "{'text_id1': 0, 'text_id2': 11, 'similarity': -0.016028827}\n",
      "{'text_id1': 0, 'text_id2': 12, 'similarity': 0.022813626}\n",
      "{'text_id1': 1, 'text_id2': 2, 'similarity': 0.15311188}\n",
      "{'text_id1': 1, 'text_id2': 3, 'similarity': -0.070045315}\n",
      "{'text_id1': 1, 'text_id2': 4, 'similarity': 0.1129448}\n",
      "{'text_id1': 1, 'text_id2': 5, 'similarity': 0.018555589}\n",
      "{'text_id1': 1, 'text_id2': 6, 'similarity': 0.08810095}\n",
      "{'text_id1': 1, 'text_id2': 7, 'similarity': 0.08413959}\n",
      "{'text_id1': 1, 'text_id2': 8, 'similarity': -0.007191075}\n",
      "{'text_id1': 1, 'text_id2': 9, 'similarity': -0.004743416}\n",
      "{'text_id1': 1, 'text_id2': 10, 'similarity': 0.058632404}\n",
      "{'text_id1': 1, 'text_id2': 11, 'similarity': 0.022922931}\n",
      "{'text_id1': 1, 'text_id2': 12, 'similarity': 0.054697707}\n",
      "{'text_id1': 2, 'text_id2': 3, 'similarity': 0.15434104}\n",
      "{'text_id1': 2, 'text_id2': 4, 'similarity': 0.17770903}\n",
      "{'text_id1': 2, 'text_id2': 5, 'similarity': 0.10785748}\n",
      "{'text_id1': 2, 'text_id2': 6, 'similarity': 0.054371446}\n",
      "{'text_id1': 2, 'text_id2': 7, 'similarity': 0.047930248}\n",
      "{'text_id1': 2, 'text_id2': 8, 'similarity': 0.05294033}\n",
      "{'text_id1': 2, 'text_id2': 9, 'similarity': 0.1301747}\n",
      "{'text_id1': 2, 'text_id2': 10, 'similarity': 0.13904311}\n",
      "{'text_id1': 2, 'text_id2': 11, 'similarity': -0.059097916}\n",
      "{'text_id1': 2, 'text_id2': 12, 'similarity': -0.015324961}\n",
      "{'text_id1': 3, 'text_id2': 4, 'similarity': 0.07193127}\n",
      "{'text_id1': 3, 'text_id2': 5, 'similarity': 0.08704501}\n",
      "{'text_id1': 3, 'text_id2': 6, 'similarity': 0.047982372}\n",
      "{'text_id1': 3, 'text_id2': 7, 'similarity': 0.021226691}\n",
      "{'text_id1': 3, 'text_id2': 8, 'similarity': 0.077485785}\n",
      "{'text_id1': 3, 'text_id2': 9, 'similarity': 0.11366448}\n",
      "{'text_id1': 3, 'text_id2': 10, 'similarity': 0.068835385}\n",
      "{'text_id1': 3, 'text_id2': 11, 'similarity': -0.029480431}\n",
      "{'text_id1': 3, 'text_id2': 12, 'similarity': -0.061723493}\n",
      "{'text_id1': 4, 'text_id2': 5, 'similarity': 0.14593673}\n",
      "{'text_id1': 4, 'text_id2': 6, 'similarity': 0.16012268}\n",
      "{'text_id1': 4, 'text_id2': 7, 'similarity': -0.035022367}\n",
      "{'text_id1': 4, 'text_id2': 8, 'similarity': -0.077518694}\n",
      "{'text_id1': 4, 'text_id2': 9, 'similarity': -0.04181046}\n",
      "{'text_id1': 4, 'text_id2': 10, 'similarity': 0.05882681}\n",
      "{'text_id1': 4, 'text_id2': 11, 'similarity': 0.003143523}\n",
      "{'text_id1': 4, 'text_id2': 12, 'similarity': -0.010622578}\n",
      "{'text_id1': 5, 'text_id2': 6, 'similarity': 0.07378502}\n",
      "{'text_id1': 5, 'text_id2': 7, 'similarity': 0.016650151}\n",
      "{'text_id1': 5, 'text_id2': 8, 'similarity': 0.0036923029}\n",
      "{'text_id1': 5, 'text_id2': 9, 'similarity': 0.04776969}\n",
      "{'text_id1': 5, 'text_id2': 10, 'similarity': -0.0008229427}\n",
      "{'text_id1': 5, 'text_id2': 11, 'similarity': 0.04177779}\n",
      "{'text_id1': 5, 'text_id2': 12, 'similarity': 0.110726655}\n",
      "{'text_id1': 6, 'text_id2': 7, 'similarity': 0.2178801}\n",
      "{'text_id1': 6, 'text_id2': 8, 'similarity': 0.24117988}\n",
      "{'text_id1': 6, 'text_id2': 9, 'similarity': 0.03781256}\n",
      "{'text_id1': 6, 'text_id2': 10, 'similarity': 0.14030093}\n",
      "{'text_id1': 6, 'text_id2': 11, 'similarity': 0.08453581}\n",
      "{'text_id1': 6, 'text_id2': 12, 'similarity': 0.17287447}\n",
      "{'text_id1': 7, 'text_id2': 8, 'similarity': 0.26428258}\n",
      "{'text_id1': 7, 'text_id2': 9, 'similarity': 0.015317464}\n",
      "{'text_id1': 7, 'text_id2': 10, 'similarity': 0.108245626}\n",
      "{'text_id1': 7, 'text_id2': 11, 'similarity': 0.053770624}\n",
      "{'text_id1': 7, 'text_id2': 12, 'similarity': 0.06731422}\n",
      "{'text_id1': 8, 'text_id2': 9, 'similarity': 0.041910224}\n",
      "{'text_id1': 8, 'text_id2': 10, 'similarity': 0.068718284}\n",
      "{'text_id1': 8, 'text_id2': 11, 'similarity': 0.0035770275}\n",
      "{'text_id1': 8, 'text_id2': 12, 'similarity': 0.14937654}\n",
      "{'text_id1': 9, 'text_id2': 10, 'similarity': 0.032985426}\n",
      "{'text_id1': 9, 'text_id2': 11, 'similarity': 0.00032602064}\n",
      "{'text_id1': 9, 'text_id2': 12, 'similarity': 0.07258699}\n",
      "{'text_id1': 10, 'text_id2': 11, 'similarity': 0.1282423}\n",
      "{'text_id1': 10, 'text_id2': 12, 'similarity': 0.115137964}\n",
      "{'text_id1': 11, 'text_id2': 12, 'similarity': 0.1522217}\n"
     ]
    }
   ],
   "source": [
    "# 1.2s aprox.\n",
    "# Calculate and display similarity between the texts; 2.8 seg aprox.\n",
    "similarity_results = Model_instance.calculate_similarity()\n",
    "\n",
    "# Print similarity results\n",
    "print(\"Similarity results:\")\n",
    "for result in similarity_results:\n",
    "    print(result)"
   ]
  },
  {
   "cell_type": "markdown",
   "metadata": {},
   "source": [
    "### paraphrase-multilingual-MiniLM-L12-v2"
   ]
  },
  {
   "cell_type": "markdown",
   "metadata": {},
   "source": [
    "The main difference between all-MiniLM-L6-v2 and MiniLM-L12-v2 is the number of layers (L6 = 6; L12 = 12), which affects the size, performance, and computational requirements. Furthermore, paraphrase-multilingual-MiniLM-L12-v2 is specifically tailored for paraphrase detection and semantic similarity tasks, while all-MiniLM-L6-v2 is a general purpose model."
   ]
  },
  {
   "cell_type": "code",
   "execution_count": 6,
   "metadata": {},
   "outputs": [
    {
     "name": "stderr",
     "output_type": "stream",
     "text": [
      "c:\\Users\\mgcum\\AppData\\Local\\Programs\\Python\\Python312\\Lib\\site-packages\\huggingface_hub\\file_download.py:1132: FutureWarning: `resume_download` is deprecated and will be removed in version 1.0.0. Downloads always resume when possible. If you want to force a new download, use `force_download=True`.\n",
      "  warnings.warn(\n"
     ]
    }
   ],
   "source": [
    "# 15.1s aprox\n",
    "# Name of the SentenceTransformer model to use\n",
    "model_name = 'sentence-transformers/paraphrase-multilingual-MiniLM-L12-v2'\n",
    "\n",
    "# Create an instance of the class\n",
    "Model_instance = Model(sentences, model_name)"
   ]
  },
  {
   "cell_type": "code",
   "execution_count": 7,
   "metadata": {},
   "outputs": [
    {
     "name": "stdout",
     "output_type": "stream",
     "text": [
      "Similarity results:\n",
      "{'text_id1': 0, 'text_id2': 1, 'similarity': 0.20741838}\n",
      "{'text_id1': 0, 'text_id2': 2, 'similarity': 0.22545971}\n",
      "{'text_id1': 0, 'text_id2': 3, 'similarity': -0.03478617}\n",
      "{'text_id1': 0, 'text_id2': 4, 'similarity': -0.04152015}\n",
      "{'text_id1': 0, 'text_id2': 5, 'similarity': 0.10810108}\n",
      "{'text_id1': 0, 'text_id2': 6, 'similarity': -0.13943344}\n",
      "{'text_id1': 0, 'text_id2': 7, 'similarity': -0.077267304}\n",
      "{'text_id1': 0, 'text_id2': 8, 'similarity': -0.08653814}\n",
      "{'text_id1': 0, 'text_id2': 9, 'similarity': 0.16482526}\n",
      "{'text_id1': 0, 'text_id2': 10, 'similarity': -0.023441494}\n",
      "{'text_id1': 0, 'text_id2': 11, 'similarity': -0.08971386}\n",
      "{'text_id1': 0, 'text_id2': 12, 'similarity': -0.18638454}\n",
      "{'text_id1': 1, 'text_id2': 2, 'similarity': 0.2598318}\n",
      "{'text_id1': 1, 'text_id2': 3, 'similarity': -0.122574516}\n",
      "{'text_id1': 1, 'text_id2': 4, 'similarity': -0.10347986}\n",
      "{'text_id1': 1, 'text_id2': 5, 'similarity': 0.07109058}\n",
      "{'text_id1': 1, 'text_id2': 6, 'similarity': 0.10536753}\n",
      "{'text_id1': 1, 'text_id2': 7, 'similarity': -0.0029914929}\n",
      "{'text_id1': 1, 'text_id2': 8, 'similarity': 0.018725641}\n",
      "{'text_id1': 1, 'text_id2': 9, 'similarity': 0.13687512}\n",
      "{'text_id1': 1, 'text_id2': 10, 'similarity': 0.061171442}\n",
      "{'text_id1': 1, 'text_id2': 11, 'similarity': 0.017379023}\n",
      "{'text_id1': 1, 'text_id2': 12, 'similarity': 0.06185841}\n",
      "{'text_id1': 2, 'text_id2': 3, 'similarity': 0.01955105}\n",
      "{'text_id1': 2, 'text_id2': 4, 'similarity': -0.020054407}\n",
      "{'text_id1': 2, 'text_id2': 5, 'similarity': 0.09961462}\n",
      "{'text_id1': 2, 'text_id2': 6, 'similarity': -0.072162025}\n",
      "{'text_id1': 2, 'text_id2': 7, 'similarity': -0.13261701}\n",
      "{'text_id1': 2, 'text_id2': 8, 'similarity': -0.010896482}\n",
      "{'text_id1': 2, 'text_id2': 9, 'similarity': 0.19176424}\n",
      "{'text_id1': 2, 'text_id2': 10, 'similarity': 0.075903915}\n",
      "{'text_id1': 2, 'text_id2': 11, 'similarity': -0.08864134}\n",
      "{'text_id1': 2, 'text_id2': 12, 'similarity': -0.050062336}\n",
      "{'text_id1': 3, 'text_id2': 4, 'similarity': -0.013573214}\n",
      "{'text_id1': 3, 'text_id2': 5, 'similarity': 0.078002065}\n",
      "{'text_id1': 3, 'text_id2': 6, 'similarity': 0.20975226}\n",
      "{'text_id1': 3, 'text_id2': 7, 'similarity': 0.14514837}\n",
      "{'text_id1': 3, 'text_id2': 8, 'similarity': 0.13471302}\n",
      "{'text_id1': 3, 'text_id2': 9, 'similarity': 0.18923554}\n",
      "{'text_id1': 3, 'text_id2': 10, 'similarity': 0.054458935}\n",
      "{'text_id1': 3, 'text_id2': 11, 'similarity': -0.060380932}\n",
      "{'text_id1': 3, 'text_id2': 12, 'similarity': 0.123347715}\n",
      "{'text_id1': 4, 'text_id2': 5, 'similarity': 0.08163659}\n",
      "{'text_id1': 4, 'text_id2': 6, 'similarity': 0.17143989}\n",
      "{'text_id1': 4, 'text_id2': 7, 'similarity': 0.015538836}\n",
      "{'text_id1': 4, 'text_id2': 8, 'similarity': 0.03240753}\n",
      "{'text_id1': 4, 'text_id2': 9, 'similarity': -0.14445549}\n",
      "{'text_id1': 4, 'text_id2': 10, 'similarity': 0.039361387}\n",
      "{'text_id1': 4, 'text_id2': 11, 'similarity': 0.05924242}\n",
      "{'text_id1': 4, 'text_id2': 12, 'similarity': 0.03381836}\n",
      "{'text_id1': 5, 'text_id2': 6, 'similarity': -0.026646823}\n",
      "{'text_id1': 5, 'text_id2': 7, 'similarity': 0.005407406}\n",
      "{'text_id1': 5, 'text_id2': 8, 'similarity': 0.034363896}\n",
      "{'text_id1': 5, 'text_id2': 9, 'similarity': 0.06680418}\n",
      "{'text_id1': 5, 'text_id2': 10, 'similarity': 0.027052501}\n",
      "{'text_id1': 5, 'text_id2': 11, 'similarity': 0.032239206}\n",
      "{'text_id1': 5, 'text_id2': 12, 'similarity': 0.21653664}\n",
      "{'text_id1': 6, 'text_id2': 7, 'similarity': 0.1164625}\n",
      "{'text_id1': 6, 'text_id2': 8, 'similarity': 0.24785194}\n",
      "{'text_id1': 6, 'text_id2': 9, 'similarity': 0.09713264}\n",
      "{'text_id1': 6, 'text_id2': 10, 'similarity': 0.21936959}\n",
      "{'text_id1': 6, 'text_id2': 11, 'similarity': 0.098183535}\n",
      "{'text_id1': 6, 'text_id2': 12, 'similarity': 0.302122}\n",
      "{'text_id1': 7, 'text_id2': 8, 'similarity': 0.3112116}\n",
      "{'text_id1': 7, 'text_id2': 9, 'similarity': -0.010020964}\n",
      "{'text_id1': 7, 'text_id2': 10, 'similarity': 0.14062193}\n",
      "{'text_id1': 7, 'text_id2': 11, 'similarity': 0.06303139}\n",
      "{'text_id1': 7, 'text_id2': 12, 'similarity': 0.06842345}\n",
      "{'text_id1': 8, 'text_id2': 9, 'similarity': 0.019166999}\n",
      "{'text_id1': 8, 'text_id2': 10, 'similarity': 0.16235076}\n",
      "{'text_id1': 8, 'text_id2': 11, 'similarity': 0.055283}\n",
      "{'text_id1': 8, 'text_id2': 12, 'similarity': 0.15896508}\n",
      "{'text_id1': 9, 'text_id2': 10, 'similarity': 0.010732431}\n",
      "{'text_id1': 9, 'text_id2': 11, 'similarity': 0.060062602}\n",
      "{'text_id1': 9, 'text_id2': 12, 'similarity': 0.094741836}\n",
      "{'text_id1': 10, 'text_id2': 11, 'similarity': 0.064579405}\n",
      "{'text_id1': 10, 'text_id2': 12, 'similarity': 0.1729177}\n",
      "{'text_id1': 11, 'text_id2': 12, 'similarity': 0.046017554}\n"
     ]
    }
   ],
   "source": [
    "# 0.1s aprox.\n",
    "# Calculate and display similarity between the texts; 2.8 seg aprox.\n",
    "similarity_results = Model_instance.calculate_similarity()\n",
    "\n",
    "# Print similarity results\n",
    "print(\"Similarity results:\")\n",
    "for result in similarity_results:\n",
    "    print(result)"
   ]
  },
  {
   "cell_type": "markdown",
   "metadata": {},
   "source": [
    "### all-mpnet-base-v2"
   ]
  },
  {
   "cell_type": "markdown",
   "metadata": {},
   "source": [
    "MPNet (Mobileformer) model, a transformer-based model developed by Microsoft Research. It usually works best when you need fast responses, privacy, or computing close to the data source."
   ]
  },
  {
   "cell_type": "code",
   "execution_count": 8,
   "metadata": {},
   "outputs": [
    {
     "name": "stderr",
     "output_type": "stream",
     "text": [
      "c:\\Users\\mgcum\\AppData\\Local\\Programs\\Python\\Python312\\Lib\\site-packages\\huggingface_hub\\file_download.py:1132: FutureWarning: `resume_download` is deprecated and will be removed in version 1.0.0. Downloads always resume when possible. If you want to force a new download, use `force_download=True`.\n",
      "  warnings.warn(\n"
     ]
    }
   ],
   "source": [
    "# 43s aprox\n",
    "# Name of the SentenceTransformer model to use\n",
    "model_name = 'sentence-transformers/all-mpnet-base-v2'\n",
    "\n",
    "# Create an instance of the class\n",
    "Model_instance = Model(sentences, model_name)"
   ]
  },
  {
   "cell_type": "code",
   "execution_count": 9,
   "metadata": {},
   "outputs": [
    {
     "name": "stdout",
     "output_type": "stream",
     "text": [
      "Similarity results:\n",
      "{'text_id1': 0, 'text_id2': 1, 'similarity': 0.20646062}\n",
      "{'text_id1': 0, 'text_id2': 2, 'similarity': -0.0046621906}\n",
      "{'text_id1': 0, 'text_id2': 3, 'similarity': -0.08455665}\n",
      "{'text_id1': 0, 'text_id2': 4, 'similarity': 0.017528454}\n",
      "{'text_id1': 0, 'text_id2': 5, 'similarity': 0.1032789}\n",
      "{'text_id1': 0, 'text_id2': 6, 'similarity': 0.13802837}\n",
      "{'text_id1': 0, 'text_id2': 7, 'similarity': -0.0075252354}\n",
      "{'text_id1': 0, 'text_id2': 8, 'similarity': 0.017472018}\n",
      "{'text_id1': 0, 'text_id2': 9, 'similarity': -0.032865025}\n",
      "{'text_id1': 0, 'text_id2': 10, 'similarity': 0.033637233}\n",
      "{'text_id1': 0, 'text_id2': 11, 'similarity': -0.020414997}\n",
      "{'text_id1': 0, 'text_id2': 12, 'similarity': 0.033197947}\n",
      "{'text_id1': 1, 'text_id2': 2, 'similarity': 0.0645885}\n",
      "{'text_id1': 1, 'text_id2': 3, 'similarity': -0.010923749}\n",
      "{'text_id1': 1, 'text_id2': 4, 'similarity': 0.08825572}\n",
      "{'text_id1': 1, 'text_id2': 5, 'similarity': 0.02201602}\n",
      "{'text_id1': 1, 'text_id2': 6, 'similarity': 0.12822753}\n",
      "{'text_id1': 1, 'text_id2': 7, 'similarity': 0.051447015}\n",
      "{'text_id1': 1, 'text_id2': 8, 'similarity': 0.05080925}\n",
      "{'text_id1': 1, 'text_id2': 9, 'similarity': 0.1170894}\n",
      "{'text_id1': 1, 'text_id2': 10, 'similarity': 0.08292469}\n",
      "{'text_id1': 1, 'text_id2': 11, 'similarity': -0.04121085}\n",
      "{'text_id1': 1, 'text_id2': 12, 'similarity': 0.057256434}\n",
      "{'text_id1': 2, 'text_id2': 3, 'similarity': 0.12377599}\n",
      "{'text_id1': 2, 'text_id2': 4, 'similarity': 0.09644707}\n",
      "{'text_id1': 2, 'text_id2': 5, 'similarity': 0.100969896}\n",
      "{'text_id1': 2, 'text_id2': 6, 'similarity': 0.002329776}\n",
      "{'text_id1': 2, 'text_id2': 7, 'similarity': 0.011075565}\n",
      "{'text_id1': 2, 'text_id2': 8, 'similarity': -0.08548164}\n",
      "{'text_id1': 2, 'text_id2': 9, 'similarity': 0.09430868}\n",
      "{'text_id1': 2, 'text_id2': 10, 'similarity': 0.069562145}\n",
      "{'text_id1': 2, 'text_id2': 11, 'similarity': 0.08835048}\n",
      "{'text_id1': 2, 'text_id2': 12, 'similarity': -0.029403074}\n",
      "{'text_id1': 3, 'text_id2': 4, 'similarity': 0.07956308}\n",
      "{'text_id1': 3, 'text_id2': 5, 'similarity': 0.061542258}\n",
      "{'text_id1': 3, 'text_id2': 6, 'similarity': 0.05979617}\n",
      "{'text_id1': 3, 'text_id2': 7, 'similarity': 0.056871388}\n",
      "{'text_id1': 3, 'text_id2': 8, 'similarity': 0.007088907}\n",
      "{'text_id1': 3, 'text_id2': 9, 'similarity': 0.002527235}\n",
      "{'text_id1': 3, 'text_id2': 10, 'similarity': -0.009000871}\n",
      "{'text_id1': 3, 'text_id2': 11, 'similarity': 0.05143373}\n",
      "{'text_id1': 3, 'text_id2': 12, 'similarity': 0.03431932}\n",
      "{'text_id1': 4, 'text_id2': 5, 'similarity': 0.095312856}\n",
      "{'text_id1': 4, 'text_id2': 6, 'similarity': 0.12015633}\n",
      "{'text_id1': 4, 'text_id2': 7, 'similarity': -0.057493348}\n",
      "{'text_id1': 4, 'text_id2': 8, 'similarity': -0.055590358}\n",
      "{'text_id1': 4, 'text_id2': 9, 'similarity': 0.0042265356}\n",
      "{'text_id1': 4, 'text_id2': 10, 'similarity': 0.05861812}\n",
      "{'text_id1': 4, 'text_id2': 11, 'similarity': -0.029854916}\n",
      "{'text_id1': 4, 'text_id2': 12, 'similarity': -0.034208704}\n",
      "{'text_id1': 5, 'text_id2': 6, 'similarity': 0.048272856}\n",
      "{'text_id1': 5, 'text_id2': 7, 'similarity': 0.040722907}\n",
      "{'text_id1': 5, 'text_id2': 8, 'similarity': 0.003911934}\n",
      "{'text_id1': 5, 'text_id2': 9, 'similarity': -0.0155617455}\n",
      "{'text_id1': 5, 'text_id2': 10, 'similarity': -0.018883338}\n",
      "{'text_id1': 5, 'text_id2': 11, 'similarity': 0.12887648}\n",
      "{'text_id1': 5, 'text_id2': 12, 'similarity': 0.01026213}\n",
      "{'text_id1': 6, 'text_id2': 7, 'similarity': 0.17883484}\n",
      "{'text_id1': 6, 'text_id2': 8, 'similarity': 0.33954212}\n",
      "{'text_id1': 6, 'text_id2': 9, 'similarity': 0.19059668}\n",
      "{'text_id1': 6, 'text_id2': 10, 'similarity': 0.12967736}\n",
      "{'text_id1': 6, 'text_id2': 11, 'similarity': -0.01779655}\n",
      "{'text_id1': 6, 'text_id2': 12, 'similarity': 0.17618878}\n",
      "{'text_id1': 7, 'text_id2': 8, 'similarity': 0.33412382}\n",
      "{'text_id1': 7, 'text_id2': 9, 'similarity': 0.14990193}\n",
      "{'text_id1': 7, 'text_id2': 10, 'similarity': 0.18996088}\n",
      "{'text_id1': 7, 'text_id2': 11, 'similarity': 0.16682369}\n",
      "{'text_id1': 7, 'text_id2': 12, 'similarity': 0.16321865}\n",
      "{'text_id1': 8, 'text_id2': 9, 'similarity': 0.09537242}\n",
      "{'text_id1': 8, 'text_id2': 10, 'similarity': 0.082358725}\n",
      "{'text_id1': 8, 'text_id2': 11, 'similarity': 0.05716176}\n",
      "{'text_id1': 8, 'text_id2': 12, 'similarity': 0.25074154}\n",
      "{'text_id1': 9, 'text_id2': 10, 'similarity': 0.10876477}\n",
      "{'text_id1': 9, 'text_id2': 11, 'similarity': 0.039304845}\n",
      "{'text_id1': 9, 'text_id2': 12, 'similarity': 0.16183737}\n",
      "{'text_id1': 10, 'text_id2': 11, 'similarity': 0.09072005}\n",
      "{'text_id1': 10, 'text_id2': 12, 'similarity': 0.14149746}\n",
      "{'text_id1': 11, 'text_id2': 12, 'similarity': 0.0707672}\n"
     ]
    }
   ],
   "source": [
    "# 0.2s aprox.\n",
    "# Calculate and display similarity between the texts; 2.8 seg aprox.\n",
    "similarity_results = Model_instance.calculate_similarity()\n",
    "\n",
    "# Print similarity results\n",
    "print(\"Similarity results:\")\n",
    "for result in similarity_results:\n",
    "    print(result)"
   ]
  },
  {
   "cell_type": "markdown",
   "metadata": {},
   "source": [
    "### paraphrase-multilingual-mpnet-base-v2"
   ]
  },
  {
   "cell_type": "markdown",
   "metadata": {},
   "source": [
    "paraphrase-multilingual-mpnet-base-v2 is specifically tailored for paraphrase detection and semantic similarity tasks, while all-mpnet-base-v2 is a general purpose model."
   ]
  },
  {
   "cell_type": "code",
   "execution_count": 10,
   "metadata": {},
   "outputs": [
    {
     "name": "stderr",
     "output_type": "stream",
     "text": [
      "c:\\Users\\mgcum\\AppData\\Local\\Programs\\Python\\Python312\\Lib\\site-packages\\huggingface_hub\\file_download.py:1132: FutureWarning: `resume_download` is deprecated and will be removed in version 1.0.0. Downloads always resume when possible. If you want to force a new download, use `force_download=True`.\n",
      "  warnings.warn(\n"
     ]
    }
   ],
   "source": [
    "# 1m 11.4s aprox.\n",
    "# Name of the SentenceTransformer model to use\n",
    "model_name = 'sentence-transformers/paraphrase-multilingual-mpnet-base-v2'\n",
    "\n",
    "# Create an instance of the class\n",
    "Model_instance = Model(sentences, model_name)"
   ]
  },
  {
   "cell_type": "code",
   "execution_count": 11,
   "metadata": {},
   "outputs": [
    {
     "name": "stdout",
     "output_type": "stream",
     "text": [
      "Similarity results:\n",
      "{'text_id1': 0, 'text_id2': 1, 'similarity': 0.30339304}\n",
      "{'text_id1': 0, 'text_id2': 2, 'similarity': 0.089907266}\n",
      "{'text_id1': 0, 'text_id2': 3, 'similarity': -0.011231708}\n",
      "{'text_id1': 0, 'text_id2': 4, 'similarity': 0.014406752}\n",
      "{'text_id1': 0, 'text_id2': 5, 'similarity': 0.07260013}\n",
      "{'text_id1': 0, 'text_id2': 6, 'similarity': 0.20138864}\n",
      "{'text_id1': 0, 'text_id2': 7, 'similarity': -0.015593786}\n",
      "{'text_id1': 0, 'text_id2': 8, 'similarity': 0.012397654}\n",
      "{'text_id1': 0, 'text_id2': 9, 'similarity': 0.024085607}\n",
      "{'text_id1': 0, 'text_id2': 10, 'similarity': 0.005255349}\n",
      "{'text_id1': 0, 'text_id2': 11, 'similarity': 0.030095711}\n",
      "{'text_id1': 0, 'text_id2': 12, 'similarity': 0.031220898}\n",
      "{'text_id1': 1, 'text_id2': 2, 'similarity': 0.26790628}\n",
      "{'text_id1': 1, 'text_id2': 3, 'similarity': 0.014833647}\n",
      "{'text_id1': 1, 'text_id2': 4, 'similarity': 0.028790228}\n",
      "{'text_id1': 1, 'text_id2': 5, 'similarity': 0.07778351}\n",
      "{'text_id1': 1, 'text_id2': 6, 'similarity': 0.06813321}\n",
      "{'text_id1': 1, 'text_id2': 7, 'similarity': 0.0065455344}\n",
      "{'text_id1': 1, 'text_id2': 8, 'similarity': -0.004513465}\n",
      "{'text_id1': 1, 'text_id2': 9, 'similarity': 0.13805024}\n",
      "{'text_id1': 1, 'text_id2': 10, 'similarity': 0.13592571}\n",
      "{'text_id1': 1, 'text_id2': 11, 'similarity': 0.011363876}\n",
      "{'text_id1': 1, 'text_id2': 12, 'similarity': 0.006765764}\n",
      "{'text_id1': 2, 'text_id2': 3, 'similarity': 0.14240529}\n",
      "{'text_id1': 2, 'text_id2': 4, 'similarity': 0.10663284}\n",
      "{'text_id1': 2, 'text_id2': 5, 'similarity': 0.15442613}\n",
      "{'text_id1': 2, 'text_id2': 6, 'similarity': 0.13454199}\n",
      "{'text_id1': 2, 'text_id2': 7, 'similarity': 0.019379135}\n",
      "{'text_id1': 2, 'text_id2': 8, 'similarity': 0.04333291}\n",
      "{'text_id1': 2, 'text_id2': 9, 'similarity': 0.11739918}\n",
      "{'text_id1': 2, 'text_id2': 10, 'similarity': 0.09359475}\n",
      "{'text_id1': 2, 'text_id2': 11, 'similarity': 0.012688097}\n",
      "{'text_id1': 2, 'text_id2': 12, 'similarity': -0.0012148414}\n",
      "{'text_id1': 3, 'text_id2': 4, 'similarity': 0.1115603}\n",
      "{'text_id1': 3, 'text_id2': 5, 'similarity': 0.007557891}\n",
      "{'text_id1': 3, 'text_id2': 6, 'similarity': 0.09639402}\n",
      "{'text_id1': 3, 'text_id2': 7, 'similarity': 0.0324746}\n",
      "{'text_id1': 3, 'text_id2': 8, 'similarity': 0.047920637}\n",
      "{'text_id1': 3, 'text_id2': 9, 'similarity': -0.060049526}\n",
      "{'text_id1': 3, 'text_id2': 10, 'similarity': 0.028200898}\n",
      "{'text_id1': 3, 'text_id2': 11, 'similarity': -0.02427559}\n",
      "{'text_id1': 3, 'text_id2': 12, 'similarity': -0.040831532}\n",
      "{'text_id1': 4, 'text_id2': 5, 'similarity': 0.13226533}\n",
      "{'text_id1': 4, 'text_id2': 6, 'similarity': 0.07152335}\n",
      "{'text_id1': 4, 'text_id2': 7, 'similarity': -0.09561447}\n",
      "{'text_id1': 4, 'text_id2': 8, 'similarity': -0.11107038}\n",
      "{'text_id1': 4, 'text_id2': 9, 'similarity': -0.102422945}\n",
      "{'text_id1': 4, 'text_id2': 10, 'similarity': -0.026979245}\n",
      "{'text_id1': 4, 'text_id2': 11, 'similarity': -0.06411146}\n",
      "{'text_id1': 4, 'text_id2': 12, 'similarity': -0.08612508}\n",
      "{'text_id1': 5, 'text_id2': 6, 'similarity': 0.035270788}\n",
      "{'text_id1': 5, 'text_id2': 7, 'similarity': -0.025364732}\n",
      "{'text_id1': 5, 'text_id2': 8, 'similarity': 0.021073066}\n",
      "{'text_id1': 5, 'text_id2': 9, 'similarity': -0.115428284}\n",
      "{'text_id1': 5, 'text_id2': 10, 'similarity': 0.045485638}\n",
      "{'text_id1': 5, 'text_id2': 11, 'similarity': 0.13084745}\n",
      "{'text_id1': 5, 'text_id2': 12, 'similarity': -0.027783187}\n",
      "{'text_id1': 6, 'text_id2': 7, 'similarity': 0.05526444}\n",
      "{'text_id1': 6, 'text_id2': 8, 'similarity': 0.28816202}\n",
      "{'text_id1': 6, 'text_id2': 9, 'similarity': 0.16194728}\n",
      "{'text_id1': 6, 'text_id2': 10, 'similarity': 0.14476672}\n",
      "{'text_id1': 6, 'text_id2': 11, 'similarity': -0.05277271}\n",
      "{'text_id1': 6, 'text_id2': 12, 'similarity': 0.19868389}\n",
      "{'text_id1': 7, 'text_id2': 8, 'similarity': 0.33522457}\n",
      "{'text_id1': 7, 'text_id2': 9, 'similarity': -0.018648246}\n",
      "{'text_id1': 7, 'text_id2': 10, 'similarity': 0.1992378}\n",
      "{'text_id1': 7, 'text_id2': 11, 'similarity': 0.07148215}\n",
      "{'text_id1': 7, 'text_id2': 12, 'similarity': 0.21033259}\n",
      "{'text_id1': 8, 'text_id2': 9, 'similarity': 0.046573795}\n",
      "{'text_id1': 8, 'text_id2': 10, 'similarity': 0.12690124}\n",
      "{'text_id1': 8, 'text_id2': 11, 'similarity': 0.113263674}\n",
      "{'text_id1': 8, 'text_id2': 12, 'similarity': 0.30141807}\n",
      "{'text_id1': 9, 'text_id2': 10, 'similarity': 0.031430453}\n",
      "{'text_id1': 9, 'text_id2': 11, 'similarity': -0.027493453}\n",
      "{'text_id1': 9, 'text_id2': 12, 'similarity': 0.07610318}\n",
      "{'text_id1': 10, 'text_id2': 11, 'similarity': 0.13198863}\n",
      "{'text_id1': 10, 'text_id2': 12, 'similarity': 0.024658002}\n",
      "{'text_id1': 11, 'text_id2': 12, 'similarity': -0.039826088}\n"
     ]
    }
   ],
   "source": [
    "# 0.3s\n",
    "# Calculate and display similarity between the texts; 2.8 seg aprox.\n",
    "similarity_results = Model_instance.calculate_similarity()\n",
    "\n",
    "# Print similarity results\n",
    "print(\"Similarity results:\")\n",
    "for result in similarity_results:\n",
    "    print(result)"
   ]
  },
  {
   "cell_type": "markdown",
   "metadata": {},
   "source": [
    "### LaBSE"
   ]
  },
  {
   "cell_type": "markdown",
   "metadata": {},
   "source": [
    "LaBSE specializes in creating embeddings that are effective across various languages for cross-lingual tasks (Language-agnostic BERT Sentence Embedding)."
   ]
  },
  {
   "cell_type": "code",
   "execution_count": 16,
   "metadata": {},
   "outputs": [
    {
     "name": "stderr",
     "output_type": "stream",
     "text": [
      "c:\\Users\\mgcum\\AppData\\Local\\Programs\\Python\\Python312\\Lib\\site-packages\\huggingface_hub\\file_download.py:1132: FutureWarning: `resume_download` is deprecated and will be removed in version 1.0.0. Downloads always resume when possible. If you want to force a new download, use `force_download=True`.\n",
      "  warnings.warn(\n"
     ]
    }
   ],
   "source": [
    "# 18.4s aprox.\n",
    "# Name of the SentenceTransformer model to use\n",
    "model_name = 'sentence-transformers/LaBSE'\n",
    "\n",
    "# Create an instance of the class\n",
    "Model_instance = Model(sentences, model_name)"
   ]
  },
  {
   "cell_type": "code",
   "execution_count": 17,
   "metadata": {},
   "outputs": [
    {
     "name": "stdout",
     "output_type": "stream",
     "text": [
      "Similarity results:\n",
      "{'text_id1': 0, 'text_id2': 1, 'similarity': 0.3342187}\n",
      "{'text_id1': 0, 'text_id2': 2, 'similarity': 0.27191776}\n",
      "{'text_id1': 0, 'text_id2': 3, 'similarity': 0.19035715}\n",
      "{'text_id1': 0, 'text_id2': 4, 'similarity': 0.19265829}\n",
      "{'text_id1': 0, 'text_id2': 5, 'similarity': 0.20391954}\n",
      "{'text_id1': 0, 'text_id2': 6, 'similarity': 0.34882292}\n",
      "{'text_id1': 0, 'text_id2': 7, 'similarity': 0.13913995}\n",
      "{'text_id1': 0, 'text_id2': 8, 'similarity': 0.08449406}\n",
      "{'text_id1': 0, 'text_id2': 9, 'similarity': 0.28190082}\n",
      "{'text_id1': 0, 'text_id2': 10, 'similarity': 0.20073593}\n",
      "{'text_id1': 0, 'text_id2': 11, 'similarity': 0.1667537}\n",
      "{'text_id1': 0, 'text_id2': 12, 'similarity': 0.23500073}\n",
      "{'text_id1': 1, 'text_id2': 2, 'similarity': 0.37539992}\n",
      "{'text_id1': 1, 'text_id2': 3, 'similarity': 0.25723955}\n",
      "{'text_id1': 1, 'text_id2': 4, 'similarity': 0.28703022}\n",
      "{'text_id1': 1, 'text_id2': 5, 'similarity': 0.18691957}\n",
      "{'text_id1': 1, 'text_id2': 6, 'similarity': 0.20378728}\n",
      "{'text_id1': 1, 'text_id2': 7, 'similarity': 0.22525868}\n",
      "{'text_id1': 1, 'text_id2': 8, 'similarity': 0.11146724}\n",
      "{'text_id1': 1, 'text_id2': 9, 'similarity': 0.14745632}\n",
      "{'text_id1': 1, 'text_id2': 10, 'similarity': 0.23878257}\n",
      "{'text_id1': 1, 'text_id2': 11, 'similarity': 0.26078996}\n",
      "{'text_id1': 1, 'text_id2': 12, 'similarity': 0.27534568}\n",
      "{'text_id1': 2, 'text_id2': 3, 'similarity': 0.4462819}\n",
      "{'text_id1': 2, 'text_id2': 4, 'similarity': 0.3576948}\n",
      "{'text_id1': 2, 'text_id2': 5, 'similarity': 0.08358751}\n",
      "{'text_id1': 2, 'text_id2': 6, 'similarity': 0.2437835}\n",
      "{'text_id1': 2, 'text_id2': 7, 'similarity': 0.22419822}\n",
      "{'text_id1': 2, 'text_id2': 8, 'similarity': 0.15826038}\n",
      "{'text_id1': 2, 'text_id2': 9, 'similarity': 0.19820142}\n",
      "{'text_id1': 2, 'text_id2': 10, 'similarity': 0.2317092}\n",
      "{'text_id1': 2, 'text_id2': 11, 'similarity': 0.3071314}\n",
      "{'text_id1': 2, 'text_id2': 12, 'similarity': 0.26379094}\n",
      "{'text_id1': 3, 'text_id2': 4, 'similarity': 0.31617343}\n",
      "{'text_id1': 3, 'text_id2': 5, 'similarity': 0.1624558}\n",
      "{'text_id1': 3, 'text_id2': 6, 'similarity': 0.09722621}\n",
      "{'text_id1': 3, 'text_id2': 7, 'similarity': 0.15466575}\n",
      "{'text_id1': 3, 'text_id2': 8, 'similarity': 0.0796009}\n",
      "{'text_id1': 3, 'text_id2': 9, 'similarity': 0.08692403}\n",
      "{'text_id1': 3, 'text_id2': 10, 'similarity': 0.20594355}\n",
      "{'text_id1': 3, 'text_id2': 11, 'similarity': 0.18125607}\n",
      "{'text_id1': 3, 'text_id2': 12, 'similarity': 0.22835031}\n",
      "{'text_id1': 4, 'text_id2': 5, 'similarity': 0.17378066}\n",
      "{'text_id1': 4, 'text_id2': 6, 'similarity': 0.23083082}\n",
      "{'text_id1': 4, 'text_id2': 7, 'similarity': 0.099302456}\n",
      "{'text_id1': 4, 'text_id2': 8, 'similarity': 0.102868035}\n",
      "{'text_id1': 4, 'text_id2': 9, 'similarity': 0.08436918}\n",
      "{'text_id1': 4, 'text_id2': 10, 'similarity': 0.18362221}\n",
      "{'text_id1': 4, 'text_id2': 11, 'similarity': 0.21938998}\n",
      "{'text_id1': 4, 'text_id2': 12, 'similarity': 0.14333415}\n",
      "{'text_id1': 5, 'text_id2': 6, 'similarity': 0.23145664}\n",
      "{'text_id1': 5, 'text_id2': 7, 'similarity': 0.14731622}\n",
      "{'text_id1': 5, 'text_id2': 8, 'similarity': 0.22910953}\n",
      "{'text_id1': 5, 'text_id2': 9, 'similarity': 0.072186634}\n",
      "{'text_id1': 5, 'text_id2': 10, 'similarity': -0.0140452925}\n",
      "{'text_id1': 5, 'text_id2': 11, 'similarity': 0.056930784}\n",
      "{'text_id1': 5, 'text_id2': 12, 'similarity': 0.2294775}\n",
      "{'text_id1': 6, 'text_id2': 7, 'similarity': 0.26631886}\n",
      "{'text_id1': 6, 'text_id2': 8, 'similarity': 0.41897476}\n",
      "{'text_id1': 6, 'text_id2': 9, 'similarity': 0.23736158}\n",
      "{'text_id1': 6, 'text_id2': 10, 'similarity': 0.15884759}\n",
      "{'text_id1': 6, 'text_id2': 11, 'similarity': 0.21117392}\n",
      "{'text_id1': 6, 'text_id2': 12, 'similarity': 0.30694076}\n",
      "{'text_id1': 7, 'text_id2': 8, 'similarity': 0.4615126}\n",
      "{'text_id1': 7, 'text_id2': 9, 'similarity': 0.15079515}\n",
      "{'text_id1': 7, 'text_id2': 10, 'similarity': 0.27303988}\n",
      "{'text_id1': 7, 'text_id2': 11, 'similarity': 0.3131358}\n",
      "{'text_id1': 7, 'text_id2': 12, 'similarity': 0.3087207}\n",
      "{'text_id1': 8, 'text_id2': 9, 'similarity': 0.13069673}\n",
      "{'text_id1': 8, 'text_id2': 10, 'similarity': 0.23203826}\n",
      "{'text_id1': 8, 'text_id2': 11, 'similarity': 0.2339167}\n",
      "{'text_id1': 8, 'text_id2': 12, 'similarity': 0.3206119}\n",
      "{'text_id1': 9, 'text_id2': 10, 'similarity': 0.093933165}\n",
      "{'text_id1': 9, 'text_id2': 11, 'similarity': 0.28843206}\n",
      "{'text_id1': 9, 'text_id2': 12, 'similarity': 0.1797202}\n",
      "{'text_id1': 10, 'text_id2': 11, 'similarity': 0.38306302}\n",
      "{'text_id1': 10, 'text_id2': 12, 'similarity': 0.26817536}\n",
      "{'text_id1': 11, 'text_id2': 12, 'similarity': 0.38636842}\n"
     ]
    }
   ],
   "source": [
    "# 0.2s aprox.\n",
    "# Calculate and display similarity between the texts; 2.8 seg aprox.\n",
    "similarity_results = Model_instance.calculate_similarity()\n",
    "\n",
    "# Print similarity results\n",
    "print(\"Similarity results:\")\n",
    "for result in similarity_results:\n",
    "    print(result)"
   ]
  },
  {
   "cell_type": "markdown",
   "metadata": {},
   "source": [
    "### DistilUSE"
   ]
  },
  {
   "cell_type": "markdown",
   "metadata": {},
   "source": [
    "DistilUSE (distiluse-base-multilingual-cased-v2) is tailored for generating multilingual sentence embeddings primarily for tasks like sentence similarity and semantic search"
   ]
  },
  {
   "cell_type": "code",
   "execution_count": 13,
   "metadata": {},
   "outputs": [],
   "source": [
    "# 49.4s aprox.\n",
    "# Name of the SentenceTransformer model to use\n",
    "model_name = 'sentence-transformers/distiluse-base-multilingual-cased-v2'\n",
    "\n",
    "# Create an instance of the class\n",
    "Model_instance = Model(sentences, model_name)"
   ]
  },
  {
   "cell_type": "code",
   "execution_count": 15,
   "metadata": {},
   "outputs": [
    {
     "name": "stdout",
     "output_type": "stream",
     "text": [
      "Similarity results:\n",
      "{'text_id1': 0, 'text_id2': 1, 'similarity': 0.18313915}\n",
      "{'text_id1': 0, 'text_id2': 2, 'similarity': 0.1076456}\n",
      "{'text_id1': 0, 'text_id2': 3, 'similarity': 0.051257897}\n",
      "{'text_id1': 0, 'text_id2': 4, 'similarity': 0.026669824}\n",
      "{'text_id1': 0, 'text_id2': 5, 'similarity': 0.06693362}\n",
      "{'text_id1': 0, 'text_id2': 6, 'similarity': 0.26562876}\n",
      "{'text_id1': 0, 'text_id2': 7, 'similarity': 0.2319214}\n",
      "{'text_id1': 0, 'text_id2': 8, 'similarity': 0.07335695}\n",
      "{'text_id1': 0, 'text_id2': 9, 'similarity': 0.06130746}\n",
      "{'text_id1': 0, 'text_id2': 10, 'similarity': 0.05805084}\n",
      "{'text_id1': 0, 'text_id2': 11, 'similarity': 0.054492675}\n",
      "{'text_id1': 0, 'text_id2': 12, 'similarity': 0.14478637}\n",
      "{'text_id1': 1, 'text_id2': 2, 'similarity': 0.1645833}\n",
      "{'text_id1': 1, 'text_id2': 3, 'similarity': 0.013779677}\n",
      "{'text_id1': 1, 'text_id2': 4, 'similarity': 0.08498677}\n",
      "{'text_id1': 1, 'text_id2': 5, 'similarity': 0.098824814}\n",
      "{'text_id1': 1, 'text_id2': 6, 'similarity': 0.08114214}\n",
      "{'text_id1': 1, 'text_id2': 7, 'similarity': 0.042309765}\n",
      "{'text_id1': 1, 'text_id2': 8, 'similarity': 0.012000501}\n",
      "{'text_id1': 1, 'text_id2': 9, 'similarity': 0.08744651}\n",
      "{'text_id1': 1, 'text_id2': 10, 'similarity': 0.021756409}\n",
      "{'text_id1': 1, 'text_id2': 11, 'similarity': 0.07259665}\n",
      "{'text_id1': 1, 'text_id2': 12, 'similarity': 0.03574793}\n",
      "{'text_id1': 2, 'text_id2': 3, 'similarity': 0.07544732}\n",
      "{'text_id1': 2, 'text_id2': 4, 'similarity': 0.10247579}\n",
      "{'text_id1': 2, 'text_id2': 5, 'similarity': 0.08871938}\n",
      "{'text_id1': 2, 'text_id2': 6, 'similarity': 0.031353682}\n",
      "{'text_id1': 2, 'text_id2': 7, 'similarity': 0.032177325}\n",
      "{'text_id1': 2, 'text_id2': 8, 'similarity': -0.033188663}\n",
      "{'text_id1': 2, 'text_id2': 9, 'similarity': 0.044726513}\n",
      "{'text_id1': 2, 'text_id2': 10, 'similarity': 0.06157153}\n",
      "{'text_id1': 2, 'text_id2': 11, 'similarity': 0.0799349}\n",
      "{'text_id1': 2, 'text_id2': 12, 'similarity': 0.08592736}\n",
      "{'text_id1': 3, 'text_id2': 4, 'similarity': 0.18783203}\n",
      "{'text_id1': 3, 'text_id2': 5, 'similarity': 0.06769135}\n",
      "{'text_id1': 3, 'text_id2': 6, 'similarity': 0.08084604}\n",
      "{'text_id1': 3, 'text_id2': 7, 'similarity': 0.14258768}\n",
      "{'text_id1': 3, 'text_id2': 8, 'similarity': -0.005216144}\n",
      "{'text_id1': 3, 'text_id2': 9, 'similarity': 0.04832042}\n",
      "{'text_id1': 3, 'text_id2': 10, 'similarity': 0.04333085}\n",
      "{'text_id1': 3, 'text_id2': 11, 'similarity': -0.0071696253}\n",
      "{'text_id1': 3, 'text_id2': 12, 'similarity': 0.020133339}\n",
      "{'text_id1': 4, 'text_id2': 5, 'similarity': 0.02189128}\n",
      "{'text_id1': 4, 'text_id2': 6, 'similarity': 0.052137982}\n",
      "{'text_id1': 4, 'text_id2': 7, 'similarity': -0.06902506}\n",
      "{'text_id1': 4, 'text_id2': 8, 'similarity': -0.039059505}\n",
      "{'text_id1': 4, 'text_id2': 9, 'similarity': 0.0020730514}\n",
      "{'text_id1': 4, 'text_id2': 10, 'similarity': 0.023736063}\n",
      "{'text_id1': 4, 'text_id2': 11, 'similarity': 0.11458808}\n",
      "{'text_id1': 4, 'text_id2': 12, 'similarity': 0.054735415}\n",
      "{'text_id1': 5, 'text_id2': 6, 'similarity': 0.119893566}\n",
      "{'text_id1': 5, 'text_id2': 7, 'similarity': 0.06469372}\n",
      "{'text_id1': 5, 'text_id2': 8, 'similarity': 0.07593531}\n",
      "{'text_id1': 5, 'text_id2': 9, 'similarity': -0.0069249664}\n",
      "{'text_id1': 5, 'text_id2': 10, 'similarity': 0.021367464}\n",
      "{'text_id1': 5, 'text_id2': 11, 'similarity': 0.043234754}\n",
      "{'text_id1': 5, 'text_id2': 12, 'similarity': 0.115672976}\n",
      "{'text_id1': 6, 'text_id2': 7, 'similarity': 0.22957695}\n",
      "{'text_id1': 6, 'text_id2': 8, 'similarity': 0.19008768}\n",
      "{'text_id1': 6, 'text_id2': 9, 'similarity': 0.17861548}\n",
      "{'text_id1': 6, 'text_id2': 10, 'similarity': 0.045102004}\n",
      "{'text_id1': 6, 'text_id2': 11, 'similarity': 0.026809983}\n",
      "{'text_id1': 6, 'text_id2': 12, 'similarity': 0.2916022}\n",
      "{'text_id1': 7, 'text_id2': 8, 'similarity': 0.3390206}\n",
      "{'text_id1': 7, 'text_id2': 9, 'similarity': 0.0826775}\n",
      "{'text_id1': 7, 'text_id2': 10, 'similarity': 0.12024851}\n",
      "{'text_id1': 7, 'text_id2': 11, 'similarity': 0.04696227}\n",
      "{'text_id1': 7, 'text_id2': 12, 'similarity': 0.19712836}\n",
      "{'text_id1': 8, 'text_id2': 9, 'similarity': 0.077351965}\n",
      "{'text_id1': 8, 'text_id2': 10, 'similarity': 0.08559483}\n",
      "{'text_id1': 8, 'text_id2': 11, 'similarity': 0.021487815}\n",
      "{'text_id1': 8, 'text_id2': 12, 'similarity': 0.08861619}\n",
      "{'text_id1': 9, 'text_id2': 10, 'similarity': 0.00015258789}\n",
      "{'text_id1': 9, 'text_id2': 11, 'similarity': 0.08274697}\n",
      "{'text_id1': 9, 'text_id2': 12, 'similarity': 0.17985597}\n",
      "{'text_id1': 10, 'text_id2': 11, 'similarity': 0.038037915}\n",
      "{'text_id1': 10, 'text_id2': 12, 'similarity': 0.095451325}\n",
      "{'text_id1': 11, 'text_id2': 12, 'similarity': 0.08669828}\n"
     ]
    }
   ],
   "source": [
    "#0.1s aprox.\n",
    "# Calculate and display similarity between the texts; 2.8 seg aprox.\n",
    "similarity_results = Model_instance.calculate_similarity()\n",
    "\n",
    "# Print similarity results\n",
    "print(\"Similarity results:\")\n",
    "for result in similarity_results:\n",
    "    print(result)"
   ]
  }
 ],
 "metadata": {
  "kernelspec": {
   "display_name": "base",
   "language": "python",
   "name": "python3"
  },
  "language_info": {
   "codemirror_mode": {
    "name": "ipython",
    "version": 3
   },
   "file_extension": ".py",
   "mimetype": "text/x-python",
   "name": "python",
   "nbconvert_exporter": "python",
   "pygments_lexer": "ipython3",
   "version": "3.12.3"
  }
 },
 "nbformat": 4,
 "nbformat_minor": 2
}
