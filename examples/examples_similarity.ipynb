{
 "cells": [
  {
   "cell_type": "markdown",
   "metadata": {},
   "source": [
    "# Similarity"
   ]
  },
  {
   "cell_type": "markdown",
   "metadata": {},
   "source": [
    "This notebook demonstrates how to utilize different models to assess text similarity using the code from Model.py. Additionally, it provides explanations on how to utilize the code effectively."
   ]
  },
  {
   "cell_type": "markdown",
   "metadata": {},
   "source": [
    "The following sentences will serve as input texts for the demonstration:"
   ]
  },
  {
   "cell_type": "code",
   "execution_count": 1,
   "metadata": {},
   "outputs": [],
   "source": [
    "sentences = [\n",
    "    \"Ramona is a software engineer who loves coding.\",\n",
    "    \"Jorge enjoys reading books in his free time.\",\n",
    "    \"Marco sat with his cat under the tree. \",\n",
    "    \"The dog chased the monster in the park.\",\n",
    "    \"John and Mary went to the beach to fish for sharks.\",\n",
    "    \"Pizza is a common choice for food used to poison without detection. \",\n",
    "    \"The Mona Lisa is a famous painting by Leonardo da Vinci.\",\n",
    "    \"Mount Everest is the tallest mountain in the world.\",\n",
    "    \"The Great Wall of China is a UNESCO World Heritage Site.\",\n",
    "    \"Beethoven composed Symphony No. 9 in D minor.\",\n",
    "    \"The Earth revolves around the Sun.\",\n",
    "    \"Water boils at 100 degrees Celsius.\",\n",
    "    \"The capital of France is Paris.\"\n",
    "]"
   ]
  },
  {
   "cell_type": "code",
   "execution_count": 2,
   "metadata": {},
   "outputs": [],
   "source": [
    "# to access the code in similarity's folder\n",
    "\n",
    "import sys\n",
    "import os\n",
    "sys.path.append(os.path.dirname(os.getcwd()))"
   ]
  },
  {
   "cell_type": "code",
   "execution_count": 3,
   "metadata": {},
   "outputs": [
    {
     "name": "stderr",
     "output_type": "stream",
     "text": [
      "c:\\Users\\Gloria\\AppData\\Local\\Programs\\Python\\Python312\\Lib\\site-packages\\tqdm\\auto.py:21: TqdmWarning: IProgress not found. Please update jupyter and ipywidgets. See https://ipywidgets.readthedocs.io/en/stable/user_install.html\n",
      "  from .autonotebook import tqdm as notebook_tqdm\n"
     ]
    }
   ],
   "source": [
    "# Library\n",
    "# pip install -U sentence-transformers\n",
    "from similarity.Model import Model\n"
   ]
  },
  {
   "cell_type": "markdown",
   "metadata": {},
   "source": [
    "### all-MiniLM-L6-v2"
   ]
  },
  {
   "cell_type": "markdown",
   "metadata": {},
   "source": [
    "This model is particularly efficient in terms of size and computation. It uses MiniLM Architecture, a compact version of the BERT model based on the Transformer architecture."
   ]
  },
  {
   "cell_type": "code",
   "execution_count": 4,
   "metadata": {},
   "outputs": [],
   "source": [
    "# 8.0s aprox.\n",
    "# Name of the SentenceTransformer model to use\n",
    "model_name = 'sentence-transformers/all-MiniLM-L6-v2'\n",
    "# Create an instance of the class\n",
    "Model_instance = Model(sentences, model_name)"
   ]
  },
  {
   "cell_type": "code",
   "execution_count": 5,
   "metadata": {},
   "outputs": [
    {
     "name": "stdout",
     "output_type": "stream",
     "text": [
      "Similarity results:\n",
      "{'text_id1': 0, 'text_id2': 1, 'similarity': 0.1597348}\n",
      "{'text_id1': 0, 'text_id2': 2, 'similarity': 0.0818415}\n",
      "{'text_id1': 0, 'text_id2': 3, 'similarity': 0.055600088}\n",
      "{'text_id1': 0, 'text_id2': 4, 'similarity': 0.14304014}\n",
      "{'text_id1': 0, 'text_id2': 5, 'similarity': 0.034660123}\n",
      "{'text_id1': 0, 'text_id2': 6, 'similarity': 0.046214547}\n",
      "{'text_id1': 0, 'text_id2': 7, 'similarity': 0.022117741}\n",
      "{'text_id1': 0, 'text_id2': 8, 'similarity': -0.037078083}\n",
      "{'text_id1': 0, 'text_id2': 9, 'similarity': 0.06534709}\n",
      "{'text_id1': 0, 'text_id2': 10, 'similarity': -0.035998903}\n",
      "{'text_id1': 0, 'text_id2': 11, 'similarity': -0.016028896}\n",
      "{'text_id1': 0, 'text_id2': 12, 'similarity': 0.022813598}\n",
      "{'text_id1': 1, 'text_id2': 2, 'similarity': 0.15311185}\n",
      "{'text_id1': 1, 'text_id2': 3, 'similarity': -0.07004532}\n",
      "{'text_id1': 1, 'text_id2': 4, 'similarity': 0.11294486}\n",
      "{'text_id1': 1, 'text_id2': 5, 'similarity': 0.018555606}\n",
      "{'text_id1': 1, 'text_id2': 6, 'similarity': 0.088100985}\n",
      "{'text_id1': 1, 'text_id2': 7, 'similarity': 0.0841396}\n",
      "{'text_id1': 1, 'text_id2': 8, 'similarity': -0.007191075}\n",
      "{'text_id1': 1, 'text_id2': 9, 'similarity': -0.0047434773}\n",
      "{'text_id1': 1, 'text_id2': 10, 'similarity': 0.05863238}\n",
      "{'text_id1': 1, 'text_id2': 11, 'similarity': 0.022922914}\n",
      "{'text_id1': 1, 'text_id2': 12, 'similarity': 0.054697633}\n",
      "{'text_id1': 2, 'text_id2': 3, 'similarity': 0.15434094}\n",
      "{'text_id1': 2, 'text_id2': 4, 'similarity': 0.17770915}\n",
      "{'text_id1': 2, 'text_id2': 5, 'similarity': 0.107857555}\n",
      "{'text_id1': 2, 'text_id2': 6, 'similarity': 0.054371502}\n",
      "{'text_id1': 2, 'text_id2': 7, 'similarity': 0.047930263}\n",
      "{'text_id1': 2, 'text_id2': 8, 'similarity': 0.052940253}\n",
      "{'text_id1': 2, 'text_id2': 9, 'similarity': 0.13017467}\n",
      "{'text_id1': 2, 'text_id2': 10, 'similarity': 0.13904312}\n",
      "{'text_id1': 2, 'text_id2': 11, 'similarity': -0.05909795}\n",
      "{'text_id1': 2, 'text_id2': 12, 'similarity': -0.015324969}\n",
      "{'text_id1': 3, 'text_id2': 4, 'similarity': 0.07193116}\n",
      "{'text_id1': 3, 'text_id2': 5, 'similarity': 0.08704511}\n",
      "{'text_id1': 3, 'text_id2': 6, 'similarity': 0.04798231}\n",
      "{'text_id1': 3, 'text_id2': 7, 'similarity': 0.02122672}\n",
      "{'text_id1': 3, 'text_id2': 8, 'similarity': 0.077485755}\n",
      "{'text_id1': 3, 'text_id2': 9, 'similarity': 0.113664486}\n",
      "{'text_id1': 3, 'text_id2': 10, 'similarity': 0.068835266}\n",
      "{'text_id1': 3, 'text_id2': 11, 'similarity': -0.029480426}\n",
      "{'text_id1': 3, 'text_id2': 12, 'similarity': -0.06172352}\n",
      "{'text_id1': 4, 'text_id2': 5, 'similarity': 0.14593674}\n",
      "{'text_id1': 4, 'text_id2': 6, 'similarity': 0.1601226}\n",
      "{'text_id1': 4, 'text_id2': 7, 'similarity': -0.035022408}\n",
      "{'text_id1': 4, 'text_id2': 8, 'similarity': -0.077518746}\n",
      "{'text_id1': 4, 'text_id2': 9, 'similarity': -0.041810483}\n",
      "{'text_id1': 4, 'text_id2': 10, 'similarity': 0.058826767}\n",
      "{'text_id1': 4, 'text_id2': 11, 'similarity': 0.0031435192}\n",
      "{'text_id1': 4, 'text_id2': 12, 'similarity': -0.010622593}\n",
      "{'text_id1': 5, 'text_id2': 6, 'similarity': 0.073784985}\n",
      "{'text_id1': 5, 'text_id2': 7, 'similarity': 0.016650226}\n",
      "{'text_id1': 5, 'text_id2': 8, 'similarity': 0.0036922991}\n",
      "{'text_id1': 5, 'text_id2': 9, 'similarity': 0.047769725}\n",
      "{'text_id1': 5, 'text_id2': 10, 'similarity': -0.00082287565}\n",
      "{'text_id1': 5, 'text_id2': 11, 'similarity': 0.041777812}\n",
      "{'text_id1': 5, 'text_id2': 12, 'similarity': 0.11072664}\n",
      "{'text_id1': 6, 'text_id2': 7, 'similarity': 0.21788013}\n",
      "{'text_id1': 6, 'text_id2': 8, 'similarity': 0.24117988}\n",
      "{'text_id1': 6, 'text_id2': 9, 'similarity': 0.037812494}\n",
      "{'text_id1': 6, 'text_id2': 10, 'similarity': 0.14030084}\n",
      "{'text_id1': 6, 'text_id2': 11, 'similarity': 0.0845358}\n",
      "{'text_id1': 6, 'text_id2': 12, 'similarity': 0.17287454}\n",
      "{'text_id1': 7, 'text_id2': 8, 'similarity': 0.26428252}\n",
      "{'text_id1': 7, 'text_id2': 9, 'similarity': 0.015317418}\n",
      "{'text_id1': 7, 'text_id2': 10, 'similarity': 0.108245656}\n",
      "{'text_id1': 7, 'text_id2': 11, 'similarity': 0.05377059}\n",
      "{'text_id1': 7, 'text_id2': 12, 'similarity': 0.06731422}\n",
      "{'text_id1': 8, 'text_id2': 9, 'similarity': 0.04191026}\n",
      "{'text_id1': 8, 'text_id2': 10, 'similarity': 0.068718225}\n",
      "{'text_id1': 8, 'text_id2': 11, 'similarity': 0.003577061}\n",
      "{'text_id1': 8, 'text_id2': 12, 'similarity': 0.14937645}\n",
      "{'text_id1': 9, 'text_id2': 10, 'similarity': 0.032985415}\n",
      "{'text_id1': 9, 'text_id2': 11, 'similarity': 0.00032598153}\n",
      "{'text_id1': 9, 'text_id2': 12, 'similarity': 0.072586976}\n",
      "{'text_id1': 10, 'text_id2': 11, 'similarity': 0.12824222}\n",
      "{'text_id1': 10, 'text_id2': 12, 'similarity': 0.115137935}\n",
      "{'text_id1': 11, 'text_id2': 12, 'similarity': 0.15222162}\n"
     ]
    }
   ],
   "source": [
    "# 10s aprox.\n",
    "# Calculate and display similarity between the texts; 2.8 seg aprox.\n",
    "similarity_results = Model_instance.calculate_similarity()\n",
    "\n",
    "# Print similarity results\n",
    "print(\"Similarity results:\")\n",
    "for result in similarity_results:\n",
    "    print(result)"
   ]
  },
  {
   "cell_type": "markdown",
   "metadata": {},
   "source": [
    "### paraphrase-multilingual-MiniLM-L12-v2"
   ]
  },
  {
   "cell_type": "markdown",
   "metadata": {},
   "source": [
    "The main difference between all-MiniLM-L6-v2 and MiniLM-L12-v2 is the number of layers (L6 = 6; L12 = 12), which affects the size, performance, and computational requirements. Furthermore, paraphrase-multilingual-MiniLM-L12-v2 is specifically tailored for paraphrase detection and semantic similarity tasks, while all-MiniLM-L6-v2 is a general purpose model."
   ]
  },
  {
   "cell_type": "code",
   "execution_count": 6,
   "metadata": {},
   "outputs": [],
   "source": [
    "# 24.3s aprox\n",
    "# Name of the SentenceTransformer model to use\n",
    "model_name = 'sentence-transformers/paraphrase-multilingual-MiniLM-L12-v2'\n",
    "\n",
    "# Create an instance of the class\n",
    "Model_instance = Model(sentences, model_name)"
   ]
  },
  {
   "cell_type": "code",
   "execution_count": 7,
   "metadata": {},
   "outputs": [
    {
     "name": "stdout",
     "output_type": "stream",
     "text": [
      "Similarity results:\n",
      "{'text_id1': 0, 'text_id2': 1, 'similarity': 0.20741831}\n",
      "{'text_id1': 0, 'text_id2': 2, 'similarity': 0.22545972}\n",
      "{'text_id1': 0, 'text_id2': 3, 'similarity': -0.034786206}\n",
      "{'text_id1': 0, 'text_id2': 4, 'similarity': -0.041520074}\n",
      "{'text_id1': 0, 'text_id2': 5, 'similarity': 0.10810112}\n",
      "{'text_id1': 0, 'text_id2': 6, 'similarity': -0.13943337}\n",
      "{'text_id1': 0, 'text_id2': 7, 'similarity': -0.07726742}\n",
      "{'text_id1': 0, 'text_id2': 8, 'similarity': -0.08653814}\n",
      "{'text_id1': 0, 'text_id2': 9, 'similarity': 0.16482522}\n",
      "{'text_id1': 0, 'text_id2': 10, 'similarity': -0.023441505}\n",
      "{'text_id1': 0, 'text_id2': 11, 'similarity': -0.089713834}\n",
      "{'text_id1': 0, 'text_id2': 12, 'similarity': -0.18638453}\n",
      "{'text_id1': 1, 'text_id2': 2, 'similarity': 0.2598317}\n",
      "{'text_id1': 1, 'text_id2': 3, 'similarity': -0.12257454}\n",
      "{'text_id1': 1, 'text_id2': 4, 'similarity': -0.10347988}\n",
      "{'text_id1': 1, 'text_id2': 5, 'similarity': 0.07109052}\n",
      "{'text_id1': 1, 'text_id2': 6, 'similarity': 0.10536748}\n",
      "{'text_id1': 1, 'text_id2': 7, 'similarity': -0.0029914957}\n",
      "{'text_id1': 1, 'text_id2': 8, 'similarity': 0.018725652}\n",
      "{'text_id1': 1, 'text_id2': 9, 'similarity': 0.13687518}\n",
      "{'text_id1': 1, 'text_id2': 10, 'similarity': 0.06117145}\n",
      "{'text_id1': 1, 'text_id2': 11, 'similarity': 0.017378988}\n",
      "{'text_id1': 1, 'text_id2': 12, 'similarity': 0.061858397}\n",
      "{'text_id1': 2, 'text_id2': 3, 'similarity': 0.019551065}\n",
      "{'text_id1': 2, 'text_id2': 4, 'similarity': -0.020054333}\n",
      "{'text_id1': 2, 'text_id2': 5, 'similarity': 0.099614605}\n",
      "{'text_id1': 2, 'text_id2': 6, 'similarity': -0.07216206}\n",
      "{'text_id1': 2, 'text_id2': 7, 'similarity': -0.132617}\n",
      "{'text_id1': 2, 'text_id2': 8, 'similarity': -0.010896467}\n",
      "{'text_id1': 2, 'text_id2': 9, 'similarity': 0.1917642}\n",
      "{'text_id1': 2, 'text_id2': 10, 'similarity': 0.07590391}\n",
      "{'text_id1': 2, 'text_id2': 11, 'similarity': -0.0886413}\n",
      "{'text_id1': 2, 'text_id2': 12, 'similarity': -0.050062418}\n",
      "{'text_id1': 3, 'text_id2': 4, 'similarity': -0.01357322}\n",
      "{'text_id1': 3, 'text_id2': 5, 'similarity': 0.07800208}\n",
      "{'text_id1': 3, 'text_id2': 6, 'similarity': 0.20975217}\n",
      "{'text_id1': 3, 'text_id2': 7, 'similarity': 0.14514841}\n",
      "{'text_id1': 3, 'text_id2': 8, 'similarity': 0.13471302}\n",
      "{'text_id1': 3, 'text_id2': 9, 'similarity': 0.18923554}\n",
      "{'text_id1': 3, 'text_id2': 10, 'similarity': 0.054458868}\n",
      "{'text_id1': 3, 'text_id2': 11, 'similarity': -0.060380965}\n",
      "{'text_id1': 3, 'text_id2': 12, 'similarity': 0.123347715}\n",
      "{'text_id1': 4, 'text_id2': 5, 'similarity': 0.08163662}\n",
      "{'text_id1': 4, 'text_id2': 6, 'similarity': 0.17143992}\n",
      "{'text_id1': 4, 'text_id2': 7, 'similarity': 0.015538836}\n",
      "{'text_id1': 4, 'text_id2': 8, 'similarity': 0.032407552}\n",
      "{'text_id1': 4, 'text_id2': 9, 'similarity': -0.1444555}\n",
      "{'text_id1': 4, 'text_id2': 10, 'similarity': 0.03936144}\n",
      "{'text_id1': 4, 'text_id2': 11, 'similarity': 0.059242357}\n",
      "{'text_id1': 4, 'text_id2': 12, 'similarity': 0.03381838}\n",
      "{'text_id1': 5, 'text_id2': 6, 'similarity': -0.026646845}\n",
      "{'text_id1': 5, 'text_id2': 7, 'similarity': 0.0054073706}\n",
      "{'text_id1': 5, 'text_id2': 8, 'similarity': 0.034363896}\n",
      "{'text_id1': 5, 'text_id2': 9, 'similarity': 0.06680418}\n",
      "{'text_id1': 5, 'text_id2': 10, 'similarity': 0.027052535}\n",
      "{'text_id1': 5, 'text_id2': 11, 'similarity': 0.03223912}\n",
      "{'text_id1': 5, 'text_id2': 12, 'similarity': 0.2165367}\n",
      "{'text_id1': 6, 'text_id2': 7, 'similarity': 0.11646256}\n",
      "{'text_id1': 6, 'text_id2': 8, 'similarity': 0.24785191}\n",
      "{'text_id1': 6, 'text_id2': 9, 'similarity': 0.09713261}\n",
      "{'text_id1': 6, 'text_id2': 10, 'similarity': 0.2193695}\n",
      "{'text_id1': 6, 'text_id2': 11, 'similarity': 0.09818354}\n",
      "{'text_id1': 6, 'text_id2': 12, 'similarity': 0.30212194}\n",
      "{'text_id1': 7, 'text_id2': 8, 'similarity': 0.3112116}\n",
      "{'text_id1': 7, 'text_id2': 9, 'similarity': -0.010020945}\n",
      "{'text_id1': 7, 'text_id2': 10, 'similarity': 0.14062193}\n",
      "{'text_id1': 7, 'text_id2': 11, 'similarity': 0.06303139}\n",
      "{'text_id1': 7, 'text_id2': 12, 'similarity': 0.06842351}\n",
      "{'text_id1': 8, 'text_id2': 9, 'similarity': 0.019166965}\n",
      "{'text_id1': 8, 'text_id2': 10, 'similarity': 0.1623507}\n",
      "{'text_id1': 8, 'text_id2': 11, 'similarity': 0.055282984}\n",
      "{'text_id1': 8, 'text_id2': 12, 'similarity': 0.15896502}\n",
      "{'text_id1': 9, 'text_id2': 10, 'similarity': 0.010732405}\n",
      "{'text_id1': 9, 'text_id2': 11, 'similarity': 0.060062617}\n",
      "{'text_id1': 9, 'text_id2': 12, 'similarity': 0.09474179}\n",
      "{'text_id1': 10, 'text_id2': 11, 'similarity': 0.064579345}\n",
      "{'text_id1': 10, 'text_id2': 12, 'similarity': 0.17291775}\n",
      "{'text_id1': 11, 'text_id2': 12, 'similarity': 0.04601758}\n"
     ]
    }
   ],
   "source": [
    "# 0.6s aprox.\n",
    "# Calculate and display similarity between the texts; 2.8 seg aprox.\n",
    "similarity_results = Model_instance.calculate_similarity()\n",
    "\n",
    "# Print similarity results\n",
    "print(\"Similarity results:\")\n",
    "for result in similarity_results:\n",
    "    print(result)"
   ]
  },
  {
   "cell_type": "markdown",
   "metadata": {},
   "source": [
    "### all-mpnet-base-v2"
   ]
  },
  {
   "cell_type": "markdown",
   "metadata": {},
   "source": [
    "MPNet (Mobileformer) model, a transformer-based model developed by Microsoft Research. It usually works best when you need fast responses, privacy, or computing close to the data source."
   ]
  },
  {
   "cell_type": "code",
   "execution_count": 8,
   "metadata": {},
   "outputs": [],
   "source": [
    "# 10.5s aprox --> best one\n",
    "# Name of the SentenceTransformer model to use\n",
    "model_name = 'sentence-transformers/all-mpnet-base-v2'\n",
    "\n",
    "# Create an instance of the class\n",
    "Model_instance = Model(sentences, model_name)"
   ]
  },
  {
   "cell_type": "code",
   "execution_count": 10,
   "metadata": {},
   "outputs": [
    {
     "name": "stdout",
     "output_type": "stream",
     "text": [
      "Similarity results:\n",
      "{'text_id1': 0, 'text_id2': 1, 'similarity': 0.20646062}\n",
      "{'text_id1': 0, 'text_id2': 2, 'similarity': -0.0046621906}\n",
      "{'text_id1': 0, 'text_id2': 3, 'similarity': -0.08455665}\n",
      "{'text_id1': 0, 'text_id2': 4, 'similarity': 0.017528454}\n",
      "{'text_id1': 0, 'text_id2': 5, 'similarity': 0.1032789}\n",
      "{'text_id1': 0, 'text_id2': 6, 'similarity': 0.13802837}\n",
      "{'text_id1': 0, 'text_id2': 7, 'similarity': -0.0075252354}\n",
      "{'text_id1': 0, 'text_id2': 8, 'similarity': 0.017472018}\n",
      "{'text_id1': 0, 'text_id2': 9, 'similarity': -0.032865025}\n",
      "{'text_id1': 0, 'text_id2': 10, 'similarity': 0.033637233}\n",
      "{'text_id1': 0, 'text_id2': 11, 'similarity': -0.020414997}\n",
      "{'text_id1': 0, 'text_id2': 12, 'similarity': 0.033197947}\n",
      "{'text_id1': 1, 'text_id2': 2, 'similarity': 0.0645885}\n",
      "{'text_id1': 1, 'text_id2': 3, 'similarity': -0.010923749}\n",
      "{'text_id1': 1, 'text_id2': 4, 'similarity': 0.08825572}\n",
      "{'text_id1': 1, 'text_id2': 5, 'similarity': 0.02201602}\n",
      "{'text_id1': 1, 'text_id2': 6, 'similarity': 0.12822753}\n",
      "{'text_id1': 1, 'text_id2': 7, 'similarity': 0.051447015}\n",
      "{'text_id1': 1, 'text_id2': 8, 'similarity': 0.05080925}\n",
      "{'text_id1': 1, 'text_id2': 9, 'similarity': 0.1170894}\n",
      "{'text_id1': 1, 'text_id2': 10, 'similarity': 0.08292469}\n",
      "{'text_id1': 1, 'text_id2': 11, 'similarity': -0.04121085}\n",
      "{'text_id1': 1, 'text_id2': 12, 'similarity': 0.057256434}\n",
      "{'text_id1': 2, 'text_id2': 3, 'similarity': 0.12377599}\n",
      "{'text_id1': 2, 'text_id2': 4, 'similarity': 0.09644707}\n",
      "{'text_id1': 2, 'text_id2': 5, 'similarity': 0.100969896}\n",
      "{'text_id1': 2, 'text_id2': 6, 'similarity': 0.002329776}\n",
      "{'text_id1': 2, 'text_id2': 7, 'similarity': 0.011075565}\n",
      "{'text_id1': 2, 'text_id2': 8, 'similarity': -0.08548164}\n",
      "{'text_id1': 2, 'text_id2': 9, 'similarity': 0.09430868}\n",
      "{'text_id1': 2, 'text_id2': 10, 'similarity': 0.069562145}\n",
      "{'text_id1': 2, 'text_id2': 11, 'similarity': 0.08835048}\n",
      "{'text_id1': 2, 'text_id2': 12, 'similarity': -0.029403074}\n",
      "{'text_id1': 3, 'text_id2': 4, 'similarity': 0.07956308}\n",
      "{'text_id1': 3, 'text_id2': 5, 'similarity': 0.061542258}\n",
      "{'text_id1': 3, 'text_id2': 6, 'similarity': 0.05979617}\n",
      "{'text_id1': 3, 'text_id2': 7, 'similarity': 0.056871388}\n",
      "{'text_id1': 3, 'text_id2': 8, 'similarity': 0.007088907}\n",
      "{'text_id1': 3, 'text_id2': 9, 'similarity': 0.002527235}\n",
      "{'text_id1': 3, 'text_id2': 10, 'similarity': -0.009000871}\n",
      "{'text_id1': 3, 'text_id2': 11, 'similarity': 0.05143373}\n",
      "{'text_id1': 3, 'text_id2': 12, 'similarity': 0.03431932}\n",
      "{'text_id1': 4, 'text_id2': 5, 'similarity': 0.095312856}\n",
      "{'text_id1': 4, 'text_id2': 6, 'similarity': 0.12015633}\n",
      "{'text_id1': 4, 'text_id2': 7, 'similarity': -0.057493348}\n",
      "{'text_id1': 4, 'text_id2': 8, 'similarity': -0.055590358}\n",
      "{'text_id1': 4, 'text_id2': 9, 'similarity': 0.0042265356}\n",
      "{'text_id1': 4, 'text_id2': 10, 'similarity': 0.05861812}\n",
      "{'text_id1': 4, 'text_id2': 11, 'similarity': -0.029854916}\n",
      "{'text_id1': 4, 'text_id2': 12, 'similarity': -0.034208704}\n",
      "{'text_id1': 5, 'text_id2': 6, 'similarity': 0.048272856}\n",
      "{'text_id1': 5, 'text_id2': 7, 'similarity': 0.040722907}\n",
      "{'text_id1': 5, 'text_id2': 8, 'similarity': 0.003911934}\n",
      "{'text_id1': 5, 'text_id2': 9, 'similarity': -0.0155617455}\n",
      "{'text_id1': 5, 'text_id2': 10, 'similarity': -0.018883338}\n",
      "{'text_id1': 5, 'text_id2': 11, 'similarity': 0.12887648}\n",
      "{'text_id1': 5, 'text_id2': 12, 'similarity': 0.01026213}\n",
      "{'text_id1': 6, 'text_id2': 7, 'similarity': 0.17883484}\n",
      "{'text_id1': 6, 'text_id2': 8, 'similarity': 0.33954212}\n",
      "{'text_id1': 6, 'text_id2': 9, 'similarity': 0.19059668}\n",
      "{'text_id1': 6, 'text_id2': 10, 'similarity': 0.12967736}\n",
      "{'text_id1': 6, 'text_id2': 11, 'similarity': -0.01779655}\n",
      "{'text_id1': 6, 'text_id2': 12, 'similarity': 0.17618878}\n",
      "{'text_id1': 7, 'text_id2': 8, 'similarity': 0.33412382}\n",
      "{'text_id1': 7, 'text_id2': 9, 'similarity': 0.14990193}\n",
      "{'text_id1': 7, 'text_id2': 10, 'similarity': 0.18996088}\n",
      "{'text_id1': 7, 'text_id2': 11, 'similarity': 0.16682369}\n",
      "{'text_id1': 7, 'text_id2': 12, 'similarity': 0.16321865}\n",
      "{'text_id1': 8, 'text_id2': 9, 'similarity': 0.09537242}\n",
      "{'text_id1': 8, 'text_id2': 10, 'similarity': 0.082358725}\n",
      "{'text_id1': 8, 'text_id2': 11, 'similarity': 0.05716176}\n",
      "{'text_id1': 8, 'text_id2': 12, 'similarity': 0.25074154}\n",
      "{'text_id1': 9, 'text_id2': 10, 'similarity': 0.10876477}\n",
      "{'text_id1': 9, 'text_id2': 11, 'similarity': 0.039304845}\n",
      "{'text_id1': 9, 'text_id2': 12, 'similarity': 0.16183737}\n",
      "{'text_id1': 10, 'text_id2': 11, 'similarity': 0.09072005}\n",
      "{'text_id1': 10, 'text_id2': 12, 'similarity': 0.14149746}\n",
      "{'text_id1': 11, 'text_id2': 12, 'similarity': 0.0707672}\n"
     ]
    }
   ],
   "source": [
    "# 0.9s aprox.\n",
    "# Calculate and display similarity between the texts; 2.8 seg aprox.\n",
    "similarity_results = Model_instance.calculate_similarity()\n",
    "\n",
    "# Print similarity results\n",
    "print(\"Similarity results:\")\n",
    "for result in similarity_results:\n",
    "    print(result)"
   ]
  },
  {
   "cell_type": "markdown",
   "metadata": {},
   "source": [
    "### paraphrase-multilingual-mpnet-base-v2"
   ]
  },
  {
   "cell_type": "markdown",
   "metadata": {},
   "source": [
    "paraphrase-multilingual-mpnet-base-v2 is specifically tailored for paraphrase detection and semantic similarity tasks, while all-mpnet-base-v2 is a general purpose model."
   ]
  },
  {
   "cell_type": "code",
   "execution_count": 15,
   "metadata": {},
   "outputs": [],
   "source": [
    "# 3m 4.2s aprox.\n",
    "# Name of the SentenceTransformer model to use\n",
    "model_name = 'sentence-transformers/paraphrase-multilingual-mpnet-base-v2'\n",
    "\n",
    "# Create an instance of the class\n",
    "Model_instance = Model(sentences, model_name)"
   ]
  },
  {
   "cell_type": "code",
   "execution_count": 12,
   "metadata": {},
   "outputs": [
    {
     "name": "stdout",
     "output_type": "stream",
     "text": [
      "Similarity results:\n",
      "{'text_id1': 0, 'text_id2': 1, 'similarity': 0.30339304}\n",
      "{'text_id1': 0, 'text_id2': 2, 'similarity': 0.089907266}\n",
      "{'text_id1': 0, 'text_id2': 3, 'similarity': -0.011231708}\n",
      "{'text_id1': 0, 'text_id2': 4, 'similarity': 0.014406752}\n",
      "{'text_id1': 0, 'text_id2': 5, 'similarity': 0.07260013}\n",
      "{'text_id1': 0, 'text_id2': 6, 'similarity': 0.20138864}\n",
      "{'text_id1': 0, 'text_id2': 7, 'similarity': -0.015593786}\n",
      "{'text_id1': 0, 'text_id2': 8, 'similarity': 0.012397654}\n",
      "{'text_id1': 0, 'text_id2': 9, 'similarity': 0.024085607}\n",
      "{'text_id1': 0, 'text_id2': 10, 'similarity': 0.005255349}\n",
      "{'text_id1': 0, 'text_id2': 11, 'similarity': 0.030095711}\n",
      "{'text_id1': 0, 'text_id2': 12, 'similarity': 0.031220898}\n",
      "{'text_id1': 1, 'text_id2': 2, 'similarity': 0.26790628}\n",
      "{'text_id1': 1, 'text_id2': 3, 'similarity': 0.014833647}\n",
      "{'text_id1': 1, 'text_id2': 4, 'similarity': 0.028790228}\n",
      "{'text_id1': 1, 'text_id2': 5, 'similarity': 0.07778351}\n",
      "{'text_id1': 1, 'text_id2': 6, 'similarity': 0.06813321}\n",
      "{'text_id1': 1, 'text_id2': 7, 'similarity': 0.0065455344}\n",
      "{'text_id1': 1, 'text_id2': 8, 'similarity': -0.004513465}\n",
      "{'text_id1': 1, 'text_id2': 9, 'similarity': 0.13805024}\n",
      "{'text_id1': 1, 'text_id2': 10, 'similarity': 0.13592571}\n",
      "{'text_id1': 1, 'text_id2': 11, 'similarity': 0.011363876}\n",
      "{'text_id1': 1, 'text_id2': 12, 'similarity': 0.006765764}\n",
      "{'text_id1': 2, 'text_id2': 3, 'similarity': 0.14240529}\n",
      "{'text_id1': 2, 'text_id2': 4, 'similarity': 0.10663284}\n",
      "{'text_id1': 2, 'text_id2': 5, 'similarity': 0.15442613}\n",
      "{'text_id1': 2, 'text_id2': 6, 'similarity': 0.13454199}\n",
      "{'text_id1': 2, 'text_id2': 7, 'similarity': 0.019379135}\n",
      "{'text_id1': 2, 'text_id2': 8, 'similarity': 0.04333291}\n",
      "{'text_id1': 2, 'text_id2': 9, 'similarity': 0.11739918}\n",
      "{'text_id1': 2, 'text_id2': 10, 'similarity': 0.09359475}\n",
      "{'text_id1': 2, 'text_id2': 11, 'similarity': 0.012688097}\n",
      "{'text_id1': 2, 'text_id2': 12, 'similarity': -0.0012148414}\n",
      "{'text_id1': 3, 'text_id2': 4, 'similarity': 0.1115603}\n",
      "{'text_id1': 3, 'text_id2': 5, 'similarity': 0.007557891}\n",
      "{'text_id1': 3, 'text_id2': 6, 'similarity': 0.09639402}\n",
      "{'text_id1': 3, 'text_id2': 7, 'similarity': 0.0324746}\n",
      "{'text_id1': 3, 'text_id2': 8, 'similarity': 0.047920637}\n",
      "{'text_id1': 3, 'text_id2': 9, 'similarity': -0.060049526}\n",
      "{'text_id1': 3, 'text_id2': 10, 'similarity': 0.028200898}\n",
      "{'text_id1': 3, 'text_id2': 11, 'similarity': -0.02427559}\n",
      "{'text_id1': 3, 'text_id2': 12, 'similarity': -0.040831532}\n",
      "{'text_id1': 4, 'text_id2': 5, 'similarity': 0.13226533}\n",
      "{'text_id1': 4, 'text_id2': 6, 'similarity': 0.07152335}\n",
      "{'text_id1': 4, 'text_id2': 7, 'similarity': -0.09561447}\n",
      "{'text_id1': 4, 'text_id2': 8, 'similarity': -0.11107038}\n",
      "{'text_id1': 4, 'text_id2': 9, 'similarity': -0.102422945}\n",
      "{'text_id1': 4, 'text_id2': 10, 'similarity': -0.026979245}\n",
      "{'text_id1': 4, 'text_id2': 11, 'similarity': -0.06411146}\n",
      "{'text_id1': 4, 'text_id2': 12, 'similarity': -0.08612508}\n",
      "{'text_id1': 5, 'text_id2': 6, 'similarity': 0.035270788}\n",
      "{'text_id1': 5, 'text_id2': 7, 'similarity': -0.025364732}\n",
      "{'text_id1': 5, 'text_id2': 8, 'similarity': 0.021073066}\n",
      "{'text_id1': 5, 'text_id2': 9, 'similarity': -0.115428284}\n",
      "{'text_id1': 5, 'text_id2': 10, 'similarity': 0.045485638}\n",
      "{'text_id1': 5, 'text_id2': 11, 'similarity': 0.13084745}\n",
      "{'text_id1': 5, 'text_id2': 12, 'similarity': -0.027783187}\n",
      "{'text_id1': 6, 'text_id2': 7, 'similarity': 0.05526444}\n",
      "{'text_id1': 6, 'text_id2': 8, 'similarity': 0.28816202}\n",
      "{'text_id1': 6, 'text_id2': 9, 'similarity': 0.16194728}\n",
      "{'text_id1': 6, 'text_id2': 10, 'similarity': 0.14476672}\n",
      "{'text_id1': 6, 'text_id2': 11, 'similarity': -0.05277271}\n",
      "{'text_id1': 6, 'text_id2': 12, 'similarity': 0.19868389}\n",
      "{'text_id1': 7, 'text_id2': 8, 'similarity': 0.33522457}\n",
      "{'text_id1': 7, 'text_id2': 9, 'similarity': -0.018648246}\n",
      "{'text_id1': 7, 'text_id2': 10, 'similarity': 0.1992378}\n",
      "{'text_id1': 7, 'text_id2': 11, 'similarity': 0.07148215}\n",
      "{'text_id1': 7, 'text_id2': 12, 'similarity': 0.21033259}\n",
      "{'text_id1': 8, 'text_id2': 9, 'similarity': 0.046573795}\n",
      "{'text_id1': 8, 'text_id2': 10, 'similarity': 0.12690124}\n",
      "{'text_id1': 8, 'text_id2': 11, 'similarity': 0.113263674}\n",
      "{'text_id1': 8, 'text_id2': 12, 'similarity': 0.30141807}\n",
      "{'text_id1': 9, 'text_id2': 10, 'similarity': 0.031430453}\n",
      "{'text_id1': 9, 'text_id2': 11, 'similarity': -0.027493453}\n",
      "{'text_id1': 9, 'text_id2': 12, 'similarity': 0.07610318}\n",
      "{'text_id1': 10, 'text_id2': 11, 'similarity': 0.13198863}\n",
      "{'text_id1': 10, 'text_id2': 12, 'similarity': 0.024658002}\n",
      "{'text_id1': 11, 'text_id2': 12, 'similarity': -0.039826088}\n"
     ]
    }
   ],
   "source": [
    "# 1.4s\n",
    "# Calculate and display similarity between the texts; 2.8 seg aprox.\n",
    "similarity_results = Model_instance.calculate_similarity()\n",
    "\n",
    "# Print similarity results\n",
    "print(\"Similarity results:\")\n",
    "for result in similarity_results:\n",
    "    print(result)"
   ]
  },
  {
   "cell_type": "markdown",
   "metadata": {},
   "source": [
    "### LaBSE"
   ]
  },
  {
   "cell_type": "markdown",
   "metadata": {},
   "source": [
    "LaBSE specializes in creating embeddings that are effective across various languages for cross-lingual tasks (Language-agnostic BERT Sentence Embedding)."
   ]
  },
  {
   "cell_type": "code",
   "execution_count": null,
   "metadata": {},
   "outputs": [],
   "source": [
    "# 30s aprox.\n",
    "# Name of the SentenceTransformer model to use\n",
    "model_name = 'sentence-transformers/LaBSE'\n",
    "\n",
    "# Create an instance of the class\n",
    "Model_instance = Model(sentences, model_name)"
   ]
  },
  {
   "cell_type": "code",
   "execution_count": null,
   "metadata": {},
   "outputs": [],
   "source": [
    "# 1s aprox.\n",
    "# Calculate and display similarity between the texts; 2.8 seg aprox.\n",
    "similarity_results = Model_instance.calculate_similarity()\n",
    "\n",
    "# Print similarity results\n",
    "print(\"Similarity results:\")\n",
    "for result in similarity_results:\n",
    "    print(result)"
   ]
  },
  {
   "cell_type": "markdown",
   "metadata": {},
   "source": [
    "### DistilUSE"
   ]
  },
  {
   "cell_type": "markdown",
   "metadata": {},
   "source": [
    "DistilUSE (distiluse-base-multilingual-cased-v2) is tailored for generating multilingual sentence embeddings primarily for tasks like sentence similarity and semantic search"
   ]
  },
  {
   "cell_type": "code",
   "execution_count": null,
   "metadata": {},
   "outputs": [],
   "source": [
    "# 15s aprox.\n",
    "# Name of the SentenceTransformer model to use\n",
    "model_name = 'sentence-transformers/distiluse-base-multilingual-cased-v2'\n",
    "\n",
    "# Create an instance of the class\n",
    "Model_instance = Model(sentences, model_name)"
   ]
  },
  {
   "cell_type": "code",
   "execution_count": null,
   "metadata": {},
   "outputs": [],
   "source": [
    "#0.7s aprox.\n",
    "# Calculate and display similarity between the texts; 2.8 seg aprox.\n",
    "similarity_results = Model_instance.calculate_similarity()\n",
    "\n",
    "# Print similarity results\n",
    "print(\"Similarity results:\")\n",
    "for result in similarity_results:\n",
    "    print(result)"
   ]
  }
 ],
 "metadata": {
  "kernelspec": {
   "display_name": "base",
   "language": "python",
   "name": "python3"
  },
  "language_info": {
   "codemirror_mode": {
    "name": "ipython",
    "version": 3
   },
   "file_extension": ".py",
   "mimetype": "text/x-python",
   "name": "python",
   "nbconvert_exporter": "python",
   "pygments_lexer": "ipython3",
   "version": "3.12.3"
  }
 },
 "nbformat": 4,
 "nbformat_minor": 2
}
