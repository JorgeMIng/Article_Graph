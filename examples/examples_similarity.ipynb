{
 "cells": [
  {
   "cell_type": "markdown",
   "metadata": {},
   "source": [
    "# Similarity"
   ]
  },
  {
   "cell_type": "markdown",
   "metadata": {},
   "source": [
    "This notebook demonstrates how to use the **'all-MiniLM-L6-v2'** and **'all-mpnet-base-v2'** models for text similarity assessment. It provides clear instructions and examples to help users understand their application in natural language processing tasks."
   ]
  },
  {
   "cell_type": "markdown",
   "metadata": {},
   "source": [
    "The following sentences will serve as input texts for the demonstration:"
   ]
  },
  {
   "cell_type": "code",
   "execution_count": null,
   "metadata": {},
   "outputs": [],
   "source": [
    "texts = [\n",
    "    \"Ramona is a software engineer who loves coding.\",\n",
    "    \"Jorge enjoys reading books in his free time.\",\n",
    "    \"Marco sat with his cat under the tree. \",\n",
    "    \"The dog chased the monster in the park.\",\n",
    "    \"John and Mary went to the beach to fish for sharks.\",\n",
    "    \"Pizza is a common choice for food used to poison without detection. \",\n",
    "    \"The Mona Lisa is a famous painting by Leonardo da Vinci.\",\n",
    "    \"Mount Everest is the tallest mountain in the world.\",\n",
    "    \"The Great Wall of China is a UNESCO World Heritage Site.\",\n",
    "    \"Beethoven composed Symphony No. 9 in D minor.\",\n",
    "    \"The Earth revolves around the Sun.\",\n",
    "    \"Water boils at 100 degrees Celsius.\",\n",
    "    \"The capital of France is Paris.\"\n",
    "]"
   ]
  },
  {
   "cell_type": "code",
   "execution_count": null,
   "metadata": {},
   "outputs": [],
   "source": [
    "# to access the code in similarity's folder\n",
    "\n",
    "import sys\n",
    "import os\n",
    "sys.path.append(os.path.dirname(os.getcwd()))"
   ]
  },
  {
   "cell_type": "markdown",
   "metadata": {},
   "source": [
    "### all-MiniLM-L6-v2"
   ]
  },
  {
   "cell_type": "markdown",
   "metadata": {},
   "source": [
    "This model is particularly efficient in terms of size and computation. It uses MiniLM Architecture, a compact version of the BERT model."
   ]
  },
  {
   "cell_type": "code",
   "execution_count": null,
   "metadata": {},
   "outputs": [],
   "source": [
    "# Import Libraries\n",
    "# pip install -U sentence-transformers\n",
    "from sentence_transformers import SentenceTransformer\n",
    "from sklearn.metrics.pairwise import cosine_similarity"
   ]
  },
  {
   "cell_type": "code",
   "execution_count": null,
   "metadata": {},
   "outputs": [],
   "source": [
    "from similarity.MiniLM import MiniLM"
   ]
  },
  {
   "cell_type": "code",
   "execution_count": null,
   "metadata": {},
   "outputs": [],
   "source": [
    "# Initialize the SentenceTransformer model\n",
    "model = SentenceTransformer('sentence-transformers/all-MiniLM-L6-v2')\n",
    "\n",
    "# Calculate embeddings for the texts\n",
    "embeddings = model.encode(texts)"
   ]
  }
 ],
 "metadata": {
  "language_info": {
   "name": "python"
  }
 },
 "nbformat": 4,
 "nbformat_minor": 2
}
